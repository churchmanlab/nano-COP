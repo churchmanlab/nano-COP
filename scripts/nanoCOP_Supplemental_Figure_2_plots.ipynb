{
 "cells": [
  {
   "cell_type": "code",
   "execution_count": null,
   "metadata": {},
   "outputs": [],
   "source": [
    "\"\"\"\n",
    "\n",
    "Date : August 1, 2019\n",
    "\n",
    "Author : Heather Landry Drexler\n",
    "\n",
    "This script will develop plots for Supplemental Figure 2 of the nanoCOP manuscript. \n",
    "                                            \n",
    "\n",
    "\"\"\""
   ]
  },
  {
   "cell_type": "code",
   "execution_count": 1,
   "metadata": {},
   "outputs": [],
   "source": [
    "import numpy as np\n",
    "import pandas as pd\n",
    "import pysam\n",
    "import seaborn as sns\n",
    "sns.set_style(\"white\")\n",
    "\n",
    "import matplotlib.pyplot as plt\n",
    "import re\n",
    "% matplotlib inline\n",
    "\n",
    "import matplotlib.ticker as ticker\n",
    "from matplotlib.ticker import ScalarFormatter\n",
    "plt.rcParams['pdf.fonttype'] = 42\n",
    "plt.rcParams['ps.fonttype'] = 42\n",
    "\n",
    "import math\n",
    "from scipy import stats\n",
    "from scipy.stats import ttest_ind, ttest_ind_from_stats, chi2_contingency\n",
    "from scipy.special import stdtr\n",
    "\n",
    "import pybedtools\n",
    "from pybedtools import BedTool\n"
   ]
  },
  {
   "cell_type": "code",
   "execution_count": 2,
   "metadata": {},
   "outputs": [],
   "source": [
    "# function to label missing gene names with transcript names\n",
    "def name_missing_genes(row):\n",
    "    if pd.isnull(row['gene']):\n",
    "        return (row['transcript'])\n",
    "\n",
    "    else:\n",
    "        return (row['gene'])\n",
    "\n",
    "\n",
    "# output downsampled bed files for ONT correlation plots\n",
    "def get_downsampled_bamtobed(bamFile_A, bamFile_B):\n",
    "        \n",
    "    bedFile_A = bamFile_A.bam_to_bed(split=True) \n",
    "    bedFile_B = bamFile_B.bam_to_bed(split=True) \n",
    "\n",
    "    N = min(len(bedFile_A), len(bedFile_B))\n",
    "\n",
    "    downsampled_bedFile_A = bedFile_A.sample(n=N)\n",
    "    downsampled_bedFile_B = bedFile_B.sample(n=N)\n",
    "    \n",
    "    return downsampled_bedFile_A, downsampled_bedFile_B\n",
    "\n",
    "\n",
    "# output downsampled bed files for ONT correlation plots\n",
    "def get_replicate_coverage_df(bamFile_A, bamFile_B, genes_bed):\n",
    "        \n",
    "    read_bed_A, read_bed_B = get_downsampled_bamtobed(bamFile_A, bamFile_B)\n",
    "\n",
    "    # get number of reads that overlap each gene feature\n",
    "    coverage_A = genes_bed.coverage(read_bed_A, s=True, mean=True) \n",
    "    coverage_A_df = coverage_A.to_dataframe() \n",
    "    coverage_A_df.columns =['chrom','start','end','transcript','score','strand','gene','coverage'] # label columns\n",
    "    coverage_A_df = coverage_A_df[coverage_A_df['coverage']>0]\n",
    "\n",
    "    coverage_B = genes_bed.coverage(read_bed_B, s=True, mean=True) \n",
    "    coverage_B_df = coverage_B.to_dataframe() \n",
    "    coverage_B_df.columns =['chrom','start','end','transcript','score','strand','gene','coverage'] # label columns\n",
    "    coverage_B_df = coverage_B_df[coverage_B_df['coverage']>0]\n",
    "    \n",
    "    return coverage_A_df, coverage_B_df\n",
    "\n",
    "\n",
    "# output downsampled bed files for ONT correlation plots\n",
    "def get_coverage_df(bamFile, genes_bed):\n",
    "        \n",
    "    bedFile = bamFile.bam_to_bed(split=True) \n",
    "\n",
    "    # get number of reads that overlap each gene feature\n",
    "    coverage = genes_bed.coverage(bedFile, s=True, mean=True) \n",
    "    coverage_df = coverage.to_dataframe() \n",
    "    coverage_df.columns =['chrom','start','end','transcript','score','strand','gene','coverage'] # label columns\n",
    "    coverage_df['coverage'] = coverage_df['coverage'].replace(0, 0.0005)\n",
    "    \n",
    "    return coverage_df\n",
    "\n",
    "\n",
    "# output downsampled bed files for ONT correlation plots\n",
    "def get_counts_df(bamFile, genes_bed):\n",
    "        \n",
    "    bedFile = bamFile.bam_to_bed(split=False) \n",
    "\n",
    "    # get number of reads that overlap each gene feature\n",
    "    counts = genes_bed.coverage(bedFile, s=True, counts=True) \n",
    "    counts_df = counts.to_dataframe() \n",
    "    counts_df.columns =['chrom','start','end','transcript','score','strand','gene','counts'] # label columns\n",
    "    counts_df['counts'] = counts_df['counts'].replace(0, 0.2)\n",
    "    \n",
    "    return counts_df\n",
    "\n",
    "\n",
    "# determine gene counts per gene for ONT reads\n",
    "def get_ONT_gene_counts(gene_bed, read_bed):\n",
    "        \n",
    "    # get number of reads that overlap each gene feature\n",
    "    coverage = gene_bed.coverage(read_bed, s=True, counts=True) \n",
    "    \n",
    "    # make a dataframe from coverage file\n",
    "    df = coverage.to_dataframe() # covert to dataframe\n",
    "    df.columns =['chrom','start','end','transcript','score','strand','gene','count'] # label columns\n",
    "    df = df.drop_duplicates(subset=['chrom','start','end','strand']).reset_index(drop=True) # remove duplicate gene coords\n",
    "    \n",
    "    # get read counts per gene\n",
    "    freq = df['count'].value_counts() \n",
    "\n",
    "    return freq\n",
    "\n",
    "\n",
    "# determine gene counts per gene for ONT reads\n",
    "def get_ONT_gene_IDs(gene_bed, read_bed):\n",
    "        \n",
    "    # get number of reads that overlap each gene feature\n",
    "    coverage = gene_bed.coverage(read_bed, s=True, counts=True) \n",
    "    \n",
    "    # make a dataframe from coverage file\n",
    "    df = coverage.to_dataframe() # covert to dataframe\n",
    "    df.columns =['chrom','start','end','gene','score','strand','count'] # label columns\n",
    "    df = df.drop_duplicates(subset=['chrom','start','end','strand']).reset_index(drop=True) # remove duplicate gene coords\n",
    "    \n",
    "    # get read counts per gene\n",
    "    freq = df['count'].value_counts() \n",
    "\n",
    "    return freq\n",
    "\n",
    "\n",
    "# output downsampled bed files for ONT correlation plots\n",
    "def get_downsampled_bed(alignment_stats_df, downsample_N):\n",
    "        \n",
    "    downsampled_bedFile = alignment_stats_df.sample(n=downsample_N)\n",
    "    \n",
    "    return downsampled_bedFile\n",
    "\n",
    "\n",
    "# get alignment stats information from bamFile\n",
    "def get_alignment_stats(iBAM):\n",
    "\n",
    "    alignment_stats = []\n",
    "\n",
    "    # read in Bam file line by line\n",
    "    for read in iBAM:\n",
    "\n",
    "        # set variables to cigar string before summing\n",
    "        M = 0    # number of alignment matches\n",
    "        I = 0    # number of alignment insertions\n",
    "        D = 0    # number of alignment deletions\n",
    "        N = 0    # number of skipped nucleotdies from splicing\n",
    "        S = 0    # number of softclipped nucleotides\n",
    "        H = 0    # number of hardclipped nucleotides\n",
    "        P = 0\n",
    "        E = 0\n",
    "        X = 0\n",
    "        B = 0\n",
    "\n",
    "        # only record data if read is aligned \n",
    "        if(read.rname!=-1):\n",
    "\n",
    "            name = read.qname     # get read name  \n",
    "            cigar = read.cigar    # get cigar string for read \n",
    "\n",
    "            # get NM which details edit distance to reference genome\n",
    "            for i in range(0,len(read.tags)):\n",
    "                if(read.tags[i][0]=='NM'):\n",
    "                    NM=read.tags[i][1]\n",
    "\n",
    "            # sum up the number of matches for each representative \n",
    "            # letter in the cigar string\n",
    "            for i in range(0,len(cigar)):\n",
    "                if(cigar[i][0]==0):\n",
    "                    M = M + cigar[i][1]\n",
    "                if(cigar[i][0]==1):\n",
    "                    I = I + cigar[i][1]\n",
    "                if(cigar[i][0]==2):\n",
    "                    D = D + cigar[i][1]\n",
    "                if(cigar[i][0]==3):\n",
    "                    N = N + cigar[i][1]\n",
    "                if(cigar[i][0]==4):\n",
    "                    S = S + cigar[i][1]\n",
    "                if(cigar[i][0]==5):\n",
    "                    H = H + cigar[i][1]\n",
    "                if(cigar[i][0]==6):\n",
    "                    P = P + cigar[i][1]\n",
    "                if(cigar[i][0]==7):\n",
    "                    E = E + cigar[i][1]\n",
    "                if(cigar[i][0]==8):\n",
    "                    X = X + cigar[i][1]\n",
    "                if(cigar[i][0]==9):\n",
    "                    B = B + cigar[i][1]\n",
    "\n",
    "            readLength = M + I + S\n",
    "            alignLength = M + D\n",
    "            align_percent = float(M) / float(readLength) * 100.0\n",
    "            match_count = M + I - NM       \n",
    "            match_percent = float(match_count) / float(M + I) * 100.0\n",
    "            alignment_stats.append([read.qname,readLength,alignLength,align_percent,match_count,match_percent])\n",
    "    alignment_stats_df = pd.DataFrame(alignment_stats)\n",
    "    alignment_stats_df.columns = ['read','read_length','aligned_length','align_percent','match_count','match_percent']\n",
    "\n",
    "    iBAM.close()\n",
    "    \n",
    "    return alignment_stats_df\n",
    "\n",
    "\n",
    "def get_score_df(seq_bed_df, sample_num):\n",
    "    score = pd.DataFrame([[0 for y in range(4)] for x in range(4)])\n",
    "    score.columns = ['A','T','C','G']\n",
    "    score.index = ['A','T','C','G']\n",
    "\n",
    "    seq_bed_df = seq_bed_df.sample(n=sample_num)\n",
    "    \n",
    "    for i in range(0,len(seq_bed_df)):\n",
    "\n",
    "        cigar = seq_bed_df.iloc[i]['cigar_seq']\n",
    "        reference = seq_bed_df.iloc[i]['ref_seq']\n",
    "\n",
    "        if (len(cigar) != len(reference)):\n",
    "            print(\"ERROR: line \"+str(i))\n",
    "\n",
    "        if (len(cigar) == len(reference)):\n",
    "            for j in range(0,len(cigar)):\n",
    "                if ((cigar[j]!='N') & (reference[j]!='N')):\n",
    "                    score[cigar[j]][reference[j]] = score[cigar[j]][reference[j]] + 1\n",
    "                \n",
    "    return score\n",
    "\n",
    "\n",
    "def get_read_length_df(fastq):\n",
    "    count=0\n",
    "    readLength_list = []\n",
    "\n",
    "    for line in fastq:\n",
    "\n",
    "        count+=1\n",
    "\n",
    "        if (count%4==1):\n",
    "            name = line.split('@')[1].split(' ')[0]\n",
    "\n",
    "        if (count%4==2):\n",
    "            seq = line\n",
    "            read_length = len(line)\n",
    "\n",
    "        if (count%4==0):\n",
    "            readLength_list.append([name, read_length])\n",
    "\n",
    "    readLength_df = pd.DataFrame(readLength_list)\n",
    "    readLength_df.columns = ['name','length']\n",
    "\n",
    "    return readLength_df\n",
    "\n",
    "\n",
    "# determine gene counts per gene for ONT reads\n",
    "def get_read_number_at_genes(gene_bed, read_bed):\n",
    "        \n",
    "    # get number of reads that overlap each gene feature\n",
    "    coverage = gene_bed.coverage(read_bed, s=True, counts=True) \n",
    "    \n",
    "    # make a dataframe from coverage file\n",
    "    df = coverage.to_dataframe() # covert to dataframe\n",
    "    df.columns =['chrom','start','end','transcript','score','strand','gene','count'] # label columns\n",
    "    df = df.drop_duplicates(subset=['chrom','start','end','strand']).reset_index(drop=True) # remove duplicate gene coords\n",
    "\n",
    "    return df\n",
    "\n",
    "\n",
    "# function to label missing gene names with transcript names\n",
    "def get_gene_count_percent(read_counts):\n",
    "    \n",
    "    percent_list = []\n",
    "\n",
    "    for i in range(0,len(read_counts)):\n",
    "        \n",
    "        total_percent = np.sum(read_counts[:i+1]['percent'])\n",
    "        \n",
    "        percent_list.append(total_percent)\n",
    "    \n",
    "    percent_df = pd.DataFrame(percent_list)\n",
    "    read_counts['percent_sum'] = percent_df\n",
    "    \n",
    "    return read_counts\n"
   ]
  },
  {
   "cell_type": "code",
   "execution_count": 3,
   "metadata": {},
   "outputs": [],
   "source": [
    "# SUPPLEMENTAL FIGURE 2A - nano-COP K562 correlation plots\n",
    "\n",
    "# upload gene information as a BedTool for parsing\n",
    "hg38_genes_df = pd.read_csv('/path/to/annotation_files/NCBI_RefSeq_hg38_genes_parsed.bed',header=None, sep='\\t')\n",
    "hg38_genes_df = hg38_genes_df.drop([6,7,8,9,10,11], axis=1) # drop irrelevant columns from dataframe\n",
    "hg38_genes_df.columns = ['chrom','start','end','transcript','gene_length','strand']\n",
    "hg38_genes_df['gene_length'] = hg38_genes_df['end']-hg38_genes_df['start']\n",
    "hg38_genes_df['transcript'] = hg38_genes_df.apply(lambda row: row['transcript'].split('.')[0], axis=1)\n",
    "hg38_genes_df = hg38_genes_df.drop_duplicates(subset=['chrom','start','end','strand']).reset_index(drop=True)\n",
    "\n",
    "# get list of gene names for all transcripts\n",
    "hg38_names_df = pd.read_csv('/path/to/annotation_files/hg38_UCSC_refGene_names.txt', header=None, sep='\\t')\n",
    "hg38_names_df.columns = ['gene','transcript']\n",
    "\n",
    "hg38_genes_names_merge = pd.merge(hg38_genes_df, hg38_names_df, on=['transcript'], how='left')\n",
    "hg38_genes_names_merge['gene'] = hg38_genes_names_merge.apply(lambda row: name_missing_genes(row) , axis=1)\n",
    "hg38_genes_names_merge = hg38_genes_names_merge.sort_values(by='gene_length', ascending=False).reset_index(drop=True)\n",
    "hg38_genes_names_merge = hg38_genes_names_merge.drop_duplicates(subset=['gene'], keep='first').reset_index(drop=True)\n",
    "\n",
    "hg38_genes_names_merge = hg38_genes_names_merge.sort_values(by=['chrom','start','end'], ascending=True).reset_index(drop=True)\n",
    "\n",
    "# create a bed file for all unique genes\n",
    "hg38_genes_bed = BedTool.from_dataframe(hg38_genes_names_merge)\n",
    "\n",
    "# get K562 ONT coverage information for all replicates\n",
    "K562_rep1_bamFile = pybedtools.BedTool('/path/to/K562_4sUchr_ONT_1_hg38_minimap2_uniq_sort.bam')\n",
    "K562_rep2_bamFile = pybedtools.BedTool('/path/to/K562_4sUchr_ONT_2_hg38_minimap2_uniq_sort.bam')\n",
    "K562_rep3_bamFile = pybedtools.BedTool('/path/to/K562_4sUchr_ONT_3_hg38_minimap2_uniq_sort.bam')\n",
    "K562_rep4_bamFile = pybedtools.BedTool('/path/to/K562_4sUchr_ONT_4_hg38_minimap2_uniq_sort.bam')\n",
    "K562_rep5_bamFile = pybedtools.BedTool('/path/to/K562_4sUchr_ONT_5_hg38_minimap2_uniq_sort.bam') # This is the merged BAM file from replicates 5a and 5b\n",
    "\n"
   ]
  },
  {
   "cell_type": "code",
   "execution_count": 4,
   "metadata": {},
   "outputs": [],
   "source": [
    "# get number of reads that overlap each gene feature\n",
    "K562_rep1_counts_df = get_counts_df(K562_rep1_bamFile, hg38_genes_bed)\n",
    "K562_rep2_counts_df = get_counts_df(K562_rep2_bamFile, hg38_genes_bed)\n",
    "K562_rep3_counts_df = get_counts_df(K562_rep3_bamFile, hg38_genes_bed)\n",
    "K562_rep4_counts_df = get_counts_df(K562_rep4_bamFile, hg38_genes_bed)\n",
    "K562_rep5_counts_df = get_counts_df(K562_rep5_bamFile, hg38_genes_bed)\n",
    "\n",
    "#K562_rep1_N = int(len(K562_rep1_bamFile))\n",
    "#K562_rep2_N = int(len(K562_rep2_bamFile))\n",
    "#K562_rep3_N = int(len(K562_rep3_bamFile))\n",
    "\n",
    "K562_rep1_N = int(np.sum(K562_rep1_counts_df[K562_rep1_counts_df['counts']!=0.2]['counts']))\n",
    "K562_rep2_N = int(np.sum(K562_rep2_counts_df[K562_rep2_counts_df['counts']!=0.2]['counts']))\n",
    "K562_rep3_N = int(np.sum(K562_rep3_counts_df[K562_rep3_counts_df['counts']!=0.2]['counts']))\n",
    "K562_rep4_N = int(np.sum(K562_rep4_counts_df[K562_rep4_counts_df['counts']!=0.2]['counts']))\n",
    "K562_rep5_N = int(np.sum(K562_rep5_counts_df[K562_rep5_counts_df['counts']!=0.2]['counts']))\n"
   ]
  },
  {
   "cell_type": "code",
   "execution_count": 187,
   "metadata": {},
   "outputs": [
    {
     "data": {
      "image/png": "[encoded data removed]",
      "text/plain": [
       "<matplotlib.figure.Figure at 0x1a1eb1ac88>"
      ]
     },
     "metadata": {},
     "output_type": "display_data"
    }
   ],
   "source": [
    "# prepare a plot with correlations between ONT replicate datasets\n",
    "\n",
    "# make a correlation plot for all replicate samples\n",
    "fig, ((ax1, ax2), (ax3, ax4)) = plt.subplots(ncols=2, nrows=2, sharex=True, sharey=True, figsize=(5.25,5))\n",
    "\n",
    "# plot for rep 1 vs. rep 3\n",
    "merge = pd.merge(K562_rep1_counts_df,K562_rep2_counts_df,on=['gene'],how=\"inner\")\n",
    "A=np.log10(merge['counts_x'])\n",
    "B=np.log10(merge['counts_y'])\n",
    "\n",
    "ax1 = sns.regplot(x=A, y=B, scatter=True, color=sns.xkcd_rgb[\"medium blue\"], marker=\".\", \n",
    "                 scatter_kws={'alpha':0.01}, fit_reg=False, ax=ax1)\n",
    "ax1.set_xlabel('',fontsize=14)\n",
    "ax1.set_ylabel(\"K562 rep 2 \\n(N=\"+str(K562_rep2_N)+\")\",fontsize=14)\n",
    "pcor = np.corrcoef(A, B)[0, 1]\n",
    "ax1.text(-0.8,2.45,\"R = \"+str(round(pcor,3)),horizontalalignment='left',verticalalignment='bottom',fontsize=14)\n",
    "\n",
    "\n",
    "# plot for rep 1 vs. rep 3\n",
    "merge = pd.merge(K562_rep1_counts_df,K562_rep3_counts_df,on=['gene'],how=\"inner\")\n",
    "A=np.log10(merge['counts_x'])\n",
    "B=np.log10(merge['counts_y'])\n",
    "\n",
    "ax3 = sns.regplot(x=A, y=B, scatter=True, color=sns.xkcd_rgb[\"medium blue\"], marker=\".\", \n",
    "                 scatter_kws={'alpha':0.01}, fit_reg=False, ax=ax3)\n",
    "ax3.set_xlabel(\"K562 rep 1 \\n(N=\"+str(K562_rep1_N)+\")\",fontsize=14)\n",
    "ax3.set_ylabel(\"K562 rep 3 \\n(N=\"+str(K562_rep3_N)+\")\",fontsize=14)\n",
    "pcor = np.corrcoef(A, B)[0, 1]\n",
    "ax3.text(-0.8,2.45,\"R = \"+str(round(pcor,3)),horizontalalignment='left',verticalalignment='bottom',fontsize=14)\n",
    "\n",
    "\n",
    "# plot for rep 2 vs. rep 3\n",
    "merge = pd.merge(K562_rep2_counts_df,K562_rep3_counts_df,on=['gene'],how=\"inner\")\n",
    "A=np.log10(merge['counts_x'])\n",
    "B=np.log10(merge['counts_y'])\n",
    "\n",
    "ax4 = sns.regplot(x=A, y=B, scatter=True, color=sns.xkcd_rgb[\"medium blue\"], marker=\".\", \n",
    "                 scatter_kws={'alpha':0.01}, fit_reg=False, ax=ax4)\n",
    "ax4.set_xlabel(\"K562 rep 2 \\n(N=\"+str(K562_rep2_N)+\")\",fontsize=14)\n",
    "ax4.set_ylabel('',fontsize=14)\n",
    "pcor = np.corrcoef(A, B)[0, 1]\n",
    "ax4.text(-0.8,2.45,\"R = \"+str(round(pcor,3)),horizontalalignment='left',verticalalignment='bottom',fontsize=14)\n",
    "\n",
    "\n",
    "plt.xlim(-1,3.15)\n",
    "plt.ylim(-1,3.15)\n",
    "\n",
    "\n",
    "#x_labels = [\"1\",\"10\",\"$\\mathregular{10^{-3}}$\",\"$\\mathregular{10^{-1}}$\",\"$\\mathregular{10^{1}}$\"]\n",
    "x_labels = [\"0\",\"1\",\"10\",\"100\",\"1000\"]\n",
    "plt.xticks([np.log10(0.15),0,1,2,3], x_labels, fontsize=14)\n",
    "\n",
    "y_labels = [\"0\",\"1\",\"10\",\"100\",\"1000\"]\n",
    "plt.yticks([np.log10(0.15),0,1,2,3], y_labels, fontsize=14)\n",
    "\n",
    "ax1.tick_params(axis='both', which='both', labelsize=14, direction='out', left=\"on\", bottom=\"on\", length=5)\n",
    "ax2.tick_params(axis='both', which='both', labelsize=14, direction='out', left=\"on\", bottom=\"on\", length=5)\n",
    "ax3.tick_params(axis='both', which='both', labelsize=14, direction='out', left=\"on\", bottom=\"on\", length=5)\n",
    "ax4.tick_params(axis='both', which='both', labelsize=14, direction='out', left=\"on\", bottom=\"on\", length=5)\n",
    "\n",
    "plt.savefig('/path/to/Supplemental_Figure_2A_K562_ONT_vs_ONT_correlation_plot.pdf',\n",
    "            format='pdf', dpi=300, bbox_inches='tight')\n",
    "\n",
    "plt.tight_layout()\n",
    "plt.show()\n"
   ]
  },
  {
   "cell_type": "code",
   "execution_count": 4,
   "metadata": {},
   "outputs": [],
   "source": [
    "# SUPPLEMENTAL FIGURE 2B - nano-COP S2 correlation plots\n",
    "\n",
    "# get reads per gene for ONT sequencing datasets\n",
    "# upload gene information as a BedTool for parsing\n",
    "dm6_genes_df = pd.read_csv('/path/to/annotation_files/dm6_RefSeq_genes_parsed.bed',header=None, sep='\\t')\n",
    "#genes_df = genes_df.drop([6,7,8,9,10,11], axis=1) # drop irrelevant columns from dataframe\n",
    "dm6_genes_df.columns = ['chrom','start','end','transcript','gene_length','strand']\n",
    "dm6_genes_df['gene_length'] = dm6_genes_df['end']-dm6_genes_df['start']\n",
    "dm6_genes_df['transcript'] = dm6_genes_df.apply(lambda row: row['transcript'].split('.')[0], axis=1)\n",
    "dm6_genes_df = dm6_genes_df.drop_duplicates(subset=['chrom','start','end','strand']).reset_index(drop=True)\n",
    "\n",
    "# get list of gene names for all transcripts\n",
    "dm6_names_df = pd.read_csv('/path/to/annotation_files/dm6_RefSeq_names_parsed.txt', header=None, sep='\\t')\n",
    "dm6_names_df.columns = ['gene','transcript']\n",
    "\n",
    "dm6_genes_names_merge = pd.merge(dm6_genes_df, dm6_names_df, on=['transcript'], how='left')\n",
    "dm6_genes_names_merge['gene'] = dm6_genes_names_merge.apply(lambda row: name_missing_genes(row) , axis=1)\n",
    "dm6_genes_names_merge = dm6_genes_names_merge.sort_values(by='gene_length', ascending=False).reset_index(drop=True)\n",
    "dm6_genes_names_merge = dm6_genes_names_merge.drop_duplicates(subset=['gene'], keep='first').reset_index(drop=True)\n",
    "\n",
    "dm6_genes_names_merge = dm6_genes_names_merge.sort_values(by=['chrom','start','end'], ascending=True).reset_index(drop=True)\n",
    "dm6_genes_names_merge['chrom'] = 'chr'+dm6_genes_names_merge['chrom']\n",
    "\n",
    "# create a bed file for all unique genes\n",
    "dm6_genes_bed = BedTool.from_dataframe(dm6_genes_names_merge)\n",
    "\n",
    "\n",
    "# get S2 ONT coverage information for all replicates\n",
    "S2_rep1_bamFile = pybedtools.BedTool('/path/to/S2_4sUchr_ONT_1_dm6_minimap2_uniq_sort.bam')  # This is the merged BAM file from replicates 1a and 1b\n",
    "S2_rep2_bamFile = pybedtools.BedTool('/path/to/S2_4sUchr_ONT_2_dm6_minimap2_uniq_sort.bam')\n",
    "S2_rep3_bamFile = pybedtools.BedTool('/path/to/S2_4sUchr_ONT_3_dm6_minimap2_uniq_sort.bam')"
   ]
  },
  {
   "cell_type": "code",
   "execution_count": 5,
   "metadata": {},
   "outputs": [],
   "source": [
    "# get number of reads that overlap each gene feature\n",
    "S2_rep1_counts_df = get_counts_df(S2_rep1_bamFile, dm6_genes_bed)\n",
    "S2_rep2_counts_df = get_counts_df(S2_rep2_bamFile, dm6_genes_bed)\n",
    "S2_rep3_counts_df = get_counts_df(S2_rep3_bamFile, dm6_genes_bed)\n",
    "\n",
    "#S2_rep1_N = int(len(S2_rep1_bamFile))\n",
    "#S2_rep2_N = int(len(S2_rep2_bamFile))\n",
    "#S2_rep3_N = int(len(S2_rep3_bamFile))\n",
    "\n",
    "S2_rep1_N = int(np.sum(S2_rep1_counts_df[S2_rep1_counts_df['counts']!=0.2]['counts']))\n",
    "S2_rep2_N = int(np.sum(S2_rep2_counts_df[S2_rep2_counts_df['counts']!=0.2]['counts']))\n",
    "S2_rep3_N = int(np.sum(S2_rep3_counts_df[S2_rep3_counts_df['counts']!=0.2]['counts']))\n"
   ]
  },
  {
   "cell_type": "code",
   "execution_count": 189,
   "metadata": {},
   "outputs": [
    {
     "data": {
      "image/png": "[encoded data removed]",
      "text/plain": [
       "<matplotlib.figure.Figure at 0x1a1e6f4320>"
      ]
     },
     "metadata": {},
     "output_type": "display_data"
    }
   ],
   "source": [
    "# prepare a plot with correlations between ONT replicate datasets\n",
    "\n",
    "# make a correlation plot for all replicate samples\n",
    "fig, ((ax1, ax2), (ax3, ax4)) = plt.subplots(ncols=2, nrows=2, sharex=True, sharey=True, figsize=(5.25,5))\n",
    "\n",
    "# plot for rep 1 vs. rep 3\n",
    "merge = pd.merge(S2_rep1_counts_df,S2_rep2_counts_df,on=['gene'],how=\"inner\")\n",
    "A=np.log10(merge['counts_x'])\n",
    "B=np.log10(merge['counts_y'])\n",
    "\n",
    "ax1 = sns.regplot(x=A, y=B, scatter=True, color=sns.xkcd_rgb[\"medium blue\"], marker=\".\", \n",
    "                 scatter_kws={'alpha':0.01}, fit_reg=False, ax=ax1)\n",
    "ax1.set_xlabel('',fontsize=14)\n",
    "ax1.set_ylabel(\"S2 rep 2 \\n(N=\"+str(S2_rep2_N)+\")\",fontsize=14)\n",
    "pcor = np.corrcoef(A, B)[0, 1]\n",
    "ax1.text(-0.8,2.45,\"R = \"+str(round(pcor,3)),horizontalalignment='left',verticalalignment='bottom',fontsize=14)\n",
    "\n",
    "\n",
    "# plot for rep 1 vs. rep 3\n",
    "merge = pd.merge(S2_rep1_counts_df,S2_rep3_counts_df,on=['gene'],how=\"inner\")\n",
    "A=np.log10(merge['counts_x'])\n",
    "B=np.log10(merge['counts_y'])\n",
    "\n",
    "ax3 = sns.regplot(x=A, y=B, scatter=True, color=sns.xkcd_rgb[\"medium blue\"], marker=\".\", \n",
    "                 scatter_kws={'alpha':0.01}, fit_reg=False, ax=ax3)\n",
    "ax3.set_xlabel(\"S2 rep 1 \\n(N=\"+str(S2_rep1_N)+\")\",fontsize=14)\n",
    "ax3.set_ylabel(\"S2 rep 3 \\n(N=\"+str(S2_rep3_N)+\")\",fontsize=14)\n",
    "pcor = np.corrcoef(A, B)[0, 1]\n",
    "ax3.text(-0.8,2.45,\"R = \"+str(round(pcor,3)),horizontalalignment='left',verticalalignment='bottom',fontsize=14)\n",
    "\n",
    "\n",
    "# plot for rep 2 vs. rep 3\n",
    "merge = pd.merge(S2_rep2_counts_df,S2_rep3_counts_df,on=['gene'],how=\"inner\")\n",
    "A=np.log10(merge['counts_x'])\n",
    "B=np.log10(merge['counts_y'])\n",
    "\n",
    "ax4 = sns.regplot(x=A, y=B, scatter=True, color=sns.xkcd_rgb[\"medium blue\"], marker=\".\", \n",
    "                 scatter_kws={'alpha':0.01}, fit_reg=False, ax=ax4)\n",
    "ax4.set_xlabel(\"S2 rep 2 \\n(N=\"+str(S2_rep2_N)+\")\",fontsize=14)\n",
    "ax4.set_ylabel('',fontsize=14)\n",
    "pcor = np.corrcoef(A, B)[0, 1]\n",
    "ax4.text(-0.8,2.45,\"R = \"+str(round(pcor,3)),horizontalalignment='left',verticalalignment='bottom',fontsize=14)\n",
    "\n",
    "\n",
    "plt.xlim(-1,3.15)\n",
    "plt.ylim(-1,3.15)\n",
    "\n",
    "\n",
    "#x_labels = [\"1\",\"10\",\"$\\mathregular{10^{-3}}$\",\"$\\mathregular{10^{-1}}$\",\"$\\mathregular{10^{1}}$\"]\n",
    "x_labels = [\"0\",\"1\",\"10\",\"100\",\"1000\"]\n",
    "plt.xticks([np.log10(0.15),0,1,2,3], x_labels, fontsize=14)\n",
    "\n",
    "y_labels = [\"0\",\"1\",\"10\",\"100\",\"1000\"]\n",
    "plt.yticks([np.log10(0.15),0,1,2,3], y_labels, fontsize=14)\n",
    "\n",
    "ax1.tick_params(axis='both', which='both', labelsize=14, direction='out', left=\"on\", bottom=\"on\", length=5)\n",
    "ax2.tick_params(axis='both', which='both', labelsize=14, direction='out', left=\"on\", bottom=\"on\", length=5)\n",
    "ax3.tick_params(axis='both', which='both', labelsize=14, direction='out', left=\"on\", bottom=\"on\", length=5)\n",
    "ax4.tick_params(axis='both', which='both', labelsize=14, direction='out', left=\"on\", bottom=\"on\", length=5)\n",
    "\n",
    "plt.savefig('/path/to/Supplemental_Figure_2B_S2_ONT_vs_ONT_correlation_plot.pdf',\n",
    "            format='pdf', dpi=300, bbox_inches='tight')\n",
    "\n",
    "plt.tight_layout()\n",
    "plt.show()\n"
   ]
  },
  {
   "cell_type": "code",
   "execution_count": null,
   "metadata": {},
   "outputs": [],
   "source": []
  },
  {
   "cell_type": "code",
   "execution_count": 24,
   "metadata": {},
   "outputs": [],
   "source": [
    "# SUPPLEMENTAL FIGURE 2I - Illumina vs. ONT correlation plots\n",
    "\n",
    "# get K562 ONT coverage information for both replicates\n",
    "ONT_bamFile = pybedtools.BedTool('/path/to/all_K562_hg38_minimap2_uniq_sort.bam') # This is a merged BAM file from all K562 replicates\n",
    "\n",
    "ONT_bedFile = ONT_bamFile.bam_to_bed(split=True) \n",
    "\n",
    "ONT_coverage = hg38_genes_bed.coverage(ONT_bedFile, s=True, mean=True) \n",
    "ONT_coverage_df = ONT_coverage.to_dataframe() \n",
    "ONT_coverage_df.columns =['chrom','start','end','transcript','score','strand','gene','coverage'] # label columns\n",
    "\n",
    "# get coverage information for both Illumina sequencing dataset\n",
    "Ill_R1_bamFile = pybedtools.BedTool('/path/to/K562_4sUchr_1_R1_Aligned.sortedByCoord.out.uniq.bam')\n",
    "\n",
    "Ill_R1_bedFile = Ill_R1_bamFile.bam_to_bed(split=True) \n",
    "\n",
    "Ill_R1_coverage = genes_bed.coverage(Ill_R1_bedFile, s=True, mean=True) \n",
    "Ill_R1_coverage_df = Ill_R1_coverage.to_dataframe() \n",
    "Ill_R1_coverage_df.columns =['chrom','start','end','transcript','score','strand','gene','coverage'] # label columns\n",
    "\n",
    "ONT_coverage_df2 = ONT_coverage_df[ONT_coverage_df['coverage']>0]\n",
    "Ill_R1_coverage_df2 = Ill_R1_coverage_df[Ill_R1_coverage_df['coverage']>0]\n",
    "\n"
   ]
  },
  {
   "cell_type": "code",
   "execution_count": 25,
   "metadata": {},
   "outputs": [
    {
     "data": {
      "image/png": "[encoded data removed]",
      "text/plain": [
       "<matplotlib.figure.Figure at 0x1a178e2080>"
      ]
     },
     "metadata": {},
     "output_type": "display_data"
    }
   ],
   "source": [
    "# prepare a plot with correlations between ONT replicate datasets\n",
    "\n",
    "# make a correlation plot for all replicate samples\n",
    "fig, ax = plt.subplots(figsize=(3.3,3.3))\n",
    "\n",
    "# plot for ONT vs. ONT RNA sample\n",
    "merge = pd.merge(ONT_coverage_df2,Ill_R1_coverage_df2,on=['gene'],how=\"inner\")\n",
    "A=np.log10(merge['coverage_x'])\n",
    "B=np.log10(merge['coverage_y'])\n",
    "\n",
    "ax = sns.regplot(x=A, y=B, scatter=True, color=sns.xkcd_rgb[\"medium blue\"], marker=\".\", scatter_kws={'alpha':0.01}, fit_reg=False)\n",
    "ax.set_xlabel('ONT read coverage',fontsize=16)\n",
    "ax.set_ylabel('Illumina read coverage',fontsize=16)\n",
    "pcor = np.corrcoef(A, B)[0, 1]\n",
    "ax.text(2,-2,\"R = \"+str(round(pcor,3)),horizontalalignment='right',verticalalignment='bottom',fontsize=16)\n",
    "\n",
    "plt.xlim(-3.25,2.25)\n",
    "plt.ylim(-2.25,2.25)\n",
    "\n",
    "x_labels = [\"$\\mathregular{10^{-2}}$\",\"$\\mathregular{10^{0}}$\",\"$\\mathregular{10^{2}}$\"]\n",
    "plt.xticks([-2,0,2], x_labels, fontsize=14)\n",
    "\n",
    "y_labels = [\"$\\mathregular{10^{-2}}$\",\"$\\mathregular{10^{0}}$\",\"$\\mathregular{10^{2}}$\"]\n",
    "plt.yticks([-2,0,2], y_labels, fontsize=14)\n",
    "\n",
    "ax.tick_params(axis='both', which='both', labelsize=14, direction='out', left=\"on\", bottom=\"on\", length=5)\n",
    "\n",
    "\n",
    "plt.savefig('/path/to/Supplemental_Figure_2I_ONT_vs_Ill_correlation_plot_2.pdf', \n",
    "           format='pdf', dpi=300, bbox_inches='tight')\n",
    "\n",
    "\n",
    "plt.show()\n"
   ]
  },
  {
   "cell_type": "code",
   "execution_count": 8,
   "metadata": {},
   "outputs": [],
   "source": [
    "\n"
   ]
  },
  {
   "cell_type": "code",
   "execution_count": 5,
   "metadata": {},
   "outputs": [],
   "source": [
    "# SUPPLEMENTAL FIGURE 2G - nano-COP read counts per gene\n",
    "\n",
    "# get reads per gene for ONT sequencing datasets\n",
    "# upload gene information as a BedTool for parsing\n",
    "genes_df = pd.read_table('/path/to/annotation_files/NCBI_RefSeq_hg38_genes_parsed.bed',header=None)\n",
    "genes_df = genes_df.drop([6,7,8,9,10,11], axis=1) # drop irrelevant columns from dataframe\n",
    "genes_df.columns = ['chrom','start','end','transcript','gene_length','strand']\n",
    "genes_df['gene_length'] = genes_df['end']-genes_df['start']\n",
    "genes_df['transcript'] = genes_df.apply(lambda row: row['transcript'].split('.')[0], axis=1)\n",
    "genes_df = genes_df.drop_duplicates(subset=['chrom','start','end','strand']).reset_index(drop=True)\n",
    "\n",
    "# get list of gene names for all transcripts\n",
    "names_df = pd.read_table('/path/to/annotation_files/hg38_UCSC_refGene_names.txt', header=None)\n",
    "names_df.columns = ['gene','transcript']\n",
    "\n",
    "genes_names_merge = pd.merge(genes_df, names_df, on=['transcript'], how='left')\n",
    "genes_names_merge['gene'] = genes_names_merge.apply(lambda row: name_missing_genes(row) , axis=1)\n",
    "genes_names_merge = genes_names_merge.sort_values(by='gene_length', ascending=False).reset_index(drop=True)\n",
    "genes_names_merge = genes_names_merge.drop_duplicates(subset=['gene'], keep='first').reset_index(drop=True)\n",
    "\n",
    "genes_names_merge = genes_names_merge.sort_values(by=['chrom','start','end'], ascending=True).reset_index(drop=True)\n",
    "#genes_names_merge['chrom'] = 'chr'+genes_names_merge['chrom']\n",
    "\n",
    "# create a bed file for all unique genes\n",
    "gene_bed = BedTool.from_dataframe(genes_names_merge)\n",
    "\n"
   ]
  },
  {
   "cell_type": "code",
   "execution_count": 6,
   "metadata": {},
   "outputs": [],
   "source": [
    "# get K562 ONT coverage information for all replicates\n",
    "K562_bamFile = pybedtools.BedTool('/path/to/all_K562_hg38_minimap2_uniq_sort.bam')\n",
    "K562_bedFile = K562_bamFile.bam_to_bed()\n",
    "\n",
    "K562_gene_freq = get_ONT_gene_counts(gene_bed, K562_bedFile)\n",
    "\n",
    "K562_gene_freq = K562_gene_freq[K562_gene_freq.index<100]\n"
   ]
  },
  {
   "cell_type": "code",
   "execution_count": 17,
   "metadata": {},
   "outputs": [
    {
     "data": {
      "image/png": "[encoded data removed]",
      "text/plain": [
       "<matplotlib.figure.Figure at 0x118b20ba8>"
      ]
     },
     "metadata": {},
     "output_type": "display_data"
    }
   ],
   "source": [
    "fig, ax = plt.subplots(figsize=(4,3.5))\n",
    "\n",
    "ax.bar(K562_gene_freq.index[1:],K562_gene_freq.values[1:])\n",
    "ax.set_xlim(-1.5,62.5)\n",
    "ax.set_xlabel(\"read counts per gene\", fontsize=16)\n",
    "ax.set_ylabel(\"number of genes\", fontsize=16)\n",
    "ax.tick_params(axis='both', which='both', labelsize=14, direction='out', left=\"on\", bottom=\"on\", length=5)\n",
    "\n",
    "plt.tight_layout()\n",
    "\n",
    "plt.savefig('/path/to/Supplemental_Figure_2G_K562_ONT_read_counts_per_gene_plot.pdf', \n",
    "           format='pdf', dpi=300, bbox_inches='tight')\n",
    "\n",
    "\n",
    "plt.show()\n"
   ]
  },
  {
   "cell_type": "code",
   "execution_count": 7,
   "metadata": {},
   "outputs": [],
   "source": [
    "# get number of reads that overlap each gene feature\n",
    "K562_coverage = gene_bed.coverage(K562_bedFile, s=True, counts=True) \n",
    "\n",
    "# make a dataframe from coverage file\n",
    "K562_df = K562_coverage.to_dataframe() # covert to dataframe\n",
    "K562_df.columns =['chrom','start','end','transcript','score','strand','gene','count'] # label columns\n",
    "K562_df = K562_df.drop_duplicates(subset=['chrom','start','end','strand']).reset_index(drop=True) # remove duplicate gene coords\n",
    "\n"
   ]
  },
  {
   "cell_type": "code",
   "execution_count": 8,
   "metadata": {},
   "outputs": [
    {
     "name": "stdout",
     "output_type": "stream",
     "text": [
      "Number of genes with coverage in K562 data: 13358\n"
     ]
    }
   ],
   "source": [
    "print(\"Number of genes with coverage in K562 data: \"+str(len(K562_df[K562_df['count']>0])))"
   ]
  },
  {
   "cell_type": "code",
   "execution_count": 9,
   "metadata": {},
   "outputs": [
    {
     "data": {
      "text/plain": [
       "1114380"
      ]
     },
     "execution_count": 9,
     "metadata": {},
     "output_type": "execute_result"
    }
   ],
   "source": [
    "np.sum(K562_df['count'])\n"
   ]
  },
  {
   "cell_type": "code",
   "execution_count": 10,
   "metadata": {},
   "outputs": [
    {
     "data": {
      "text/plain": [
       "count    19281.000000\n",
       "mean        57.796795\n",
       "std        148.777245\n",
       "min          0.000000\n",
       "25%          0.000000\n",
       "50%         11.000000\n",
       "75%         67.000000\n",
       "max      12426.000000\n",
       "Name: count, dtype: float64"
      ]
     },
     "execution_count": 10,
     "metadata": {},
     "output_type": "execute_result"
    }
   ],
   "source": [
    "K562_df['count'].describe()"
   ]
  },
  {
   "cell_type": "code",
   "execution_count": null,
   "metadata": {},
   "outputs": [],
   "source": []
  },
  {
   "cell_type": "code",
   "execution_count": 11,
   "metadata": {},
   "outputs": [
    {
     "data": {
      "image/png": "[encoded data removed]",
      "text/plain": [
       "<matplotlib.figure.Figure at 0x1a134e6ef0>"
      ]
     },
     "metadata": {},
     "output_type": "display_data"
    }
   ],
   "source": [
    "# SUPPLEMENTAL FIGURE 2H - nano-COP proportion of genes represented\n",
    "\n",
    "K562_read_counts = get_read_number_at_genes(gene_bed, K562_bedFile)\n",
    "K562_read_counts['percent'] = K562_read_counts['count'].astype(float)/float(np.sum(K562_read_counts['count']))\n",
    "K562_read_counts = K562_read_counts.sort_values(by='percent').reset_index(drop=True)\n",
    "K562_read_counts = get_gene_count_percent(K562_read_counts)\n",
    "\n",
    "fig, ax = plt.subplots(figsize=(4,3.3))\n",
    "\n",
    "K562_read_counts_reversed = K562_read_counts.iloc[::-1].reset_index(drop=True)\n",
    "\n",
    "ax = sns.lineplot(K562_read_counts_reversed.index, K562_read_counts_reversed['percent_sum'])\n",
    "\n",
    "plt.xticks(fontsize=16)\n",
    "plt.yticks([0.0,0.25,0.5,0.75,1.0], fontsize=16)\n",
    "\n",
    "plt.xlim(-250,20000)\n",
    "\n",
    "ax.tick_params(axis='both', which='both', labelsize=14, direction='out', left=\"on\", bottom=\"on\", length=5)\n",
    "ax.set_ylabel(\"fraction of reads\", fontsize=16)\n",
    "ax.set_xlabel(\"gene number\", fontsize=16)\n",
    "\n",
    "plt.savefig('/path/to/Supplemental_Figure_2H_allK562polyA_ONT_fraction_of_reads_per_gene_plot.pdf', \n",
    "           format='pdf', dpi=300, bbox_inches='tight')\n",
    "\n",
    "\n",
    "plt.show()"
   ]
  },
  {
   "cell_type": "code",
   "execution_count": 49,
   "metadata": {},
   "outputs": [
    {
     "name": "stdout",
     "output_type": "stream",
     "text": [
      "# of nano-COP reads in top 10% genes: 627707\n",
      "# of nano-COP reads in all genes: 1114380\n",
      "% nano-COP reads in top 10% expressed genes: 56.33%\n"
     ]
    }
   ],
   "source": [
    "# calculating top 10% by total counts per gene\n",
    "percent10=int(np.round(len(K562_read_counts)*0.1))\n",
    "top10_reads = np.sum(K562_read_counts[-percent10:]['count'])\n",
    "all_reads = np.sum(K562_read_counts['count'])\n",
    "\n",
    "print(\"# of nano-COP reads in top 10% genes: \"+str(top10_reads))\n",
    "print(\"# of nano-COP reads in all genes: \"+str(all_reads))\n",
    "\n",
    "print(\"% nano-COP reads in top 10% expressed genes: \"+str(np.round(top10_reads/all_reads*100,2))+\"%\")\n"
   ]
  },
  {
   "cell_type": "code",
   "execution_count": 50,
   "metadata": {},
   "outputs": [
    {
     "name": "stdout",
     "output_type": "stream",
     "text": [
      "# of nano-COP reads in top 10% genes: 329687\n",
      "# of nano-COP reads in all genes: 1114380\n",
      "% nano-COP reads in top 10% expressed genes: 29.58%\n"
     ]
    }
   ],
   "source": [
    "# calculating top 10% by total counts per gene length per gene\n",
    "K562_read_counts['coverage']=K562_read_counts['count']/(K562_read_counts['end']-K562_read_counts['start'])\n",
    "cutoff=K562_read_counts['coverage'].quantile(q=0.9)\n",
    "top10_reads = np.sum(K562_read_counts[K562_read_counts['coverage']>cutoff]['count'])\n",
    "all_reads = np.sum(K562_read_counts['count'])\n",
    "\n",
    "print(\"# of nano-COP reads in top 10% genes: \"+str(top10_reads))\n",
    "print(\"# of nano-COP reads in all genes: \"+str(all_reads))\n",
    "\n",
    "print(\"% nano-COP reads in top 10% expressed genes: \"+str(np.round(top10_reads/all_reads*100,2))+\"%\")\n"
   ]
  },
  {
   "cell_type": "code",
   "execution_count": null,
   "metadata": {},
   "outputs": [],
   "source": []
  },
  {
   "cell_type": "code",
   "execution_count": 6,
   "metadata": {},
   "outputs": [],
   "source": [
    "# SUPPLEMENTAL FIGURE 2C - nano-COP read match percent\n",
    "\n",
    "# download files for Supplemental Figure 2C-F\n",
    "\n",
    "# read in BAM file\n",
    "nascent_iBAM=pysam.Samfile(\"/path/to/all_K562_hg38_minimap2_uniq_sort.bam\", 'rb')\n",
    "UCSC_iBAM=pysam.Samfile(\"/path/to/RNA_consortium_data/UCSC_Run1_hg38_minimap2_uniq_sort.bam\", 'rb')\n",
    "Hopkins_iBAM=pysam.Samfile(\"/path/to/RNA_consortium_data/Hopkins_Run1_hg38_minimap2_uniq_sort.bam\", 'rb')\n",
    "\n",
    "# get alignment stats from bam file\n",
    "nascent_alignment_stats_df = get_alignment_stats(nascent_iBAM)\n",
    "UCSC_alignment_stats_df = get_alignment_stats(UCSC_iBAM)\n",
    "Hopkins_alignment_stats_df = get_alignment_stats(Hopkins_iBAM)\n",
    "\n",
    "# downsample all datasets for comparisons\n",
    "downsample_N = min(len(nascent_alignment_stats_df),len(UCSC_alignment_stats_df),len(Hopkins_alignment_stats_df))\n",
    "\n",
    "nascent_downsample = get_downsampled_bed(nascent_alignment_stats_df, downsample_N)\n",
    "UCSC_downsample = get_downsampled_bed(UCSC_alignment_stats_df, downsample_N)\n",
    "Hopkins_downsample = get_downsampled_bed(Hopkins_alignment_stats_df, downsample_N)\n"
   ]
  },
  {
   "cell_type": "code",
   "execution_count": 7,
   "metadata": {},
   "outputs": [
    {
     "data": {
      "image/png": "[encoded data removed]",
      "text/plain": [
       "<matplotlib.figure.Figure at 0x1a10fb7e10>"
      ]
     },
     "metadata": {},
     "output_type": "display_data"
    }
   ],
   "source": [
    "# match percent = (MD tag / Cigar M)\n",
    "# this is the 1 - (base mismatches / total bases that align to the genome)\n",
    "\n",
    "fig, ax = plt.subplots(figsize=(3.3,3.3))\n",
    "\n",
    "nascent_match = nascent_downsample[nascent_downsample['match_percent']>0]['match_percent'].values\n",
    "UCSC_match = UCSC_downsample[UCSC_downsample['match_percent']>0]['match_percent'].values\n",
    "Hopkins_match = Hopkins_downsample[Hopkins_downsample['match_percent']>0]['match_percent'].values\n",
    "\n",
    "ax = sns.distplot(UCSC_match, hist=False, kde_kws=dict(cumulative=True), color = sns.color_palette(\"Blues\")[3], bins=100, label='UCSC')\n",
    "sns.distplot(Hopkins_match, hist=False, kde_kws=dict(cumulative=True), color = sns.color_palette(\"Blues\")[5], bins=100, label='Hopkins')\n",
    "sns.distplot(nascent_match, hist=False, kde_kws=dict(cumulative=True), color = sns.color_palette(\"Greens\")[4], bins=100, label='nascent')\n",
    "\n",
    "x_labels = [\"0\",\"25\",\"50\",\"75\",\"100\"]\n",
    "plt.xticks([0,25,50,75,100], x_labels, fontsize=16)\n",
    "plt.yticks(fontsize=16)\n",
    "\n",
    "ax.tick_params(axis='both', which='both', labelsize=14, direction='out', left=\"on\", bottom=\"on\", length=5)\n",
    "ax.set_ylabel(\"read count\", fontsize=18)\n",
    "ax.set_xlabel(\"percent of read matching\", fontsize=18)\n",
    "ax.legend(fontsize=14)\n",
    "\n",
    "plt.savefig('/path/to/Supplemental_Figure_2C_alldRNA_matchPercent_cumdist_plot.pdf', \n",
    "           format='pdf', dpi=300, bbox_inches='tight')\n",
    "\n",
    "plt.show()"
   ]
  },
  {
   "cell_type": "code",
   "execution_count": 8,
   "metadata": {},
   "outputs": [
    {
     "name": "stdout",
     "output_type": "stream",
     "text": [
      "match percent differential: 2.917-3.102\n"
     ]
    }
   ],
   "source": [
    "nascent_Hopkins_dif = np.round(np.median(Hopkins_match)-np.median(nascent_match),3)\n",
    "nascent_UCSC_dif = np.round(np.median(UCSC_match)-np.median(nascent_match),3)\n",
    "\n",
    "print(\"match percent differential: \"+str(nascent_Hopkins_dif)+\"-\"+str(nascent_UCSC_dif))\n"
   ]
  },
  {
   "cell_type": "code",
   "execution_count": 9,
   "metadata": {},
   "outputs": [
    {
     "data": {
      "text/html": [
       "<div>\n",
       "<style>\n",
       "    .dataframe thead tr:only-child th {\n",
       "        text-align: right;\n",
       "    }\n",
       "\n",
       "    .dataframe thead th {\n",
       "        text-align: left;\n",
       "    }\n",
       "\n",
       "    .dataframe tbody tr th {\n",
       "        vertical-align: top;\n",
       "    }\n",
       "</style>\n",
       "<table border=\"1\" class=\"dataframe\">\n",
       "  <thead>\n",
       "    <tr style=\"text-align: right;\">\n",
       "      <th></th>\n",
       "      <th>name_1</th>\n",
       "      <th>name_2</th>\n",
       "      <th>KS valuet</th>\n",
       "      <th>p-value</th>\n",
       "    </tr>\n",
       "  </thead>\n",
       "  <tbody>\n",
       "    <tr>\n",
       "      <th>0</th>\n",
       "      <td>nascent</td>\n",
       "      <td>UCSC</td>\n",
       "      <td>-149.912569</td>\n",
       "      <td>0.000000e+00</td>\n",
       "    </tr>\n",
       "    <tr>\n",
       "      <th>1</th>\n",
       "      <td>nascent</td>\n",
       "      <td>Hopkins</td>\n",
       "      <td>-145.671629</td>\n",
       "      <td>0.000000e+00</td>\n",
       "    </tr>\n",
       "    <tr>\n",
       "      <th>2</th>\n",
       "      <td>UCSC</td>\n",
       "      <td>Hopkins</td>\n",
       "      <td>5.462831</td>\n",
       "      <td>4.690707e-08</td>\n",
       "    </tr>\n",
       "  </tbody>\n",
       "</table>\n",
       "</div>"
      ],
      "text/plain": [
       "    name_1   name_2   KS valuet       p-value\n",
       "0  nascent     UCSC -149.912569  0.000000e+00\n",
       "1  nascent  Hopkins -145.671629  0.000000e+00\n",
       "2     UCSC  Hopkins    5.462831  4.690707e-08"
      ]
     },
     "execution_count": 9,
     "metadata": {},
     "output_type": "execute_result"
    }
   ],
   "source": [
    "# T test statistics\n",
    "\n",
    "names = ['nascent','UCSC','Hopkins']\n",
    "\n",
    "stats_list = []\n",
    "\n",
    "for i in range(0,len(names)-1):\n",
    "    for j in range(i+1,len(names)):\n",
    "\n",
    "        name1=\"%s_downsample\" % names[i]\n",
    "        name2=\"%s_downsample\" % names[j]\n",
    "        \n",
    "        t, p = ttest_ind(eval(name1)['match_percent'],eval(name2)['match_percent'])\n",
    "        stats_list.append([names[i], names[j], t, p])\n",
    "\n",
    "        \n",
    "Ttest_stats_df = pd.DataFrame(stats_list)\n",
    "Ttest_stats_df.columns = ['name_1', 'name_2', 'KS valuet', 'p-value']\n",
    "\n",
    "Ttest_stats_df       \n"
   ]
  },
  {
   "cell_type": "code",
   "execution_count": null,
   "metadata": {},
   "outputs": [],
   "source": []
  },
  {
   "cell_type": "code",
   "execution_count": 5,
   "metadata": {
    "collapsed": true
   },
   "outputs": [],
   "source": [
    "# SUPPLEMENTAL FIGURE 2D - nano-COP confusion matrices\n",
    "\n",
    "# read in sequence matrix files - these were made with the script nanoCOP_confusion_matrices_datasets.ipynb\n",
    "\n",
    "Nascent_Run3_seq_df = pd.read_table('/path/to/nanoCOP_K562_3_confusion_matrix_seq_df.txt', \n",
    "                                    dtype={\"chrom\": str, \"start\": int, \"end\": int, \"cigar_seq\": str, \"cigar\": str, \"strand\": str, \"ref_seq\": str})\n",
    "\n",
    "UCSC_Run1_seq_df = pd.read_table('/path/to/UCSC_Run1_confusion_matrix_seq_df.txt', \n",
    "                                    dtype={\"chrom\": str, \"start\": int, \"end\": int, \"cigar_seq\": str, \"cigar\": str, \"strand\": str, \"ref_seq\": str})\n",
    "\n",
    "Hopkins_Run1_seq_df = pd.read_table('/path/to/Hopkins_Run1_confusion_matrix_seq_df.txt', \n",
    "                                    dtype={\"chrom\": str, \"start\": int, \"end\": int, \"cigar_seq\": str, \"cigar\": str, \"strand\": str, \"ref_seq\": str})\n"
   ]
  },
  {
   "cell_type": "code",
   "execution_count": 6,
   "metadata": {
    "collapsed": true
   },
   "outputs": [],
   "source": [
    "# get sequence bed file\n",
    "Nascent_Run3_score_df = get_score_df(Nascent_Run3_seq_df, 100000)\n",
    "Nascent_Run3_score_percent_df = Nascent_Run3_score_df.apply(lambda row: row.astype(float) / row.sum(axis=0), axis=1)\n"
   ]
  },
  {
   "cell_type": "code",
   "execution_count": 7,
   "metadata": {
    "collapsed": true
   },
   "outputs": [],
   "source": [
    "# get sequence bed file\n",
    "UCSC_Run1_score_df = get_score_df(UCSC_Run1_seq_df, 100000)\n",
    "UCSC_Run1_score_percent_df = UCSC_Run1_score_df.apply(lambda row: row.astype(float) / row.sum(axis=0), axis=1)\n"
   ]
  },
  {
   "cell_type": "code",
   "execution_count": 8,
   "metadata": {
    "collapsed": true
   },
   "outputs": [],
   "source": [
    "# get sequence bed file\n",
    "Hopkins_Run1_score_df = get_score_df(Hopkins_Run1_seq_df, 100000)\n",
    "Hopkins_Run1_score_percent_df = Hopkins_Run1_score_df.apply(lambda row: row.astype(float) / row.sum(axis=0), axis=1)\n"
   ]
  },
  {
   "cell_type": "code",
   "execution_count": 12,
   "metadata": {},
   "outputs": [
    {
     "data": {
      "image/png": "[encoded data removed]",
      "text/plain": [
       "<matplotlib.figure.Figure at 0x1c5e5e7810>"
      ]
     },
     "metadata": {},
     "output_type": "display_data"
    }
   ],
   "source": [
    "fig, ax = plt.subplots(figsize=(5,4))\n",
    "\n",
    "sns.heatmap(Nascent_Run3_score_percent_df, annot=True, center=0.50, annot_kws={\"size\": 14}, fmt='.1%', cmap='Spectral')\n",
    "\n",
    "plt.xlabel(\"read base\", fontsize=20)\n",
    "plt.ylabel(\"reference base\", fontsize=20)\n",
    "plt.tick_params(axis='both', labelsize=16)\n",
    "\n",
    "plt.title('Nascent', fontsize=20)\n",
    "\n",
    "plt.savefig('/path/to/Supplemental_Figure_2D_Nascent_Run3_confusion_matrix_plot.pdf', \n",
    "           format='pdf', dpi=300, bbox_inches='tight')\n",
    "\n",
    "plt.show()\n"
   ]
  },
  {
   "cell_type": "code",
   "execution_count": 13,
   "metadata": {},
   "outputs": [
    {
     "data": {
      "image/png": "[encoded data removed]",
      "text/plain": [
       "<matplotlib.figure.Figure at 0x1a0f709550>"
      ]
     },
     "metadata": {},
     "output_type": "display_data"
    }
   ],
   "source": [
    "fig, ax = plt.subplots(figsize=(5,4))\n",
    "\n",
    "sns.heatmap(UCSC_Run1_score_percent_df, annot=True, center=0.50, annot_kws={\"size\": 14}, fmt='.1%', cmap='Spectral')\n",
    "\n",
    "plt.xlabel(\"read base\", fontsize=20)\n",
    "plt.ylabel(\"reference base\", fontsize=20)\n",
    "plt.tick_params(axis='both', labelsize=16)\n",
    "\n",
    "plt.title('UCSC', fontsize=20)\n",
    "\n",
    "plt.savefig('/path/to/Supplemental_Figure_2D_UCSC_Run1_confusion_matrix_plot.pdf', \n",
    "           format='pdf', dpi=300, bbox_inches='tight')\n",
    "\n",
    "plt.show()\n"
   ]
  },
  {
   "cell_type": "code",
   "execution_count": 14,
   "metadata": {},
   "outputs": [
    {
     "data": {
      "image/png": "[encoded data removed]",
      "text/plain": [
       "<matplotlib.figure.Figure at 0x1a0b7ad1d0>"
      ]
     },
     "metadata": {},
     "output_type": "display_data"
    }
   ],
   "source": [
    "fig, ax = plt.subplots(figsize=(5,4))\n",
    "\n",
    "sns.heatmap(Hopkins_Run1_score_percent_df, annot=True, center=0.50, annot_kws={\"size\": 14}, fmt='.1%', cmap='Spectral')\n",
    "\n",
    "plt.xlabel(\"read base\", fontsize=20)\n",
    "plt.ylabel(\"reference base\", fontsize=20)\n",
    "plt.tick_params(axis='both', labelsize=16)\n",
    "\n",
    "plt.title('Hopkins', fontsize=20)\n",
    "\n",
    "plt.savefig('/path/to/Supplemental_Figure_2D_Hopkins_Run1_confusion_matrix_plot.pdf', \n",
    "           format='pdf', dpi=300, bbox_inches='tight')\n",
    "\n",
    "plt.show()\n"
   ]
  },
  {
   "cell_type": "code",
   "execution_count": null,
   "metadata": {},
   "outputs": [],
   "source": []
  },
  {
   "cell_type": "code",
   "execution_count": 39,
   "metadata": {},
   "outputs": [],
   "source": [
    "# SUPPLEMENTAL FIGURE 2E - nano-COP read length distributions\n",
    "\n",
    "# get fastq files\n",
    "nascent_fastq = open('/path/to/K562_4sUchr_ONT_3_basecall.fastq')\n",
    "UCSC_fastq = open('/path/to/RNA_consortium_data/UCSC_Run1_20170907_DirectRNA.pass.dedup.fastq')\n",
    "Hopkins_fastq = open('/path/to/RNA_consortium_data/Hopkins_Run1_20170928_DirectRNA.pass.dedup.fastq')\n",
    "\n",
    "# get read length dataframes for all samples\n",
    "nascent_read_length_df = get_read_length_df(nascent_fastq)\n",
    "UCSC_read_length_df = get_read_length_df(UCSC_fastq)\n",
    "Hopkins_read_length_df = get_read_length_df(Hopkins_fastq)\n"
   ]
  },
  {
   "cell_type": "code",
   "execution_count": 40,
   "metadata": {},
   "outputs": [
    {
     "data": {
      "image/png": "[encoded data removed]",
      "text/plain": [
       "<matplotlib.figure.Figure at 0x1a1712bdd8>"
      ]
     },
     "metadata": {},
     "output_type": "display_data"
    }
   ],
   "source": [
    "fig, ax = plt.subplots(figsize=(3.3,3.3))\n",
    "\n",
    "nascent_length = np.log10(nascent_read_length_df['length'].values)\n",
    "UCSC_length = np.log10(UCSC_read_length_df['length'].values)\n",
    "Hopkins_length = np.log10(Hopkins_read_length_df['length'].values)\n",
    "\n",
    "ax = sns.distplot(UCSC_length, hist=False, kde_kws=dict(cumulative=True), color = sns.color_palette(\"Blues\")[3], bins=100, label='UCSC')\n",
    "sns.distplot(Hopkins_length, hist=False, kde_kws=dict(cumulative=True), color = sns.color_palette(\"Blues\")[5], bins=100, label='Hopkins')\n",
    "sns.distplot(nascent_length, hist=False, kde_kws=dict(cumulative=True), color = sns.color_palette(\"Greens\")[4], bins=100, label='nascent')\n",
    "\n",
    "x_labels = [\"$\\mathregular{10^{2}}$\",\"$\\mathregular{10^{3}}$\",\"$\\mathregular{10^{4}}$\"]\n",
    "plt.xticks([2,3,4], x_labels, fontsize=16)\n",
    "plt.yticks(fontsize=16)\n",
    "\n",
    "ax.tick_params(axis='both', direction='out', length=5, width=1)\n",
    "ax.set_ylabel(\"read count\", fontsize=18)\n",
    "ax.set_xlabel(\"read length\", fontsize=18)\n",
    "ax.legend(loc=0, fontsize=14)\n",
    "\n",
    "plt.xlim(1.6,4.4)\n",
    "\n",
    "plt.savefig('/path/to/Supplemental_Figure_2E_ONT_dRNA_readlength_comparisons_cdf_plot.pdf', \n",
    "           format='pdf', dpi=300, bbox_inches='tight')\n",
    "\n",
    "plt.show()\n"
   ]
  },
  {
   "cell_type": "code",
   "execution_count": 45,
   "metadata": {},
   "outputs": [
    {
     "name": "stdout",
     "output_type": "stream",
     "text": [
      "length differential: 95.0-164.0\n"
     ]
    }
   ],
   "source": [
    "nascent_Hopkins_dif = np.round(np.median(Hopkins_read_length_df['length'])-np.median(nascent_read_length_df['length']),3)\n",
    "nascent_UCSC_dif = np.round(np.median(UCSC_read_length_df['length'])-np.median(nascent_read_length_df['length']),3)\n",
    "\n",
    "print(\"length differential: \"+str(nascent_Hopkins_dif)+\"-\"+str(nascent_UCSC_dif))\n"
   ]
  },
  {
   "cell_type": "code",
   "execution_count": 46,
   "metadata": {},
   "outputs": [
    {
     "data": {
      "text/html": [
       "<div>\n",
       "<style>\n",
       "    .dataframe thead tr:only-child th {\n",
       "        text-align: right;\n",
       "    }\n",
       "\n",
       "    .dataframe thead th {\n",
       "        text-align: left;\n",
       "    }\n",
       "\n",
       "    .dataframe tbody tr th {\n",
       "        vertical-align: top;\n",
       "    }\n",
       "</style>\n",
       "<table border=\"1\" class=\"dataframe\">\n",
       "  <thead>\n",
       "    <tr style=\"text-align: right;\">\n",
       "      <th></th>\n",
       "      <th>name_1</th>\n",
       "      <th>name_2</th>\n",
       "      <th>KS valuet</th>\n",
       "      <th>p-value</th>\n",
       "    </tr>\n",
       "  </thead>\n",
       "  <tbody>\n",
       "    <tr>\n",
       "      <th>0</th>\n",
       "      <td>nascent</td>\n",
       "      <td>UCSC</td>\n",
       "      <td>-150.691265</td>\n",
       "      <td>0.000000e+00</td>\n",
       "    </tr>\n",
       "    <tr>\n",
       "      <th>1</th>\n",
       "      <td>nascent</td>\n",
       "      <td>Hopkins</td>\n",
       "      <td>-146.002858</td>\n",
       "      <td>0.000000e+00</td>\n",
       "    </tr>\n",
       "    <tr>\n",
       "      <th>2</th>\n",
       "      <td>UCSC</td>\n",
       "      <td>Hopkins</td>\n",
       "      <td>5.881820</td>\n",
       "      <td>4.063244e-09</td>\n",
       "    </tr>\n",
       "  </tbody>\n",
       "</table>\n",
       "</div>"
      ],
      "text/plain": [
       "    name_1   name_2   KS valuet       p-value\n",
       "0  nascent     UCSC -150.691265  0.000000e+00\n",
       "1  nascent  Hopkins -146.002858  0.000000e+00\n",
       "2     UCSC  Hopkins    5.881820  4.063244e-09"
      ]
     },
     "execution_count": 46,
     "metadata": {},
     "output_type": "execute_result"
    }
   ],
   "source": [
    "# T test statistics\n",
    "\n",
    "names = ['nascent','UCSC','Hopkins']\n",
    "\n",
    "stats_list = []\n",
    "\n",
    "for i in range(0,len(names)-1):\n",
    "    for j in range(i+1,len(names)):\n",
    "\n",
    "        name1=\"%s_downsample\" % names[i]\n",
    "        name2=\"%s_downsample\" % names[j]\n",
    "        \n",
    "        t, p = ttest_ind(eval(name1)['match_percent'],eval(name2)['match_percent'])\n",
    "        stats_list.append([names[i], names[j], t, p])\n",
    "\n",
    "        \n",
    "Ttest_stats_df = pd.DataFrame(stats_list)\n",
    "Ttest_stats_df.columns = ['name_1', 'name_2', 'KS valuet', 'p-value']\n",
    "\n",
    "Ttest_stats_df       \n"
   ]
  },
  {
   "cell_type": "code",
   "execution_count": null,
   "metadata": {},
   "outputs": [],
   "source": []
  },
  {
   "cell_type": "code",
   "execution_count": null,
   "metadata": {
    "collapsed": true
   },
   "outputs": [],
   "source": [
    "# Supplemenatl Fig 2F"
   ]
  },
  {
   "cell_type": "code",
   "execution_count": 13,
   "metadata": {
    "collapsed": true
   },
   "outputs": [],
   "source": [
    "# get fastq files\n",
    "K562_1_fastq = open('/path/to/K562_4sUchr_ONT_1_basecall.fastq')\n",
    "K562_2_fastq = open('/path/to/K562_4sUchr_ONT_2_basecall.fastq')\n",
    "K562_3_fastq = open('/path/to/K562_4sUchr_ONT_3_basecall.fastq')\n",
    "\n",
    "S2_1a_fastq = open('/path/to/S2_4sUchr_ONT_1a_basecall.fastq')\n",
    "S2_1b_fastq = open('/path/to/S2_4sUchr_ONT_1b_basecall.fastq')\n",
    "S2_2_fastq = open('/path/to/S2_4sUchr_ONT_2_basecall.fastq')\n",
    "S2_3_fastq = open('/path/to/S2_4sUchr_ONT_3_basecall.fastq')\n",
    "\n",
    "# get read length dataframes for all samples\n",
    "K562_1_read_length_df = get_read_length_df(K562_1_fastq)\n",
    "K562_2_read_length_df = get_read_length_df(K562_2_fastq)\n",
    "K562_3_read_length_df = get_read_length_df(K562_3_fastq)\n",
    "\n",
    "S2_1a_read_length_df = get_read_length_df(S2_1a_fastq)\n",
    "S2_1b_read_length_df = get_read_length_df(S2_1b_fastq)\n",
    "S2_2_read_length_df = get_read_length_df(S2_2_fastq)\n",
    "S2_3_read_length_df = get_read_length_df(S2_3_fastq)\n"
   ]
  },
  {
   "cell_type": "code",
   "execution_count": 14,
   "metadata": {},
   "outputs": [
    {
     "data": {
      "text/plain": [
       "count    165537.000000\n",
       "mean        813.130551\n",
       "std         580.400204\n",
       "min          12.000000\n",
       "25%         405.000000\n",
       "50%         666.000000\n",
       "75%        1063.000000\n",
       "max        7162.000000\n",
       "Name: length, dtype: float64"
      ]
     },
     "execution_count": 14,
     "metadata": {},
     "output_type": "execute_result"
    }
   ],
   "source": [
    "K562_1_read_length_df['length'].describe()"
   ]
  },
  {
   "cell_type": "code",
   "execution_count": 15,
   "metadata": {},
   "outputs": [
    {
     "data": {
      "text/plain": [
       "count    29640.000000\n",
       "mean       807.007018\n",
       "std        578.103322\n",
       "min         11.000000\n",
       "25%        410.000000\n",
       "50%        648.000000\n",
       "75%       1033.000000\n",
       "max       7420.000000\n",
       "Name: length, dtype: float64"
      ]
     },
     "execution_count": 15,
     "metadata": {},
     "output_type": "execute_result"
    }
   ],
   "source": [
    "K562_2_read_length_df['length'].describe()"
   ]
  },
  {
   "cell_type": "code",
   "execution_count": 16,
   "metadata": {
    "scrolled": true
   },
   "outputs": [
    {
     "data": {
      "text/plain": [
       "count    214571.000000\n",
       "mean        827.233168\n",
       "std         568.192090\n",
       "min          16.000000\n",
       "25%         427.000000\n",
       "50%         679.000000\n",
       "75%        1063.000000\n",
       "max        6972.000000\n",
       "Name: length, dtype: float64"
      ]
     },
     "execution_count": 16,
     "metadata": {},
     "output_type": "execute_result"
    }
   ],
   "source": [
    "K562_3_read_length_df['length'].describe()"
   ]
  },
  {
   "cell_type": "code",
   "execution_count": 17,
   "metadata": {},
   "outputs": [
    {
     "data": {
      "text/plain": [
       "count    131754.000000\n",
       "mean        640.522717\n",
       "std         446.149372\n",
       "min          15.000000\n",
       "25%         341.000000\n",
       "50%         508.000000\n",
       "75%         806.000000\n",
       "max        8242.000000\n",
       "Name: length, dtype: float64"
      ]
     },
     "execution_count": 17,
     "metadata": {},
     "output_type": "execute_result"
    }
   ],
   "source": [
    "S2_1a_read_length_df['length'].describe()"
   ]
  },
  {
   "cell_type": "code",
   "execution_count": 18,
   "metadata": {},
   "outputs": [
    {
     "data": {
      "text/plain": [
       "count    122068.000000\n",
       "mean        623.825786\n",
       "std         423.804737\n",
       "min          22.000000\n",
       "25%         338.000000\n",
       "50%         500.000000\n",
       "75%         787.000000\n",
       "max        6481.000000\n",
       "Name: length, dtype: float64"
      ]
     },
     "execution_count": 18,
     "metadata": {},
     "output_type": "execute_result"
    }
   ],
   "source": [
    "S2_1b_read_length_df['length'].describe()"
   ]
  },
  {
   "cell_type": "code",
   "execution_count": 19,
   "metadata": {},
   "outputs": [
    {
     "data": {
      "text/plain": [
       "count    238929.000000\n",
       "mean        544.682483\n",
       "std         377.373710\n",
       "min          18.000000\n",
       "25%         312.000000\n",
       "50%         418.000000\n",
       "75%         670.000000\n",
       "max       11264.000000\n",
       "Name: length, dtype: float64"
      ]
     },
     "execution_count": 19,
     "metadata": {},
     "output_type": "execute_result"
    }
   ],
   "source": [
    "S2_2_read_length_df['length'].describe()"
   ]
  },
  {
   "cell_type": "code",
   "execution_count": 20,
   "metadata": {
    "scrolled": true
   },
   "outputs": [
    {
     "data": {
      "text/plain": [
       "count    212880.000000\n",
       "mean        574.810508\n",
       "std         406.694401\n",
       "min          22.000000\n",
       "25%         322.000000\n",
       "50%         439.000000\n",
       "75%         709.000000\n",
       "max       11664.000000\n",
       "Name: length, dtype: float64"
      ]
     },
     "execution_count": 20,
     "metadata": {},
     "output_type": "execute_result"
    }
   ],
   "source": [
    "S2_3_read_length_df['length'].describe()"
   ]
  },
  {
   "cell_type": "code",
   "execution_count": 24,
   "metadata": {},
   "outputs": [],
   "source": [
    "# get fastq files from new K562 replicates\n",
    "K562_4_fastq = open('/path/to/K562_4sUchr_ONT_4_basecall.fastq')\n",
    "K562_5a_fastq = open('/path/to/K562_4sUchr_ONT_5a_basecall.fastq')\n",
    "K562_5b_fastq = open('/path/to/K562_4sUchr_ONT_5b_basecall.fastq')\n",
    "\n",
    "\n",
    "# get read length dataframes for all samples\n",
    "K562_4_read_length_df = get_read_length_df(K562_4_fastq)\n",
    "K562_5a_read_length_df = get_read_length_df(K562_5a_fastq)\n",
    "K562_5b_read_length_df = get_read_length_df(K562_5b_fastq)\n",
    "\n",
    "K562_5_read_length_df = pd.concat([K562_5a_read_length_df,K562_5b_read_length_df]).reset_index(drop=True)\n"
   ]
  },
  {
   "cell_type": "code",
   "execution_count": 29,
   "metadata": {},
   "outputs": [
    {
     "data": {
      "text/plain": [
       "count    792087.000000\n",
       "mean        747.839183\n",
       "std         716.898825\n",
       "min           2.000000\n",
       "25%         291.000000\n",
       "50%         542.000000\n",
       "75%         972.000000\n",
       "max       89564.000000\n",
       "Name: length, dtype: float64"
      ]
     },
     "execution_count": 29,
     "metadata": {},
     "output_type": "execute_result"
    }
   ],
   "source": [
    "K562_4_read_length_df['length'].describe()"
   ]
  },
  {
   "cell_type": "code",
   "execution_count": 31,
   "metadata": {},
   "outputs": [
    {
     "data": {
      "text/plain": [
       "count    398721.000000\n",
       "mean        620.768630\n",
       "std         591.241591\n",
       "min           2.000000\n",
       "25%         256.000000\n",
       "50%         468.000000\n",
       "75%         815.000000\n",
       "max       48603.000000\n",
       "Name: length, dtype: float64"
      ]
     },
     "execution_count": 31,
     "metadata": {},
     "output_type": "execute_result"
    }
   ],
   "source": [
    "K562_5a_read_length_df['length'].describe()"
   ]
  },
  {
   "cell_type": "code",
   "execution_count": 32,
   "metadata": {},
   "outputs": [
    {
     "data": {
      "text/plain": [
       "count    409848.000000\n",
       "mean        645.742953\n",
       "std         511.433627\n",
       "min           2.000000\n",
       "25%         299.000000\n",
       "50%         502.000000\n",
       "75%         829.000000\n",
       "max        8383.000000\n",
       "Name: length, dtype: float64"
      ]
     },
     "execution_count": 32,
     "metadata": {},
     "output_type": "execute_result"
    }
   ],
   "source": [
    "K562_5b_read_length_df['length'].describe()"
   ]
  },
  {
   "cell_type": "code",
   "execution_count": null,
   "metadata": {},
   "outputs": [],
   "source": []
  },
  {
   "cell_type": "code",
   "execution_count": null,
   "metadata": {},
   "outputs": [],
   "source": []
  }
 ],
 "metadata": {
  "kernelspec": {
   "display_name": "Python 3",
   "language": "python",
   "name": "python3"
  },
  "language_info": {
   "codemirror_mode": {
    "name": "ipython",
    "version": 3
   },
   "file_extension": ".py",
   "mimetype": "text/x-python",
   "name": "python",
   "nbconvert_exporter": "python",
   "pygments_lexer": "ipython3",
   "version": "3.6.3"
  }
 },
 "nbformat": 4,
 "nbformat_minor": 2
}
