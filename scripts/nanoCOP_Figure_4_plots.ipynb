{
 "cells": [
  {
   "cell_type": "code",
   "execution_count": null,
   "metadata": {},
   "outputs": [],
   "source": [
    "\"\"\"\n",
    "\n",
    "Date : August 1, 2019\n",
    "\n",
    "Author : Heather Landry Drexler\n",
    "\n",
    "This script will develop plots for Figure 4 of the nano-COP manuscript. \n",
    "\n",
    "This script requires the files produced by the script nanoCOP_intron_pairs_datasets.ipynb\n",
    "                                            \n",
    "\n",
    "\"\"\""
   ]
  },
  {
   "cell_type": "code",
   "execution_count": 1,
   "metadata": {},
   "outputs": [],
   "source": [
    "import numpy as np\n",
    "import pandas as pd\n",
    "import pysam\n",
    "from collections import Counter\n",
    "import seaborn as sns\n",
    "sns.set_style(\"white\")\n",
    "\n",
    "import matplotlib.pyplot as plt\n",
    "import re\n",
    "% matplotlib inline\n",
    "plt.rcParams['pdf.fonttype'] = 42\n",
    "plt.rcParams['ps.fonttype'] = 42\n",
    "\n",
    "import matplotlib.ticker as ticker\n",
    "from matplotlib.ticker import ScalarFormatter\n",
    "\n",
    "import math\n",
    "\n",
    "from scipy import stats\n",
    "from scipy.stats import ttest_ind, ttest_ind_from_stats, chi2_contingency\n",
    "from scipy.special import stdtr\n",
    "\n",
    "import pybedtools\n",
    "from pybedtools import BedTool"
   ]
  },
  {
   "cell_type": "code",
   "execution_count": 2,
   "metadata": {},
   "outputs": [],
   "source": [
    "# get the order of intron pairs in read junction dictionary\n",
    "def get_splicing_order_df(intron_pairs_df):\n",
    "    \n",
    "    splicing_order = []\n",
    "\n",
    "    pos_1st = len(intron_pairs_df[(intron_pairs_df['strand']==\"+\") & (intron_pairs_df['int1_splice']==\"YES\") & (intron_pairs_df['int2_splice']==\"NO\")])\n",
    "    pos_2nd = len(intron_pairs_df[(intron_pairs_df['strand']==\"+\") & (intron_pairs_df['int1_splice']==\"NO\") & (intron_pairs_df['int2_splice']==\"YES\")])\n",
    "\n",
    "    neg_1st = len(intron_pairs_df[(intron_pairs_df['strand']==\"-\") & (intron_pairs_df['int1_splice']==\"NO\") & (intron_pairs_df['int2_splice']==\"YES\")])\n",
    "    neg_2nd = len(intron_pairs_df[(intron_pairs_df['strand']==\"-\") & (intron_pairs_df['int1_splice']==\"YES\") & (intron_pairs_df['int2_splice']==\"NO\")])\n",
    "\n",
    "    all_yes = len(intron_pairs_df[(intron_pairs_df['int1_splice']==\"YES\") & (intron_pairs_df['int2_splice']==\"YES\")])\n",
    "    all_no = len(intron_pairs_df[(intron_pairs_df['int1_splice']==\"NO\") & (intron_pairs_df['int2_splice']==\"NO\")])\n",
    "    \n",
    "    all_1st = pos_1st + neg_1st\n",
    "    all_2nd = pos_2nd + neg_2nd\n",
    "    percent_1st = float(all_1st) / float(all_1st + all_2nd) * 100.0\n",
    "\n",
    "    splicing_order.append([all_yes,all_1st,all_2nd,all_no,percent_1st])\n",
    "\n",
    "    splicing_order_df = pd.DataFrame(splicing_order)\n",
    "    splicing_order_df.columns = ['yes_yes','yes_no','no_yes','no_no','percent_first']\n",
    "\n",
    "    return splicing_order_df\n",
    "\n",
    "\n",
    "def get_both_splicing_order_df(intron_pairs_df):\n",
    "    \n",
    "    splicing_order = []\n",
    "\n",
    "    pos_1st = len(intron_pairs_df[(intron_pairs_df['strand']==\"+\") & (intron_pairs_df['int1_splice']==\"YES\") & (intron_pairs_df['int2_splice']==\"NO\")])\n",
    "    pos_2nd = len(intron_pairs_df[(intron_pairs_df['strand']==\"+\") & (intron_pairs_df['int1_splice']==\"NO\") & (intron_pairs_df['int2_splice']==\"YES\")])\n",
    "\n",
    "    neg_1st = len(intron_pairs_df[(intron_pairs_df['strand']==\"-\") & (intron_pairs_df['int1_splice']==\"NO\") & (intron_pairs_df['int2_splice']==\"YES\")])\n",
    "    neg_2nd = len(intron_pairs_df[(intron_pairs_df['strand']==\"-\") & (intron_pairs_df['int1_splice']==\"YES\") & (intron_pairs_df['int2_splice']==\"NO\")])\n",
    "\n",
    "    all_yes = len(intron_pairs_df[(intron_pairs_df['int1_splice']==\"YES\") & (intron_pairs_df['int2_splice']==\"YES\")])\n",
    "    all_no = len(intron_pairs_df[(intron_pairs_df['int1_splice']==\"NO\") & (intron_pairs_df['int2_splice']==\"NO\")])\n",
    "    \n",
    "    all_1st = pos_1st + neg_1st\n",
    "    all_2nd = pos_2nd + neg_2nd\n",
    "    percent_1st = float(all_1st) / float(all_1st + all_2nd) * 100.0\n",
    "    percent_2nd = float(all_2nd) / float(all_1st + all_2nd) * 100.0\n",
    "\n",
    "    splicing_order.append(['first_spliced',percent_1st])\n",
    "    splicing_order.append(['second_spliced',percent_2nd])\n",
    "\n",
    "    splicing_order_df = pd.DataFrame(splicing_order)\n",
    "    splicing_order_df.columns = ['order','splicing_status']\n",
    "\n",
    "    return splicing_order_df"
   ]
  },
  {
   "cell_type": "code",
   "execution_count": 44,
   "metadata": {},
   "outputs": [],
   "source": [
    "# FIGURE 4B - global splicing order from intron pairs\n",
    "\n",
    "# upload files from directory\n",
    "K562_1_intron_pairs_df = pd.read_table(\"/path/to/K562_6_hg38_intron_pairs_df.txt\",header=0)\n",
    "K562_2_intron_pairs_df = pd.read_table(\"/path/to/K562_7_hg38_intron_pairs_df.txt\",header=0)\n",
    "K562_3_intron_pairs_df = pd.read_table(\"/path/to/K562_12_hg38_intron_pairs_df.txt\",header=0)\n",
    "K562_4_intron_pairs_df = pd.read_table(\"/path/to/K562_27_hg38_intron_pairs_df.txt\",header=0)\n",
    "K562_5a_intron_pairs_df = pd.read_table(\"/path/to/Pr1_hg38_intron_pairs_df.txt\",header=0)\n",
    "K562_5b_intron_pairs_df = pd.read_table(\"/path/to/Pr2_hg38_intron_pairs_df.txt\",header=0)\n",
    "K562_5_intron_pairs_df = pd.concat([K562_5a_intron_pairs_df,K562_5b_intron_pairs_df],axis=0)\n",
    "\n",
    "# upload files from directory\n",
    "S2_1a_intron_pairs_df = pd.read_table(\"/path/to/S2_1a_dm6_intron_pairs_df.txt\",header=0)\n",
    "S2_1b_intron_pairs_df = pd.read_table(\"/path/to/S2_1b_dm6_intron_pairs_df.txt\",header=0)\n",
    "S2_2_intron_pairs_df = pd.read_table(\"/path/to/S2_2_dm6_intron_pairs_df.txt\",header=0)\n",
    "S2_3_intron_pairs_df = pd.read_table(\"/path/to/S2_3_dm6_intron_pairs_df.txt\",header=0)\n",
    "S2_1_intron_pairs_df = pd.concat([S2_1a_intron_pairs_df,S2_1b_intron_pairs_df],axis=0)\n"
   ]
  },
  {
   "cell_type": "code",
   "execution_count": 14,
   "metadata": {},
   "outputs": [],
   "source": [
    "# get splicing order dataframe for K56 cells\n",
    "K562_1_splicing_order_counts = get_splicing_order_df(K562_1_intron_pairs_df)\n",
    "K562_2_splicing_order_counts = get_splicing_order_df(K562_2_intron_pairs_df)\n",
    "K562_3_splicing_order_counts = get_splicing_order_df(K562_3_intron_pairs_df)\n",
    "K562_4_splicing_order_counts = get_splicing_order_df(K562_4_intron_pairs_df)\n",
    "K562_5_splicing_order_counts = get_splicing_order_df(K562_5_intron_pairs_df)\n",
    "\n",
    "K562_splicing_order_counts = pd.concat([K562_1_splicing_order_counts,K562_2_splicing_order_counts,K562_3_splicing_order_counts,K562_4_splicing_order_counts,K562_5_splicing_order_counts]).reset_index(drop=True)\n",
    "K562_splicing_order_counts['name'] = ['Human','Human','Human','Human','Human']\n",
    "\n",
    "\n",
    "# get splicing order dataframe for S2 cells\n",
    "S2_1_splicing_order_counts = get_splicing_order_df(S2_1_intron_pairs_df)\n",
    "S2_2_splicing_order_counts = get_splicing_order_df(S2_2_intron_pairs_df)\n",
    "S2_3_splicing_order_counts = get_splicing_order_df(S2_3_intron_pairs_df)\n",
    "\n",
    "S2_splicing_order_counts = pd.concat([S2_1_splicing_order_counts,S2_2_splicing_order_counts,S2_3_splicing_order_counts])\n",
    "S2_splicing_order_counts['name'] = ['Drosophila','Drosophila','Drosophila']\n"
   ]
  },
  {
   "cell_type": "code",
   "execution_count": 57,
   "metadata": {},
   "outputs": [
    {
     "data": {
      "text/html": [
       "<div>\n",
       "<style>\n",
       "    .dataframe thead tr:only-child th {\n",
       "        text-align: right;\n",
       "    }\n",
       "\n",
       "    .dataframe thead th {\n",
       "        text-align: left;\n",
       "    }\n",
       "\n",
       "    .dataframe tbody tr th {\n",
       "        vertical-align: top;\n",
       "    }\n",
       "</style>\n",
       "<table border=\"1\" class=\"dataframe\">\n",
       "  <thead>\n",
       "    <tr style=\"text-align: right;\">\n",
       "      <th></th>\n",
       "      <th>yes_yes</th>\n",
       "      <th>yes_no</th>\n",
       "      <th>no_yes</th>\n",
       "      <th>no_no</th>\n",
       "      <th>percent_first</th>\n",
       "      <th>name</th>\n",
       "    </tr>\n",
       "  </thead>\n",
       "  <tbody>\n",
       "    <tr>\n",
       "      <th>0</th>\n",
       "      <td>1463</td>\n",
       "      <td>399</td>\n",
       "      <td>471</td>\n",
       "      <td>3517</td>\n",
       "      <td>45.862069</td>\n",
       "      <td>Human</td>\n",
       "    </tr>\n",
       "    <tr>\n",
       "      <th>1</th>\n",
       "      <td>415</td>\n",
       "      <td>89</td>\n",
       "      <td>107</td>\n",
       "      <td>710</td>\n",
       "      <td>45.408163</td>\n",
       "      <td>Human</td>\n",
       "    </tr>\n",
       "    <tr>\n",
       "      <th>2</th>\n",
       "      <td>2572</td>\n",
       "      <td>544</td>\n",
       "      <td>695</td>\n",
       "      <td>3396</td>\n",
       "      <td>43.906376</td>\n",
       "      <td>Human</td>\n",
       "    </tr>\n",
       "    <tr>\n",
       "      <th>3</th>\n",
       "      <td>2194</td>\n",
       "      <td>815</td>\n",
       "      <td>847</td>\n",
       "      <td>8174</td>\n",
       "      <td>49.037304</td>\n",
       "      <td>Human</td>\n",
       "    </tr>\n",
       "    <tr>\n",
       "      <th>4</th>\n",
       "      <td>2849</td>\n",
       "      <td>998</td>\n",
       "      <td>1059</td>\n",
       "      <td>11660</td>\n",
       "      <td>48.517258</td>\n",
       "      <td>Human</td>\n",
       "    </tr>\n",
       "  </tbody>\n",
       "</table>\n",
       "</div>"
      ],
      "text/plain": [
       "   yes_yes  yes_no  no_yes  no_no  percent_first   name\n",
       "0     1463     399     471   3517      45.862069  Human\n",
       "1      415      89     107    710      45.408163  Human\n",
       "2     2572     544     695   3396      43.906376  Human\n",
       "3     2194     815     847   8174      49.037304  Human\n",
       "4     2849     998    1059  11660      48.517258  Human"
      ]
     },
     "execution_count": 57,
     "metadata": {},
     "output_type": "execute_result"
    }
   ],
   "source": [
    "K562_splicing_order_counts"
   ]
  },
  {
   "cell_type": "code",
   "execution_count": 15,
   "metadata": {},
   "outputs": [
    {
     "data": {
      "text/plain": [
       "yes_yes                               9493\n",
       "yes_no                                2845\n",
       "no_yes                                3179\n",
       "no_no                                27457\n",
       "percent_first                      232.731\n",
       "name             HumanHumanHumanHumanHuman\n",
       "dtype: object"
      ]
     },
     "execution_count": 15,
     "metadata": {},
     "output_type": "execute_result"
    }
   ],
   "source": [
    "K562_splicing_order_counts.sum()\n"
   ]
  },
  {
   "cell_type": "code",
   "execution_count": 16,
   "metadata": {},
   "outputs": [
    {
     "data": {
      "text/plain": [
       "yes_yes                                   12134\n",
       "yes_no                                     3446\n",
       "no_yes                                     1820\n",
       "no_no                                     20549\n",
       "percent_first                           195.931\n",
       "name             DrosophilaDrosophilaDrosophila\n",
       "dtype: object"
      ]
     },
     "execution_count": 16,
     "metadata": {},
     "output_type": "execute_result"
    }
   ],
   "source": [
    "S2_splicing_order_counts.sum()\n"
   ]
  },
  {
   "cell_type": "code",
   "execution_count": 26,
   "metadata": {},
   "outputs": [
    {
     "data": {
      "image/png": "[encoded data removed]",
      "text/plain": [
       "<matplotlib.figure.Figure at 0x1a0f9cdcc0>"
      ]
     },
     "metadata": {},
     "output_type": "display_data"
    }
   ],
   "source": [
    "# Plot for Figure 3B\n",
    "\n",
    "# get splicing order dataframe for K562 cells\n",
    "K562_1_splicing_order_df = get_both_splicing_order_df(K562_1_intron_pairs_df)\n",
    "K562_2_splicing_order_df = get_both_splicing_order_df(K562_2_intron_pairs_df)\n",
    "K562_3_splicing_order_df = get_both_splicing_order_df(K562_3_intron_pairs_df)\n",
    "K562_4_splicing_order_df = get_both_splicing_order_df(K562_4_intron_pairs_df)\n",
    "K562_5_splicing_order_df = get_both_splicing_order_df(K562_5_intron_pairs_df)\n",
    "\n",
    "# get splicing order dataframe for S2 cells\n",
    "S2_1_splicing_order_df = get_both_splicing_order_df(S2_1_intron_pairs_df)\n",
    "S2_2_splicing_order_df = get_both_splicing_order_df(S2_2_intron_pairs_df)\n",
    "S2_3_splicing_order_df = get_both_splicing_order_df(S2_3_intron_pairs_df)\n",
    "\n",
    "K562_splicing_order_df = pd.concat([K562_1_splicing_order_df,K562_2_splicing_order_df,K562_3_splicing_order_df,K562_4_splicing_order_df,K562_5_splicing_order_df]).reset_index(drop=True)\n",
    "K562_splicing_order_df['name'] = 'Human'\n",
    "\n",
    "S2_splicing_order_df = pd.concat([S2_1_splicing_order_df,S2_2_splicing_order_df,S2_3_splicing_order_df])\n",
    "S2_splicing_order_df['name'] = 'Drosophila'\n",
    "\n",
    "all_splicing_order_df = pd.concat([K562_splicing_order_df,S2_splicing_order_df])\n",
    "                                   \n",
    "fig, ax = plt.subplots(figsize=(2,3))\n",
    "\n",
    "sns.barplot(x=\"splicing_status\", y=\"order\", hue=\"name\", data=all_splicing_order_df, palette=['blue','red'], ci=68, capsize=0.05, errwidth=1.5)\n",
    "\n",
    "plt.xlabel(\"splicing pattern percent\", fontsize=14)\n",
    "plt.ylabel(\"\", fontsize=14)\n",
    "\n",
    "plt.xticks([0,25,50,75,100], fontsize=12)\n",
    "plt.tick_params(axis='both', which='both', labelsize=14, direction='out', left=\"on\", bottom=\"on\", length=5)\n",
    "\n",
    "plt.xlim(0,105)\n",
    "plt.axvline(x=50, color='black', linestyle=\":\")\n",
    "\n",
    "plt.legend(bbox_to_anchor=(1.1, 1.05))\n",
    "\n",
    "plt.savefig('/path/to/Figure_4B_K562_S2_order_of_splicing_horizontal_plot.pdf', \n",
    "           format='pdf', dpi=300, bbox_inches='tight')\n",
    "\n",
    "plt.show()\n",
    "\n",
    "\n"
   ]
  },
  {
   "cell_type": "code",
   "execution_count": 27,
   "metadata": {},
   "outputs": [
    {
     "name": "stdout",
     "output_type": "stream",
     "text": [
      "K562 first spliced counts: 2845\n",
      "K562 second spliced counts: 3179\n",
      "K562 p-value: 1.7749136051513946e-05\n"
     ]
    }
   ],
   "source": [
    "print(\"K562 first spliced counts: \"+str(np.sum(K562_splicing_order_counts['yes_no'])))\n",
    "print(\"K562 second spliced counts: \"+str(np.sum(K562_splicing_order_counts['no_yes'])))\n",
    "      \n",
    "p = stats.binom_test([np.sum(K562_splicing_order_counts['yes_no']),np.sum(K562_splicing_order_counts['no_yes'])], n=None, p=0.5)\n",
    "print(\"K562 p-value: \"+str(p))\n"
   ]
  },
  {
   "cell_type": "code",
   "execution_count": 28,
   "metadata": {},
   "outputs": [
    {
     "name": "stdout",
     "output_type": "stream",
     "text": [
      "S2 first spliced counts: 3446\n",
      "S2 second spliced counts: 1820\n",
      "S2 p-value: 7.335510781829919e-113\n"
     ]
    }
   ],
   "source": [
    "print(\"S2 first spliced counts: \"+str(np.sum(S2_splicing_order_counts['yes_no'])))\n",
    "print(\"S2 second spliced counts: \"+str(np.sum(S2_splicing_order_counts['no_yes'])))\n",
    "\n",
    "p = stats.binom_test([np.sum(S2_splicing_order_counts['yes_no']),np.sum(S2_splicing_order_counts['no_yes'])], n=None, p=0.5)\n",
    "print(\"S2 p-value: \"+str(p))\n"
   ]
  },
  {
   "cell_type": "code",
   "execution_count": null,
   "metadata": {},
   "outputs": [],
   "source": [
    "\n"
   ]
  },
  {
   "cell_type": "code",
   "execution_count": 45,
   "metadata": {},
   "outputs": [],
   "source": [
    "# FIGURE 4C-D - splicing order frequencies across intron pairs\n",
    "\n",
    "# get the frequency of splicing order across reads that cover the same introns\n",
    "def get_pair_splcing_frequencies(intron_pairs_df):\n",
    "\n",
    "    pair_dict = {}\n",
    "\n",
    "    for i in range(0,len(intron_pairs_df)):\n",
    "\n",
    "        read = intron_pairs_df.iloc[i]['read']\n",
    "        chrom = intron_pairs_df.iloc[i]['chrom']\n",
    "        int1_start = intron_pairs_df.iloc[i]['int1_start']\n",
    "        int1_end = intron_pairs_df.iloc[i]['int1_end']\n",
    "        int2_start = intron_pairs_df.iloc[i]['int2_start']\n",
    "        int2_end = intron_pairs_df.iloc[i]['int2_end']\n",
    "        strand = intron_pairs_df.iloc[i]['strand']\n",
    "        int1_splice = intron_pairs_df.iloc[i]['int1_splice']\n",
    "        int2_splice = intron_pairs_df.iloc[i]['int2_splice']\n",
    "        transcript = intron_pairs_df.iloc[i]['transcript']\n",
    "\n",
    "        pair_coord = str(chrom)+\"_\"+str(int1_start)+\"_\"+str(int1_end)+\"_\"+str(int2_start)+\"_\"+str(int2_end)+\"_\"+str(strand)+\"_\"+str(transcript)\n",
    "\n",
    "        if (strand == \"-\"):\n",
    "            x = int1_splice\n",
    "            int1_splice = int2_splice\n",
    "            int2_splice = x\n",
    "\n",
    "        if pair_coord not in pair_dict.keys():\n",
    "\n",
    "            if (int1_splice==\"YES\") & (int2_splice==\"YES\"):\n",
    "                pair_dict[pair_coord] = [1,0,0,0]\n",
    "\n",
    "            if (int1_splice==\"YES\") & (int2_splice==\"NO\"):\n",
    "                pair_dict[pair_coord] = [0,1,0,0]\n",
    "\n",
    "            if (int1_splice==\"NO\") & (int2_splice==\"YES\"):\n",
    "                pair_dict[pair_coord] = [0,0,1,0]\n",
    "\n",
    "            if (int1_splice==\"NO\") & (int2_splice==\"NO\"):\n",
    "                pair_dict[pair_coord] = [0,0,0,1]\n",
    "\n",
    "        elif pair_coord in pair_dict.keys():\n",
    "            if (int1_splice==\"YES\") & (int2_splice==\"YES\"):\n",
    "                pair_dict[pair_coord][0] += 1\n",
    "\n",
    "            if (int1_splice==\"YES\") & (int2_splice==\"NO\"):\n",
    "                pair_dict[pair_coord][1] += 1\n",
    "\n",
    "            if (int1_splice==\"NO\") & (int2_splice==\"YES\"):\n",
    "                pair_dict[pair_coord][2] += 1\n",
    "\n",
    "            if (int1_splice==\"NO\") & (int2_splice==\"NO\"):\n",
    "                pair_dict[pair_coord][3] += 1\n",
    "\n",
    "    pair_df = pd.DataFrame.from_dict(pair_dict, orient='index')\n",
    "    pair_df.columns = ['YES_YES','YES_NO','NO_YES','NO_NO']   \n",
    "\n",
    "    return pair_df\n",
    "    "
   ]
  },
  {
   "cell_type": "code",
   "execution_count": 46,
   "metadata": {},
   "outputs": [],
   "source": [
    "# load intron files\n",
    "hg38_introns = pd.read_csv('/path/to/annotation_files/NCBI_RefSeq_hg38_introns_parsed.bed',sep='\\t',header=None,low_memory=False)\n",
    "hg38_introns.columns = ['chrom','start','end','name','score','strand']\n",
    "hg38_introns['transcript'] = hg38_introns.apply(lambda row: row['name'].split('_intron')[0].split('.')[0], axis=1)\n",
    "hg38_introns = hg38_introns.drop_duplicates(['chrom','start','end','strand']).reset_index(drop=True)\n",
    "\n",
    "dm6_introns = pd.read_csv('/path/to/annotation_files/dm6_RefSeq_introns_parsed.bed',sep='\\t',header=None,low_memory=False)\n",
    "dm6_introns.columns = ['chrom','start','end','name','score','strand']\n",
    "dm6_introns['chrom'] = 'chr'+dm6_introns['chrom']\n",
    "dm6_introns['transcript'] = dm6_introns.apply(lambda row: row['name'].split('_intron')[0].split('.')[0], axis=1)\n",
    "dm6_introns = dm6_introns.drop_duplicates(['chrom','start','end','strand']).reset_index(drop=True)\n",
    "\n",
    "# concat intron pair datasets into each species\n",
    "K562_intron_pairs_df = pd.concat([K562_1_intron_pairs_df,K562_2_intron_pairs_df,K562_3_intron_pairs_df,K562_4_intron_pairs_df,K562_5_intron_pairs_df], axis=0)\n",
    "S2_intron_pairs_df = pd.concat([S2_1_intron_pairs_df,S2_2_intron_pairs_df,S2_3_intron_pairs_df], axis=0)\n",
    "\n",
    "# merge intron pairs with transcript name file\n",
    "K562_intron_pairs_df = pd.merge(K562_intron_pairs_df,hg38_introns,left_on=['chrom','int1_start','int1_end','strand'],right_on=['chrom','start','end','strand'],how='left')\n",
    "K562_intron_pairs_df = K562_intron_pairs_df.drop(['start','end','name','score'], axis=1)\n",
    "\n",
    "S2_intron_pairs_df = pd.merge(S2_intron_pairs_df,dm6_introns,left_on=['chrom','int1_start','int1_end','strand'],right_on=['chrom','start','end','strand'],how='left')\n",
    "S2_intron_pairs_df = S2_intron_pairs_df.drop(['start','end','name','score'], axis=1)\n"
   ]
  },
  {
   "cell_type": "code",
   "execution_count": 47,
   "metadata": {},
   "outputs": [],
   "source": [
    "# get intron pair splicing order frequencies\n",
    "K562_pair_spicing_freq = get_pair_splcing_frequencies(K562_intron_pairs_df)\n",
    "S2_pair_spicing_freq = get_pair_splcing_frequencies(S2_intron_pairs_df)\n"
   ]
  },
  {
   "cell_type": "code",
   "execution_count": 54,
   "metadata": {},
   "outputs": [
    {
     "data": {
      "image/png": "[encoded data removed]",
      "text/plain": [
       "<matplotlib.figure.Figure at 0x1a1c5cc080>"
      ]
     },
     "metadata": {},
     "output_type": "display_data"
    }
   ],
   "source": [
    "top_K562_pair_spicing_freq = K562_pair_spicing_freq[K562_pair_spicing_freq['YES_NO']+K562_pair_spicing_freq['NO_YES'] >= 4]\n",
    "K562_percent_first_spliced = (top_K562_pair_spicing_freq['NO_YES']/(top_K562_pair_spicing_freq['NO_YES']+top_K562_pair_spicing_freq['YES_NO']))*100\n",
    "\n",
    "fig, ax = plt.subplots(figsize=(3.75,3.5))\n",
    "\n",
    "sns.distplot(K562_percent_first_spliced, bins=10, kde=False, color=sns.color_palette(\"Blues\")[5])\n",
    "\n",
    "plt.xlim(-10,110)\n",
    "\n",
    "plt.xticks(fontsize=14)\n",
    "plt.yticks(fontsize=14)\n",
    "plt.tick_params(axis='both', which='both', labelsize=14, direction='out', left=\"on\", bottom=\"on\", length=5)\n",
    "\n",
    "plt.xlabel(\"Fraction second intron spliced\", fontsize=16)\n",
    "plt.ylabel(\"Intron Pair Counts\", fontsize=16)\n",
    "\n",
    "plt.title('Human', fontsize=16)\n",
    "\n",
    "plt.savefig('/path/to/Figure_4C_K562_splicing_order_within_pairs_barchart.pdf', \n",
    "            format='pdf', dpi=300, bbox_inches='tight')\n",
    "\n",
    "plt.show()\n",
    "\n"
   ]
  },
  {
   "cell_type": "code",
   "execution_count": 143,
   "metadata": {},
   "outputs": [
    {
     "data": {
      "image/png": "[encoded data removed]",
      "text/plain": [
       "<matplotlib.figure.Figure at 0x1a2683b630>"
      ]
     },
     "metadata": {},
     "output_type": "display_data"
    }
   ],
   "source": [
    "top_S2_pair_spicing_freq = S2_pair_spicing_freq[S2_pair_spicing_freq['YES_NO']+S2_pair_spicing_freq['NO_YES'] >= 4]\n",
    "S2_percent_first_spliced = (top_S2_pair_spicing_freq['NO_YES']/(top_S2_pair_spicing_freq['NO_YES']+top_S2_pair_spicing_freq['YES_NO']))*100\n",
    "\n",
    "fig, ax = plt.subplots(figsize=(3.5,3))\n",
    "\n",
    "sns.distplot(S2_percent_first_spliced, bins=10, kde=False, color=sns.color_palette(\"Reds\")[5])\n",
    "\n",
    "plt.xlim(-10,110)\n",
    "\n",
    "plt.xticks(fontsize=14)\n",
    "plt.yticks(fontsize=14)\n",
    "plt.tick_params(axis='both', which='both', labelsize=14, direction='out', left=\"on\", bottom=\"on\", length=5)\n",
    "\n",
    "plt.xlabel(\"Fraction second intron spliced\", fontsize=16)\n",
    "plt.ylabel(\"Intron Pair Counts\", fontsize=16)\n",
    "\n",
    "plt.title('Drosophila',fontstyle='oblique', fontsize=16)\n",
    "\n",
    "plt.savefig('/path/to/Figure_4D_S2_splicing_order_within_pairs_barchart.pdf', \n",
    "            format='pdf', dpi=300, bbox_inches='tight')\n",
    "\n",
    "plt.show()\n"
   ]
  },
  {
   "cell_type": "code",
   "execution_count": 49,
   "metadata": {},
   "outputs": [
    {
     "data": {
      "text/plain": [
       "193"
      ]
     },
     "execution_count": 49,
     "metadata": {},
     "output_type": "execute_result"
    }
   ],
   "source": [
    "len(top_K562_pair_spicing_freq)"
   ]
  },
  {
   "cell_type": "code",
   "execution_count": 145,
   "metadata": {},
   "outputs": [
    {
     "data": {
      "text/plain": [
       "135"
      ]
     },
     "execution_count": 145,
     "metadata": {},
     "output_type": "execute_result"
    }
   ],
   "source": [
    "len(top_S2_pair_spicing_freq)"
   ]
  },
  {
   "cell_type": "code",
   "execution_count": 146,
   "metadata": {},
   "outputs": [
    {
     "name": "stdout",
     "output_type": "stream",
     "text": [
      "S2 total: 135\n",
      "S2 unique genes: 115\n",
      "S2 all spliced or not spliced: 82.22\n"
     ]
    }
   ],
   "source": [
    "biased = len(S2_percent_first_spliced[(S2_percent_first_spliced==0.0) | (S2_percent_first_spliced==100.0)]) \n",
    "total = len(S2_percent_first_spliced)\n",
    "S2_percent = biased/total*100\n",
    "S2_genes = set(pd.DataFrame(top_S2_pair_spicing_freq.index).apply(lambda row: 'NM_'+str(row[0].split('NM_')[1]), axis=1))\n",
    "\n",
    "print('S2 total: '+str(total))\n",
    "print('S2 unique genes: '+str(len(S2_genes)))\n",
    "print('S2 all spliced or not spliced: '+str(round(S2_percent,2)))\n"
   ]
  },
  {
   "cell_type": "code",
   "execution_count": 50,
   "metadata": {},
   "outputs": [
    {
     "name": "stdout",
     "output_type": "stream",
     "text": [
      "K562 total: 193\n",
      "K562 unique genes: 127\n",
      "K562 all spliced or not spliced: 61.14\n"
     ]
    }
   ],
   "source": [
    "biased = len(K562_percent_first_spliced[(K562_percent_first_spliced==0.0) | (K562_percent_first_spliced==100.0)]) \n",
    "total = len(K562_percent_first_spliced)\n",
    "K562_percent = biased/total*100\n",
    "K562_genes = set(pd.DataFrame(top_K562_pair_spicing_freq.index).apply(lambda row: 'NM_'+str(row[0].split('NM_')[1]), axis=1))\n",
    "\n",
    "print('K562 total: '+str(total))\n",
    "print('K562 unique genes: '+str(len(K562_genes)))\n",
    "print('K562 all spliced or not spliced: '+str(round(K562_percent,2)))\n",
    "\n"
   ]
  },
  {
   "cell_type": "code",
   "execution_count": null,
   "metadata": {},
   "outputs": [],
   "source": [
    "\n"
   ]
  },
  {
   "cell_type": "code",
   "execution_count": null,
   "metadata": {},
   "outputs": [],
   "source": []
  },
  {
   "cell_type": "code",
   "execution_count": null,
   "metadata": {},
   "outputs": [],
   "source": []
  },
  {
   "cell_type": "code",
   "execution_count": null,
   "metadata": {},
   "outputs": [],
   "source": []
  }
 ],
 "metadata": {
  "kernelspec": {
   "display_name": "Python 3",
   "language": "python",
   "name": "python3"
  },
  "language_info": {
   "codemirror_mode": {
    "name": "ipython",
    "version": 3
   },
   "file_extension": ".py",
   "mimetype": "text/x-python",
   "name": "python",
   "nbconvert_exporter": "python",
   "pygments_lexer": "ipython3",
   "version": "3.6.5"
  }
 },
 "nbformat": 4,
 "nbformat_minor": 2
}
