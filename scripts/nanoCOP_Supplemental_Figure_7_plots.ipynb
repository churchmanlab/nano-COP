{
 "cells": [
  {
   "cell_type": "code",
   "execution_count": null,
   "metadata": {},
   "outputs": [],
   "source": [
    "\"\"\"\n",
    "\n",
    "Date : August 1, 2019\n",
    "\n",
    "Author : Heather Landry Drexler\n",
    "\n",
    "This script will develop plots for Supplemental Figure 7 of the nanoCOP manuscript. \n",
    "\n",
    "This script requires the datasets produced in the script nanoCOP_intron_pairs_datasets.ipynb\n",
    "                                            \n",
    "\n",
    "\"\"\""
   ]
  },
  {
   "cell_type": "code",
   "execution_count": 1,
   "metadata": {},
   "outputs": [],
   "source": [
    "import numpy as np\n",
    "import pandas as pd\n",
    "import pysam\n",
    "from collections import Counter\n",
    "\n",
    "import matplotlib.pyplot as plt\n",
    "import re\n",
    "% matplotlib inline\n",
    "plt.rcParams['pdf.fonttype'] = 42\n",
    "plt.rcParams['ps.fonttype'] = 42\n",
    "\n",
    "import math\n",
    "from random import shuffle\n",
    "\n",
    "import pybedtools\n",
    "from pybedtools import BedTool\n",
    "\n",
    "import seaborn as sns\n",
    "sns.set_style(\"white\")\n",
    "\n",
    "import itertools\n",
    "\n",
    "import scipy\n",
    "from scipy import stats\n",
    "from scipy.stats import ttest_ind, ttest_ind_from_stats, chi2_contingency\n",
    "from scipy.special import stdtr"
   ]
  },
  {
   "cell_type": "code",
   "execution_count": 2,
   "metadata": {},
   "outputs": [],
   "source": [
    "def get_all_multi_intron_lengths(read_junctions, intron_min):\n",
    "\n",
    "    multi_introns = []\n",
    "\n",
    "    for read in read_junctions.keys():\n",
    "\n",
    "        # make a set for all intron pairs within a read\n",
    "        # this will avoid duplicate pairs being called due to alternative splicing\n",
    "        uniq_splice_pattern = set()\n",
    "\n",
    "        # loop through all genes that has introns that a read maps to\n",
    "        for gene in read_junctions[read].keys():\n",
    "\n",
    "            # only go through genes that have 2 or more introns\n",
    "            if ((len(read_junctions[read][gene]) >= intron_min) & (len(read_junctions[read][gene]) <= 10)):\n",
    "\n",
    "                # characterize the number of spliced and unspliced introns in the read\n",
    "                splice_status = [row[6] for row in read_junctions[read][gene]]\n",
    "                splice_status_join = '_'.join(splice_status)\n",
    "                status_count = Counter(splice_status)\n",
    "\n",
    "                # only process the file if intron pattern hasn't been seen previously\n",
    "                # for a gene that this read aligns to\n",
    "                if (splice_status_join not in uniq_splice_pattern):\n",
    "                    uniq_splice_pattern.add(splice_status_join)\n",
    "\n",
    "                    spliced_count = status_count['YES']\n",
    "                    unspliced_count = status_count['NO']\n",
    "\n",
    "                    temp = [] \n",
    "\n",
    "                    # build a dataframe of introns in the gene that map to this read\n",
    "                    # and are capable of being sequenced if the read has no splicing\n",
    "                    read_introns_df = pd.DataFrame(read_junctions[read][gene])\n",
    "                    read_introns_df.columns = ['chrom','start','end','intron_count','strand','read_overlap','splice_status']\n",
    "                    read_introns_df = read_introns_df[read_introns_df['read_overlap'] > 0].sort_values('intron_count').reset_index(drop=True)\n",
    "                    \n",
    "                    dif = (np.max(read_introns_df['intron_count'])-np.min(read_introns_df['intron_count'])+1)\n",
    "                    if (len(read_introns_df)==dif):\n",
    "\n",
    "                        for i in range(len(read_introns_df)):\n",
    "                            intron_count = read_introns_df.iloc[i]['intron_count']\n",
    "                            intron_chrom = str(read_introns_df.iloc[i]['chrom'])\n",
    "                            intron_start = str(read_introns_df.iloc[i]['start'])\n",
    "                            intron_end = str(read_introns_df.iloc[i]['end'])\n",
    "                            intron_strand = read_introns_df.iloc[i]['strand']\n",
    "                            intron_splice = read_introns_df.iloc[i]['splice_status']\n",
    "                            intron_coord = intron_chrom+'_'+intron_start+'_'+intron_end\n",
    "                            intron_length = int(intron_end)-int(intron_start)\n",
    "\n",
    "                            temp.append(intron_length)\n",
    "\n",
    "\n",
    "                        if (intron_strand=='+'):\n",
    "\n",
    "                            final = []\n",
    "                            final.append(read)\n",
    "                            final.append(gene)\n",
    "                            final.append(intron_strand)\n",
    "\n",
    "                            for i in temp:\n",
    "                                final.append(i)\n",
    "\n",
    "                            for i in range(10-len(temp)):\n",
    "                                final.append('_')\n",
    "\n",
    "                            if ((final.count('_')<=7)):\n",
    "                                multi_introns.append(final)\n",
    "\n",
    "\n",
    "                        if (intron_strand=='-'):\n",
    "\n",
    "                            final = []\n",
    "                            final.append(read)\n",
    "                            final.append(gene)\n",
    "                            final.append(intron_strand)\n",
    "\n",
    "                            for i in reversed(temp):\n",
    "                                final.append(i)\n",
    "\n",
    "                            for i in range(10-len(temp)):\n",
    "                                final.append('_') \n",
    "\n",
    "                            if ((final.count('_')<=7)):\n",
    "                                multi_introns.append(final)\n",
    "                                \n",
    "\n",
    "    multi_introns_df = pd.DataFrame(multi_introns)\n",
    "    multi_introns_df.columns = ['read','gene','strand','int1','int2','int3','int4','int5','int6','int7','int8','int9','int10']\n",
    "    multi_introns_df = multi_introns_df.sort_values(by=['read']).reset_index(drop=True)\n",
    "\n",
    "    return multi_introns_df\n",
    "\n",
    "\n",
    "# function to label missing gene names with transcript names\n",
    "def name_missing_genes(row):\n",
    "    if pd.isnull(row['gene']):\n",
    "        return (row['transcript'])\n",
    "\n",
    "    else:\n",
    "        return (row['gene'])\n",
    "\n",
    "\n"
   ]
  },
  {
   "cell_type": "code",
   "execution_count": 24,
   "metadata": {},
   "outputs": [],
   "source": [
    "# upload file with information about all introns in hg38 or dmel6\n",
    "hg38_intron_info = pd.read_table('/path/to/annotation_files/hg38_all_intron_features.txt')\n",
    "hg38_intron_info = hg38_intron_info[['chrom','start','end','name','intron_length','strand']]\n",
    "hg38_intron_info = hg38_intron_info.drop_duplicates(subset=['chrom','start','end','strand']).reset_index(drop=True)\n",
    "\n",
    "dm6_intron_info = pd.read_table('/path/to/annotation_files/dmel6_all_intron_features.txt')\n",
    "dm6_intron_info = dm6_intron_info[['chrom','start','end','name','intron_length','strand']]\n",
    "dm6_intron_info = dm6_intron_info.drop_duplicates(subset=['chrom','start','end','strand']).reset_index(drop=True)\n"
   ]
  },
  {
   "cell_type": "code",
   "execution_count": 43,
   "metadata": {},
   "outputs": [],
   "source": [
    "# open dictionary with all intron junctions that a read spans\n",
    "K562_1_splice_dictionary = np.load('/path/to/K562_1_splicing_dictionary.npy').item() \n",
    "K562_2_splice_dictionary = np.load('/path/to/K562_2_splicing_dictionary.npy').item() \n",
    "K562_3_splice_dictionary = np.load('/path/to/K562_3_splicing_dictionary.npy').item() \n",
    "K562_4_splice_dictionary = np.load('/path/to/K562_4_splicing_dictionary.npy').item() \n",
    "K562_5a_splice_dictionary = np.load('/path/to/K562_5a_splicing_dictionary.npy').item() \n",
    "K562_5b_splice_dictionary = np.load('/path/to/K562_5b_splicing_dictionary.npy').item() \n",
    "\n",
    "S2_1a_splice_dictionary = np.load('/path/to/S2_1a_splicing_dictionary.npy').item() \n",
    "S2_1b_splice_dictionary = np.load('/path/to/S2_1b_splicing_dictionary.npy').item() \n",
    "S2_2_splice_dictionary = np.load('/path/to/S2_2_splicing_dictionary.npy').item() \n",
    "S2_3_splice_dictionary = np.load('/path/to/S2_3_splicing_dictionary.npy').item() \n"
   ]
  },
  {
   "cell_type": "code",
   "execution_count": 28,
   "metadata": {},
   "outputs": [],
   "source": [
    "# get multi intron df for K562\n",
    "K562_1_multi_intron_lengths_df = get_all_multi_intron_lengths(K562_1_splice_dictionary, 3)\n",
    "K562_2_multi_intron_lengths_df = get_all_multi_intron_lengths(K562_2_splice_dictionary, 3)\n",
    "K562_3_multi_intron_lengths_df = get_all_multi_intron_lengths(K562_3_splice_dictionary, 3)\n",
    "K562_4_multi_intron_lengths_df = get_all_multi_intron_lengths(K562_4_splice_dictionary, 3)\n",
    "K562_5a_multi_intron_lengths_df = get_all_multi_intron_lengths(K562_5a_splice_dictionary, 3)\n",
    "K562_5b_multi_intron_lengths_df = get_all_multi_intron_lengths(K562_5b_splice_dictionary, 3)\n",
    "\n",
    "# get multi intron df for S2\n",
    "S2_1a_multi_intron_lengths_df = get_all_multi_intron_lengths(S2_1a_splice_dictionary, 3)\n",
    "S2_1b_multi_intron_lengths_df = get_all_multi_intron_lengths(S2_1b_splice_dictionary, 3)\n",
    "S2_2_multi_intron_lengths_df = get_all_multi_intron_lengths(S2_2_splice_dictionary, 3)\n",
    "S2_3_multi_intron_lengths_df = get_all_multi_intron_lengths(S2_3_splice_dictionary, 3)\n",
    "\n",
    "K562_intron_lengths = pd.concat([K562_1_multi_intron_lengths_df,K562_2_multi_intron_lengths_df,K562_3_multi_intron_lengths_df,K562_4_multi_intron_lengths_df,K562_5a_multi_intron_lengths_df,K562_5b_multi_intron_lengths_df])\n",
    "S2_intron_lengths = pd.concat([S2_1a_multi_intron_lengths_df,S2_1b_multi_intron_lengths_df,S2_2_multi_intron_lengths_df,S2_3_multi_intron_lengths_df])\n"
   ]
  },
  {
   "cell_type": "code",
   "execution_count": 31,
   "metadata": {},
   "outputs": [],
   "source": [
    "# add min and max to match all introns (human)\n",
    "K562_intron1 = K562_intron_lengths['int1'].append(pd.DataFrame([np.min(hg38_intron_info['intron_length'])]))\n",
    "K562_intron1 = K562_intron_lengths['int1'].append(pd.DataFrame([np.max(hg38_intron_info['intron_length'])]))\n",
    "\n",
    "K562_intron2 = K562_intron_lengths['int2'].append(pd.DataFrame([np.min(hg38_intron_info['intron_length'])]))\n",
    "K562_intron2 = K562_intron_lengths['int2'].append(pd.DataFrame([np.max(hg38_intron_info['intron_length'])]))\n",
    "\n",
    "K562_intron3 = K562_intron_lengths['int3'].append(pd.DataFrame([np.min(hg38_intron_info['intron_length'])]))\n",
    "K562_intron3 = K562_intron_lengths['int3'].append(pd.DataFrame([np.max(hg38_intron_info['intron_length'])]))\n",
    "\n",
    "# add min and max to match all introns (Drosophila)\n",
    "S2_intron1 = S2_intron_lengths['int1'].append(pd.DataFrame([np.min(dm6_intron_info['intron_length'])]))\n",
    "S2_intron1 = S2_intron_lengths['int1'].append(pd.DataFrame([np.max(dm6_intron_info['intron_length'])]))\n",
    "\n",
    "S2_intron2 = S2_intron_lengths['int2'].append(pd.DataFrame([np.min(dm6_intron_info['intron_length'])]))\n",
    "S2_intron2 = S2_intron_lengths['int2'].append(pd.DataFrame([np.max(dm6_intron_info['intron_length'])]))\n",
    "\n",
    "S2_intron3 = S2_intron_lengths['int3'].append(pd.DataFrame([np.min(dm6_intron_info['intron_length'])]))\n",
    "S2_intron3 = S2_intron_lengths['int3'].append(pd.DataFrame([np.max(dm6_intron_info['intron_length'])]))\n"
   ]
  },
  {
   "cell_type": "code",
   "execution_count": 34,
   "metadata": {},
   "outputs": [],
   "source": [
    "# get reads per gene for ONT sequencing datasets\n",
    "# upload gene information as a BedTool for parsing\n",
    "genes_df = pd.read_table('/path/to/annotation_files/NCBI_RefSeq_hg38_genes_parsed.bed',header=None)\n",
    "genes_df = genes_df.drop([6,7,8,9,10,11], axis=1) # drop irrelevant columns from dataframe\n",
    "genes_df.columns = ['chrom','start','end','transcript','gene_length','strand']\n",
    "genes_df['gene_length'] = genes_df['end']-genes_df['start']\n",
    "genes_df['transcript'] = genes_df.apply(lambda row: row['transcript'].split('.')[0], axis=1)\n",
    "genes_df = genes_df.drop_duplicates(subset=['chrom','start','end','strand']).reset_index(drop=True)\n",
    "\n",
    "# get list of gene names for all transcripts\n",
    "names_df = pd.read_table('/path/to/annotation_files/hg38_UCSC_refGene_names.txt', header=None)\n",
    "names_df.columns = ['gene','transcript']\n",
    "\n",
    "genes_names_merge = pd.merge(genes_df, names_df, on=['transcript'], how='left')\n",
    "genes_names_merge['gene'] = genes_names_merge.apply(lambda row: name_missing_genes(row) , axis=1)\n",
    "genes_names_merge = genes_names_merge.sort_values(by='gene_length', ascending=False).reset_index(drop=True)\n",
    "genes_names_merge = genes_names_merge.drop_duplicates(subset=['gene'], keep='first').reset_index(drop=True)\n",
    "\n",
    "genes_names_merge = genes_names_merge.sort_values(by=['chrom','start','end'], ascending=True).reset_index(drop=True)\n",
    "\n",
    "# create a bed file for all unique genes\n",
    "gene_bed = BedTool.from_dataframe(genes_names_merge)\n",
    "\n",
    "\n",
    "K562_bamFile = pybedtools.BedTool('/path/to/all_K562_hg38_minimap2_uniq_sort.bam')\n",
    "K562_bedFile = K562_bamFile.bam_to_bed()\n",
    "\n",
    "K562_coverage = gene_bed.coverage(K562_bedFile, s=True, counts=True) \n",
    "K562_df = K562_coverage.to_dataframe() # covert to dataframe\n",
    "K562_df.columns =['chrom','start','end','transcript','score','strand','gene','count'] # label columns\n",
    "K562_df = K562_df.drop_duplicates(subset=['chrom','start','end','strand']).reset_index(drop=True) # remove duplicate gene coords\n"
   ]
  },
  {
   "cell_type": "code",
   "execution_count": 35,
   "metadata": {},
   "outputs": [],
   "source": [
    "K562_genes = K562_df.copy()\n",
    "\n",
    "K562_genes['expression'] = K562_genes['count']/(K562_genes['end']-K562_genes['start'])\n",
    "K562_genes = K562_genes[K562_genes['expression']>K562_genes['expression'].quantile(q=0.9)].reset_index(drop=True)\n",
    "\n",
    "hg38_introns = hg38_intron_info.copy()\n",
    "hg38_introns['gene'] = hg38_introns.apply(lambda row: str(row['name'].split(\"_\")[0])+'_'+str(row['name'].split(\"_\")[1].split(\".\")[0]) , axis=1)\n",
    "\n",
    "K562_introns = hg38_introns[hg38_introns.apply(lambda row: row['gene'] in set(K562_genes['transcript']) , axis=1)].reset_index(drop=True)"
   ]
  },
  {
   "cell_type": "code",
   "execution_count": 36,
   "metadata": {},
   "outputs": [
    {
     "name": "stderr",
     "output_type": "stream",
     "text": [
      "/Users/karinechoquet/anaconda3/lib/python3.6/site-packages/matplotlib/cbook/deprecation.py:107: MatplotlibDeprecationWarning: Passing one of 'on', 'true', 'off', 'false' as a boolean is deprecated; use an actual boolean (True/False) instead.\n",
      "  warnings.warn(message, mplDeprecation, stacklevel=1)\n",
      "/Users/karinechoquet/anaconda3/lib/python3.6/site-packages/matplotlib/cbook/deprecation.py:107: MatplotlibDeprecationWarning: Passing one of 'on', 'true', 'off', 'false' as a boolean is deprecated; use an actual boolean (True/False) instead.\n",
      "  warnings.warn(message, mplDeprecation, stacklevel=1)\n"
     ]
    },
    {
     "data": {
      "image/png": "[encoded data removed]",
      "text/plain": [
       "<Figure size 144x237.6 with 1 Axes>"
      ]
     },
     "metadata": {},
     "output_type": "display_data"
    }
   ],
   "source": [
    "\n",
    "fig, ax = plt.subplots(figsize=(2,3.3))\n",
    "\n",
    "hg38_intron_lengths = np.log10(hg38_intron_info['intron_length'].values)\n",
    "K562_intron1_lengths = np.log10(K562_intron1.values)\n",
    "K562_intron2_lengths = np.log10(K562_intron2.values)\n",
    "K562_intron3_lengths = np.log10(K562_intron3.values)\n",
    "K562_introns_expr_lengths = np.log10(K562_introns['intron_length'].values)\n",
    "\n",
    "ax = sns.distplot(hg38_intron_lengths, hist=False, kde_kws=dict(cumulative=True), color = sns.color_palette(\"Blues\")[3], bins=np.max(hg38_intron_info['intron_length']), label='hg38 introns')\n",
    "sns.distplot(K562_intron1_lengths, hist=False, kde_kws=dict(cumulative=True), color = sns.color_palette(\"Greens\")[5], bins=np.max(hg38_intron_info['intron_length']), label='K562 intron 1')\n",
    "sns.distplot(K562_intron2_lengths, hist=False, kde_kws=dict(cumulative=True), color = sns.color_palette(\"Greens\")[4], bins=np.max(hg38_intron_info['intron_length']), label='K562 intron 2')\n",
    "sns.distplot(K562_intron3_lengths, hist=False, kde_kws=dict(cumulative=True), color = sns.color_palette(\"Greens\")[3], bins=np.max(hg38_intron_info['intron_length']), label='K562 intron 3')\n",
    "sns.distplot(K562_introns_expr_lengths, hist=False, kde_kws=dict(cumulative=True), color = sns.color_palette(\"Blues\")[5], bins=np.max(hg38_intron_info['intron_length']), label='expressed introns')\n",
    "\n",
    "x_labels = [\"$\\mathregular{10^{1}}$\",\"$\\mathregular{10^{2}}$\",\"$\\mathregular{10^{3}}$\",\"$\\mathregular{10^{4}}$\",\"$\\mathregular{10^{5}}$\"]\n",
    "plt.xticks([1,2,3,4,5], x_labels, fontsize=16)\n",
    "plt.yticks(fontsize=16)\n",
    "\n",
    "plt.xlim(0.5,5.5)\n",
    "\n",
    "ax.tick_params(axis='both', which='both', labelsize=14, direction='out', left=\"on\", bottom=\"on\", length=5)\n",
    "ax.set_ylabel(\"fraction of introns\", fontsize=16)\n",
    "ax.set_xlabel(\"intron leng (nt)\", fontsize=16)\n",
    "ax.legend(bbox_to_anchor=[1,0.5], fontsize=14)\n",
    "\n",
    "plt.savefig('/path/to/Supplemental_Figure_7A_K562_triplets_intron_length_cumdist_plot_withExpressedIntrons.pdf', \n",
    "           format='pdf', dpi=300, bbox_inches='tight')\n",
    "\n",
    "plt.show()\n"
   ]
  },
  {
   "cell_type": "code",
   "execution_count": null,
   "metadata": {},
   "outputs": [],
   "source": []
  },
  {
   "cell_type": "code",
   "execution_count": 50,
   "metadata": {},
   "outputs": [],
   "source": [
    "# get reads per gene for ONT sequencing datasets\n",
    "# upload gene information as a BedTool for parsing\n",
    "genes_df = pd.read_table('/path/to/annotation_files/dm6_RefSeq_genes_parsed.bed',header=None)\n",
    "genes_df.columns = ['chrom','start','end','transcript','gene_length','strand']\n",
    "genes_df['chrom'] = \"chr\"+genes_df['chrom']\n",
    "genes_df['gene_length'] = genes_df['end']-genes_df['start']\n",
    "genes_df['transcript'] = genes_df.apply(lambda row: row['transcript'].split('.')[0], axis=1)\n",
    "genes_df = genes_df.drop_duplicates(subset=['chrom','start','end','strand']).reset_index(drop=True)\n",
    "\n",
    "# get list of gene names for all transcripts\n",
    "names_df = pd.read_table('/path/to/annotation_files/dm6_RefSeq_names_parsed.txt', header=None)\n",
    "names_df.columns = ['gene','transcript']\n",
    "\n",
    "genes_names_merge = pd.merge(genes_df, names_df, on=['transcript'], how='left')\n",
    "genes_names_merge['gene'] = genes_names_merge.apply(lambda row: name_missing_genes(row) , axis=1)\n",
    "genes_names_merge = genes_names_merge.sort_values(by='gene_length', ascending=False).reset_index(drop=True)\n",
    "genes_names_merge = genes_names_merge.drop_duplicates(subset=['gene'], keep='first').reset_index(drop=True)\n",
    "\n",
    "genes_names_merge = genes_names_merge.sort_values(by=['chrom','start','end'], ascending=True).reset_index(drop=True)\n",
    "\n",
    "# create a bed file for all unique genes\n",
    "gene_bed = BedTool.from_dataframe(genes_names_merge)\n",
    "\n"
   ]
  },
  {
   "cell_type": "code",
   "execution_count": 51,
   "metadata": {},
   "outputs": [],
   "source": [
    "# get K562 ONT coverage information for both replicates\n",
    "S2_bamFile = pybedtools.BedTool('/path/to/all_S2_180420_dmel6_minimap2_uniq_sort.bam')\n",
    "\n",
    "S2_bedFile = S2_bamFile.bam_to_bed()\n",
    "\n",
    "# get number of reads that overlap each gene feature\n",
    "S2_coverage = gene_bed.coverage(S2_bedFile, s=True, counts=True) \n",
    "\n",
    "# make a dataframe from coverage file\n",
    "S2_df = S2_coverage.to_dataframe() # covert to dataframe\n",
    "S2_df.columns =['chrom','start','end','transcript','score','strand','gene','count'] # label columns\n",
    "S2_df = S2_df.drop_duplicates(subset=['chrom','start','end','strand']).reset_index(drop=True) # remove duplicate gene coords\n"
   ]
  },
  {
   "cell_type": "code",
   "execution_count": 52,
   "metadata": {},
   "outputs": [],
   "source": [
    "S2_genes = S2_df.copy()\n",
    "\n",
    "S2_genes['expression'] = S2_genes['count']/(S2_genes['end']-S2_genes['start'])\n",
    "S2_genes = S2_genes[S2_genes['expression']>S2_genes['expression'].quantile(q=0.9)].reset_index(drop=True)\n",
    "\n",
    "dm6_introns = dm6_intron_info.copy()\n",
    "dm6_introns['gene'] = dm6_introns.apply(lambda row: str(row['name'].split(\"_\")[0])+'_'+str(row['name'].split(\"_\")[1].split(\".\")[0]) , axis=1)\n",
    "\n",
    "S2_introns = dm6_introns[dm6_introns.apply(lambda row: row['gene'] in set(S2_genes['transcript']) , axis=1)].reset_index(drop=True)"
   ]
  },
  {
   "cell_type": "code",
   "execution_count": 53,
   "metadata": {},
   "outputs": [
    {
     "data": {
      "text/plain": [
       "3056"
      ]
     },
     "execution_count": 53,
     "metadata": {},
     "output_type": "execute_result"
    }
   ],
   "source": [
    "len(S2_introns)"
   ]
  },
  {
   "cell_type": "code",
   "execution_count": 54,
   "metadata": {},
   "outputs": [
    {
     "name": "stderr",
     "output_type": "stream",
     "text": [
      "/Users/karinechoquet/anaconda3/lib/python3.6/site-packages/matplotlib/cbook/deprecation.py:107: MatplotlibDeprecationWarning: Passing one of 'on', 'true', 'off', 'false' as a boolean is deprecated; use an actual boolean (True/False) instead.\n",
      "  warnings.warn(message, mplDeprecation, stacklevel=1)\n",
      "/Users/karinechoquet/anaconda3/lib/python3.6/site-packages/matplotlib/cbook/deprecation.py:107: MatplotlibDeprecationWarning: Passing one of 'on', 'true', 'off', 'false' as a boolean is deprecated; use an actual boolean (True/False) instead.\n",
      "  warnings.warn(message, mplDeprecation, stacklevel=1)\n"
     ]
    },
    {
     "data": {
      "image/png": "[encoded data removed]",
      "text/plain": [
       "<Figure size 144x237.6 with 1 Axes>"
      ]
     },
     "metadata": {},
     "output_type": "display_data"
    }
   ],
   "source": [
    "\n",
    "fig, ax = plt.subplots(figsize=(2,3.3))\n",
    "\n",
    "dm6_intron_lengths = np.log10(dm6_intron_info['intron_length'].values)\n",
    "S2_intron1_lengths = np.log10(S2_intron1.values)\n",
    "S2_intron2_lengths = np.log10(S2_intron2.values)\n",
    "S2_intron3_lengths = np.log10(S2_intron3.values)\n",
    "S2_introns_expr_lengths = np.log10(S2_introns['intron_length'].values)\n",
    "\n",
    "ax = sns.distplot(dm6_intron_lengths, hist=False, kde_kws=dict(cumulative=True), color = sns.color_palette(\"Blues\")[3], bins=np.max(dm6_intron_info['intron_length']), label='dm6 introns')\n",
    "sns.distplot(S2_intron1_lengths, hist=False, kde_kws=dict(cumulative=True), color = sns.color_palette(\"Greens\")[5], bins=np.max(dm6_intron_info['intron_length']), label='S2 intron 1')\n",
    "sns.distplot(S2_intron2_lengths, hist=False, kde_kws=dict(cumulative=True), color = sns.color_palette(\"Greens\")[4], bins=np.max(dm6_intron_info['intron_length']), label='S2 intron 2')\n",
    "sns.distplot(S2_intron3_lengths, hist=False, kde_kws=dict(cumulative=True), color = sns.color_palette(\"Greens\")[3], bins=np.max(dm6_intron_info['intron_length']), label='S2 intron 3')\n",
    "sns.distplot(S2_introns_expr_lengths, hist=False, kde_kws=dict(cumulative=True), color = sns.color_palette(\"Blues\")[5], bins=np.max(hg38_intron_info['intron_length']), label='expressed introns')\n",
    "\n",
    "x_labels = [\"$\\mathregular{10^{1}}$\",\"$\\mathregular{10^{2}}$\",\"$\\mathregular{10^{3}}$\",\"$\\mathregular{10^{4}}$\",\"$\\mathregular{10^{5}}$\"]\n",
    "plt.xticks([1,2,3,4,5], x_labels, fontsize=16)\n",
    "plt.yticks(fontsize=16)\n",
    "\n",
    "plt.xlim(0.5,5.5)\n",
    "\n",
    "ax.tick_params(axis='both', which='both', labelsize=14, direction='out', left=\"on\", bottom=\"on\", length=5)\n",
    "ax.set_ylabel(\"fraction of introns\", fontsize=16)\n",
    "ax.set_xlabel(\"intron leng (nt)\", fontsize=16)\n",
    "ax.legend(bbox_to_anchor=[1,0.5], fontsize=14)\n",
    "\n",
    "plt.savefig('/path/to/Supplemental_Figure_7A_S2_triplets_intron_length_cumdist_plot_withExpressedIntrons.pdf', \n",
    "           format='pdf', dpi=300, bbox_inches='tight')\n",
    "\n",
    "plt.show()\n"
   ]
  },
  {
   "cell_type": "code",
   "execution_count": 38,
   "metadata": {},
   "outputs": [],
   "source": [
    "# Supplementary Figure 7B\n",
    "# get multi intron df for K562\n",
    "K562_1_multi_intron_lengths_df = get_all_multi_intron_lengths(K562_1_splice_dictionary, 4)\n",
    "K562_2_multi_intron_lengths_df = get_all_multi_intron_lengths(K562_2_splice_dictionary, 4)\n",
    "K562_3_multi_intron_lengths_df = get_all_multi_intron_lengths(K562_3_splice_dictionary, 4)\n",
    "K562_4_multi_intron_lengths_df = get_all_multi_intron_lengths(K562_4_splice_dictionary, 4)\n",
    "K562_5a_multi_intron_lengths_df = get_all_multi_intron_lengths(K562_5a_splice_dictionary, 4)\n",
    "K562_5b_multi_intron_lengths_df = get_all_multi_intron_lengths(K562_5b_splice_dictionary, 4)\n"
   ]
  },
  {
   "cell_type": "code",
   "execution_count": 39,
   "metadata": {},
   "outputs": [],
   "source": [
    "# get multi intron df for S2\n",
    "S2_1a_multi_intron_lengths_df = get_all_multi_intron_lengths(S2_1a_splice_dictionary, 4)\n",
    "S2_1b_multi_intron_lengths_df = get_all_multi_intron_lengths(S2_1b_splice_dictionary, 4)\n",
    "S2_2_multi_intron_lengths_df = get_all_multi_intron_lengths(S2_2_splice_dictionary, 4)\n",
    "S2_3_multi_intron_lengths_df = get_all_multi_intron_lengths(S2_3_splice_dictionary, 4)\n"
   ]
  },
  {
   "cell_type": "code",
   "execution_count": 40,
   "metadata": {},
   "outputs": [],
   "source": [
    "K562_intron_lengths = pd.concat([K562_1_multi_intron_lengths_df,K562_2_multi_intron_lengths_df,K562_3_multi_intron_lengths_df,K562_4_multi_intron_lengths_df,K562_5a_multi_intron_lengths_df,K562_5b_multi_intron_lengths_df])\n",
    "S2_intron_lengths = pd.concat([S2_1a_multi_intron_lengths_df,S2_1b_multi_intron_lengths_df,S2_2_multi_intron_lengths_df,S2_3_multi_intron_lengths_df])\n"
   ]
  },
  {
   "cell_type": "code",
   "execution_count": 41,
   "metadata": {},
   "outputs": [],
   "source": [
    "# add min and max to match all introns (human)\n",
    "K562_intron1 = K562_intron_lengths['int1'].append(pd.DataFrame([np.min(hg38_intron_info['intron_length'])]))\n",
    "K562_intron1 = K562_intron_lengths['int1'].append(pd.DataFrame([np.max(hg38_intron_info['intron_length'])]))\n",
    "\n",
    "K562_intron2 = K562_intron_lengths['int2'].append(pd.DataFrame([np.min(hg38_intron_info['intron_length'])]))\n",
    "K562_intron2 = K562_intron_lengths['int2'].append(pd.DataFrame([np.max(hg38_intron_info['intron_length'])]))\n",
    "\n",
    "K562_intron3 = K562_intron_lengths['int3'].append(pd.DataFrame([np.min(hg38_intron_info['intron_length'])]))\n",
    "K562_intron3 = K562_intron_lengths['int3'].append(pd.DataFrame([np.max(hg38_intron_info['intron_length'])]))\n",
    "\n",
    "K562_intron4 = K562_intron_lengths['int4'].append(pd.DataFrame([np.min(hg38_intron_info['intron_length'])]))\n",
    "K562_intron4 = K562_intron_lengths['int4'].append(pd.DataFrame([np.max(hg38_intron_info['intron_length'])]))\n",
    "\n",
    "# add min and max to match all introns (Drosophila)\n",
    "S2_intron1 = S2_intron_lengths['int1'].append(pd.DataFrame([np.min(dm6_intron_info['intron_length'])]))\n",
    "S2_intron1 = S2_intron_lengths['int1'].append(pd.DataFrame([np.max(dm6_intron_info['intron_length'])]))\n",
    "\n",
    "S2_intron2 = S2_intron_lengths['int2'].append(pd.DataFrame([np.min(dm6_intron_info['intron_length'])]))\n",
    "S2_intron2 = S2_intron_lengths['int2'].append(pd.DataFrame([np.max(dm6_intron_info['intron_length'])]))\n",
    "\n",
    "S2_intron3 = S2_intron_lengths['int3'].append(pd.DataFrame([np.min(dm6_intron_info['intron_length'])]))\n",
    "S2_intron3 = S2_intron_lengths['int3'].append(pd.DataFrame([np.max(dm6_intron_info['intron_length'])]))\n",
    "\n",
    "S2_intron4 = S2_intron_lengths['int4'].append(pd.DataFrame([np.min(dm6_intron_info['intron_length'])]))\n",
    "S2_intron4 = S2_intron_lengths['int4'].append(pd.DataFrame([np.max(dm6_intron_info['intron_length'])]))\n"
   ]
  },
  {
   "cell_type": "code",
   "execution_count": 43,
   "metadata": {},
   "outputs": [
    {
     "name": "stderr",
     "output_type": "stream",
     "text": [
      "/Users/karinechoquet/anaconda3/lib/python3.6/site-packages/matplotlib/cbook/deprecation.py:107: MatplotlibDeprecationWarning: Passing one of 'on', 'true', 'off', 'false' as a boolean is deprecated; use an actual boolean (True/False) instead.\n",
      "  warnings.warn(message, mplDeprecation, stacklevel=1)\n",
      "/Users/karinechoquet/anaconda3/lib/python3.6/site-packages/matplotlib/cbook/deprecation.py:107: MatplotlibDeprecationWarning: Passing one of 'on', 'true', 'off', 'false' as a boolean is deprecated; use an actual boolean (True/False) instead.\n",
      "  warnings.warn(message, mplDeprecation, stacklevel=1)\n"
     ]
    },
    {
     "data": {
      "image/png": "[encoded data removed]",
      "text/plain": [
       "<Figure size 144x237.6 with 1 Axes>"
      ]
     },
     "metadata": {},
     "output_type": "display_data"
    }
   ],
   "source": [
    "\n",
    "fig, ax = plt.subplots(figsize=(2,3.3))\n",
    "\n",
    "hg38_intron_lengths = np.log10(hg38_intron_info['intron_length'].values)\n",
    "K562_intron1_lengths = np.log10(K562_intron1.values)\n",
    "K562_intron2_lengths = np.log10(K562_intron2.values)\n",
    "K562_intron3_lengths = np.log10(K562_intron3.values)\n",
    "K562_intron4_lengths = np.log10(K562_intron4.values)\n",
    "K562_introns_expr_lengths = np.log10(K562_introns['intron_length'].values)\n",
    "\n",
    "ax = sns.distplot(hg38_intron_lengths, hist=False, kde_kws=dict(cumulative=True), color = sns.color_palette(\"Blues\")[3], bins=np.max(hg38_intron_info['intron_length']), label='hg38 introns')\n",
    "sns.distplot(K562_intron1_lengths, hist=False, kde_kws=dict(cumulative=True), color = sns.color_palette(\"Greens\")[5], bins=np.max(hg38_intron_info['intron_length']), label='K562 intron 1')\n",
    "sns.distplot(K562_intron2_lengths, hist=False, kde_kws=dict(cumulative=True), color = sns.color_palette(\"Greens\")[4], bins=np.max(hg38_intron_info['intron_length']), label='K562 intron 2')\n",
    "sns.distplot(K562_intron3_lengths, hist=False, kde_kws=dict(cumulative=True), color = sns.color_palette(\"Greens\")[3], bins=np.max(hg38_intron_info['intron_length']), label='K562 intron 3')\n",
    "sns.distplot(K562_intron4_lengths, hist=False, kde_kws=dict(cumulative=True), color = sns.color_palette(\"Greens\")[2], bins=np.max(hg38_intron_info['intron_length']), label='K562 intron 4')\n",
    "sns.distplot(K562_introns_expr_lengths, hist=False, kde_kws=dict(cumulative=True), color = sns.color_palette(\"Blues\")[5], bins=np.max(hg38_intron_info['intron_length']), label='expressed introns')\n",
    "\n",
    "x_labels = [\"$\\mathregular{10^{1}}$\",\"$\\mathregular{10^{2}}$\",\"$\\mathregular{10^{3}}$\",\"$\\mathregular{10^{4}}$\",\"$\\mathregular{10^{5}}$\"]\n",
    "plt.xticks([1,2,3,4,5], x_labels, fontsize=16)\n",
    "plt.yticks(fontsize=16)\n",
    "\n",
    "plt.xlim(0.5,5.5)\n",
    "\n",
    "ax.tick_params(axis='both', which='both', labelsize=14, direction='out', left=\"on\", bottom=\"on\", length=5)\n",
    "ax.set_ylabel(\"fraction of introns\", fontsize=16)\n",
    "ax.set_xlabel(\"intron leng (nt)\", fontsize=16)\n",
    "ax.legend(bbox_to_anchor=[1,0.5], fontsize=14)\n",
    "\n",
    "plt.savefig('/path/to/Supplemental_Figure_7B_K562_quads_intron_length_cumdist_plot_withExpressedIntrons.pdf', \n",
    "           format='pdf', dpi=300, bbox_inches='tight')\n",
    "\n",
    "plt.show()\n"
   ]
  },
  {
   "cell_type": "code",
   "execution_count": 55,
   "metadata": {},
   "outputs": [
    {
     "name": "stderr",
     "output_type": "stream",
     "text": [
      "/Users/karinechoquet/anaconda3/lib/python3.6/site-packages/matplotlib/cbook/deprecation.py:107: MatplotlibDeprecationWarning: Passing one of 'on', 'true', 'off', 'false' as a boolean is deprecated; use an actual boolean (True/False) instead.\n",
      "  warnings.warn(message, mplDeprecation, stacklevel=1)\n",
      "/Users/karinechoquet/anaconda3/lib/python3.6/site-packages/matplotlib/cbook/deprecation.py:107: MatplotlibDeprecationWarning: Passing one of 'on', 'true', 'off', 'false' as a boolean is deprecated; use an actual boolean (True/False) instead.\n",
      "  warnings.warn(message, mplDeprecation, stacklevel=1)\n"
     ]
    },
    {
     "data": {
      "image/png": "[encoded data removed]",
      "text/plain": [
       "<Figure size 144x237.6 with 1 Axes>"
      ]
     },
     "metadata": {},
     "output_type": "display_data"
    }
   ],
   "source": [
    "\n",
    "fig, ax = plt.subplots(figsize=(2,3.3))\n",
    "\n",
    "dm6_intron_lengths = np.log10(dm6_intron_info['intron_length'].values)\n",
    "S2_intron1_lengths = np.log10(S2_intron1.values)\n",
    "S2_intron2_lengths = np.log10(S2_intron2.values)\n",
    "S2_intron3_lengths = np.log10(S2_intron3.values)\n",
    "S2_intron4_lengths = np.log10(S2_intron4.values)\n",
    "S2_introns_expr_lengths = np.log10(S2_introns['intron_length'].values)\n",
    "\n",
    "ax = sns.distplot(dm6_intron_lengths, hist=False, kde_kws=dict(cumulative=True), color = sns.color_palette(\"Blues\")[3], bins=np.max(dm6_intron_info['intron_length']), label='dm6 introns')\n",
    "sns.distplot(S2_intron1_lengths, hist=False, kde_kws=dict(cumulative=True), color = sns.color_palette(\"Greens\")[5], bins=np.max(dm6_intron_info['intron_length']), label='S2 intron 1')\n",
    "sns.distplot(S2_intron2_lengths, hist=False, kde_kws=dict(cumulative=True), color = sns.color_palette(\"Greens\")[4], bins=np.max(dm6_intron_info['intron_length']), label='S2 intron 2')\n",
    "sns.distplot(S2_intron3_lengths, hist=False, kde_kws=dict(cumulative=True), color = sns.color_palette(\"Greens\")[3], bins=np.max(dm6_intron_info['intron_length']), label='S2 intron 3')\n",
    "sns.distplot(S2_intron4_lengths, hist=False, kde_kws=dict(cumulative=True), color = sns.color_palette(\"Greens\")[3], bins=np.max(dm6_intron_info['intron_length']), label='S2 intron 4')\n",
    "sns.distplot(S2_introns_expr_lengths, hist=False, kde_kws=dict(cumulative=True), color = sns.color_palette(\"Blues\")[5], bins=np.max(hg38_intron_info['intron_length']), label='expressed introns')\n",
    "\n",
    "\n",
    "x_labels = [\"$\\mathregular{10^{1}}$\",\"$\\mathregular{10^{2}}$\",\"$\\mathregular{10^{3}}$\",\"$\\mathregular{10^{4}}$\",\"$\\mathregular{10^{5}}$\"]\n",
    "plt.xticks([1,2,3,4,5], x_labels, fontsize=16)\n",
    "plt.yticks(fontsize=16)\n",
    "\n",
    "plt.xlim(0.5,5.5)\n",
    "\n",
    "ax.tick_params(axis='both', which='both', labelsize=14, direction='out', left=\"on\", bottom=\"on\", length=5)\n",
    "ax.set_ylabel(\"fraction of introns\", fontsize=16)\n",
    "ax.set_xlabel(\"intron leng (nt)\", fontsize=16)\n",
    "ax.legend(bbox_to_anchor=[1,0.5], fontsize=14)\n",
    "\n",
    "plt.savefig('/path/to/Supplemental_Figure_7B_S2_quads_intron_length_cumdist_plot_withExpressedIntrons.pdf', \n",
    "           format='pdf', dpi=300, bbox_inches='tight')\n",
    "\n",
    "plt.show()\n"
   ]
  },
  {
   "cell_type": "code",
   "execution_count": null,
   "metadata": {},
   "outputs": [],
   "source": []
  },
  {
   "cell_type": "code",
   "execution_count": 6,
   "metadata": {},
   "outputs": [],
   "source": [
    "# get multi intron df for K562\n",
    "K562_1_multi_introns_df = get_all_multi_introns(K562_1_splice_dictionary, 3)\n",
    "K562_2_multi_introns_df = get_all_multi_introns(K562_2_splice_dictionary, 3)\n",
    "K562_3_multi_introns_df = get_all_multi_introns(K562_3_splice_dictionary, 3)\n",
    "K562_4_multi_introns_df = get_all_multi_introns(K562_4_splice_dictionary, 3)\n",
    "K562_5a_multi_introns_df = get_all_multi_introns(K562_5a_splice_dictionary, 3)\n",
    "K562_5b_multi_introns_df = get_all_multi_introns(K562_5b_splice_dictionary, 3)\n"
   ]
  },
  {
   "cell_type": "code",
   "execution_count": 7,
   "metadata": {},
   "outputs": [],
   "source": [
    "# get multi intron df for S2\n",
    "S2_1a_multi_introns_df = get_all_multi_introns(S2_1a_splice_dictionary, 3)\n",
    "S2_1b_multi_introns_df = get_all_multi_introns(S2_1b_splice_dictionary, 3)\n",
    "S2_2_multi_introns_df = get_all_multi_introns(S2_2_splice_dictionary, 3)\n",
    "S2_3_multi_introns_df = get_all_multi_introns(S2_3_splice_dictionary, 3)\n"
   ]
  },
  {
   "cell_type": "code",
   "execution_count": null,
   "metadata": {},
   "outputs": [],
   "source": []
  },
  {
   "cell_type": "code",
   "execution_count": null,
   "metadata": {},
   "outputs": [],
   "source": [
    "### Supplmemenatl Figure 7C-D"
   ]
  },
  {
   "cell_type": "code",
   "execution_count": 4,
   "metadata": {},
   "outputs": [],
   "source": [
    "def get_intron_position_dictionaries(intron_info):\n",
    "    \n",
    "    first_intron_info = intron_info[intron_info['intron_order']=='first']\n",
    "    first_intron_info = first_intron_info[['gene','count']]\n",
    "    first_intron_info = first_intron_info.set_index('gene')['count'].to_dict()\n",
    "\n",
    "    last_intron_info = intron_info[intron_info['intron_order']=='last']\n",
    "    last_intron_info = last_intron_info[['gene','count']]\n",
    "    last_intron_info = last_intron_info.set_index('gene')['count'].to_dict()\n",
    "\n",
    "    return first_intron_info, last_intron_info\n",
    "\n",
    "\n",
    "def get_all_multi_introns(read_junctions, intron_min, first_intron_info, last_intron_info):\n",
    "\n",
    "    multi_introns = []\n",
    "\n",
    "    for read in read_junctions.keys():\n",
    "\n",
    "        # make a set for all intron pairs within a read\n",
    "        # this will avoid duplicate pairs being called due to alternative splicing\n",
    "        uniq_splice_pattern = set()\n",
    "\n",
    "        # loop through all genes that has introns that a read maps to\n",
    "        for gene in read_junctions[read].keys():\n",
    "\n",
    "            # only go through genes that have 2 or more introns\n",
    "            if ((len(read_junctions[read][gene]) >= intron_min) & (len(read_junctions[read][gene]) <= 10)):\n",
    "\n",
    "                # characterize the number of spliced and unspliced introns in the read\n",
    "                splice_status = [row[6] for row in read_junctions[read][gene]]\n",
    "                splice_status_join = '_'.join(splice_status)\n",
    "                status_count = Counter(splice_status)\n",
    "\n",
    "                # only process the file if intron pattern hasn't been seen previously\n",
    "                # for a gene that this read aligns to\n",
    "                if (splice_status_join not in uniq_splice_pattern):\n",
    "                    uniq_splice_pattern.add(splice_status_join)\n",
    "\n",
    "                    spliced_count = status_count['YES']\n",
    "                    unspliced_count = status_count['NO']\n",
    "\n",
    "                    temp = [] \n",
    "\n",
    "                    # build a dataframe of introns in the gene that map to this read\n",
    "                    # and are capable of being sequenced if the read has no splicing\n",
    "                    read_introns_df = pd.DataFrame(read_junctions[read][gene])\n",
    "                    read_introns_df.columns = ['chrom','start','end','intron_count','strand','read_overlap','splice_status']\n",
    "                    read_introns_df = read_introns_df[read_introns_df['read_overlap'] > 0].sort_values('intron_count').reset_index(drop=True)\n",
    "\n",
    "                    dif = (np.max(read_introns_df['intron_count'])-np.min(read_introns_df['intron_count'])+1)\n",
    "                    if (len(read_introns_df)==dif):\n",
    "\n",
    "                        for i in range(len(read_introns_df)):\n",
    "                            intron_count = read_introns_df.iloc[i]['intron_count']\n",
    "                            intron_chrom = str(read_introns_df.iloc[i]['chrom'])\n",
    "                            intron_start = str(read_introns_df.iloc[i]['start'])\n",
    "                            intron_end = str(read_introns_df.iloc[i]['end'])\n",
    "                            intron_strand = read_introns_df.iloc[i]['strand']\n",
    "                            intron_splice = read_introns_df.iloc[i]['splice_status']\n",
    "                            intron_coord = intron_chrom+'_'+intron_start+'_'+intron_end\n",
    "\n",
    "                            if ((first_intron_info[gene]!=intron_count) & (last_intron_info[gene]!=intron_count)):\n",
    "                                temp.append(intron_splice)\n",
    "\n",
    "\n",
    "                        if (intron_strand=='+'):\n",
    "\n",
    "                            final = []\n",
    "                            final.append(read)\n",
    "                            final.append(intron_strand)\n",
    "\n",
    "                            for i in temp:\n",
    "                                final.append(i)\n",
    "\n",
    "                            for i in range(10-len(temp)):\n",
    "                                final.append('_')\n",
    "\n",
    "                            if ((final.count('_')<=7)):\n",
    "                                multi_introns.append(final)\n",
    "\n",
    "\n",
    "                        if (intron_strand=='-'):\n",
    "\n",
    "                            final = []\n",
    "                            final.append(read)\n",
    "                            final.append(intron_strand)\n",
    "\n",
    "                            for i in reversed(temp):\n",
    "                                final.append(i)\n",
    "\n",
    "                            for i in range(10-len(temp)):\n",
    "                                final.append('_') \n",
    "\n",
    "                            if ((final.count('_')<=7)):\n",
    "                                multi_introns.append(final)\n",
    "\n",
    "    multi_introns_df = pd.DataFrame(multi_introns)\n",
    "    multi_introns_df.columns = ['read','strand','int1','int2','int3','int4','int5','int6','int7','int8','int9','int10']\n",
    "    multi_introns_df = multi_introns_df.sort_values(by=['read']).reset_index(drop=True)\n",
    "\n",
    "    return multi_introns_df\n",
    "\n",
    "\n",
    "def get_intron_quads_df(read_junctions):\n",
    "    intron_quads = []\n",
    "\n",
    "    for read in read_junctions.keys():\n",
    "\n",
    "        # make a set for all intron pairs within a read\n",
    "        # this will avoid duplicate pairs being called due to alternative splicing\n",
    "        uniq_splice_pattern = set()\n",
    "\n",
    "        # loop through all genes that has introns that a read maps to\n",
    "        for gene in read_junctions[read].keys():\n",
    "\n",
    "            # only go through genes that have 2 or more introns\n",
    "            if (len(read_junctions[read][gene]) >= 4):\n",
    "\n",
    "                # characterize the number of spliced and unspliced introns in the read\n",
    "                splice_status = [row[6] for row in read_junctions[read][gene]]\n",
    "                splice_status_join = '_'.join(splice_status)\n",
    "                status_count = Counter(splice_status)\n",
    "\n",
    "                # only process the file if intron pattern hasn't been seen previously\n",
    "                # for a gene that this read aligns to\n",
    "                if (splice_status_join not in uniq_splice_pattern):\n",
    "                    uniq_splice_pattern.add(splice_status_join)\n",
    "\n",
    "                    # loop through all triplets within a read\n",
    "                    for i in range(len(splice_status)-2):\n",
    "\n",
    "                        # loop through all triplets within a read\n",
    "                        if ((splice_status[i]!=splice_status[i+1]) or (splice_status[i]!=splice_status[i+2]) or (splice_status[i]!=splice_status[i+3])):\n",
    "                            temp = []\n",
    "\n",
    "                            # build a dataframe of introns in the gene that map to this read\n",
    "                            # and are capable of being sequenced if the read has no splicing\n",
    "                            read_introns_df = pd.DataFrame(read_junctions[read][gene])[i:i+3]\n",
    "                            read_introns_df.columns = ['chrom','start','end','intron_count','strand','read_overlap','splice_status']\n",
    "                            read_introns_df = read_introns_df[read_introns_df['read_overlap'] > 0].sort_values('intron_count').reset_index(drop=True)\n",
    "\n",
    "                            dif = (np.max(read_introns_df['intron_count'])-np.min(read_introns_df['intron_count'])+1)\n",
    "                            if (len(read_introns_df)==3) & (len(read_introns_df)==dif):\n",
    "\n",
    "                                for j in range(len(read_introns_df)):\n",
    "                                    intron_count = read_introns_df.iloc[j]['intron_count']\n",
    "                                    intron_chrom = str(read_introns_df.iloc[j]['chrom'])\n",
    "                                    intron_start = str(read_introns_df.iloc[j]['start'])\n",
    "                                    intron_end = str(read_introns_df.iloc[j]['end'])\n",
    "                                    intron_strand = read_introns_df.iloc[j]['strand']\n",
    "                                    intron_splice = read_introns_df.iloc[j]['splice_status']\n",
    "                                    intron_coord = intron_chrom+'_'+intron_start+'_'+intron_end\n",
    "\n",
    "                                    temp.append(intron_splice)\n",
    "\n",
    "                                if (intron_strand=='+'):\n",
    "\n",
    "                                    final = []\n",
    "                                    final.append(read)\n",
    "                                    final.append(intron_strand)\n",
    "\n",
    "                                    for i in temp:\n",
    "                                        final.append(i)\n",
    "\n",
    "                                    if ((len(final)==6) & (final.count('YES')>=1) & (final.count('NO')>=1)):\n",
    "                                        intron_quads.append(final)\n",
    "\n",
    "\n",
    "                                if (intron_strand=='-'):\n",
    "\n",
    "                                    final = []\n",
    "                                    final.append(read)\n",
    "                                    final.append(intron_strand)\n",
    "\n",
    "                                    for i in reversed(temp):\n",
    "                                        final.append(i)\n",
    "\n",
    "                                    if ((len(final)==6) & (final.count('YES')>=1) & (final.count('NO')>=1)):\n",
    "                                        intron_quads.append(final)\n",
    "\n",
    "    intron_quads_df = pd.DataFrame(intron_quads)\n",
    "    intron_quads_df.columns = ['read','strand','int1','int2','int3','int4']\n",
    "\n",
    "    return intron_quads_df\n",
    "\n",
    "\n",
    "\n",
    "\n",
    "def get_triplet_splicing_order(intron_triplets_df):\n",
    "    \n",
    "    triplet_order = []\n",
    "    \n",
    "    triplet_order.append(['YES_NO_NO', np.round(len(intron_triplets_df[(intron_triplets_df['int1']=='YES') & (intron_triplets_df['int2']=='NO') & (intron_triplets_df['int3']=='NO')])/float(len(intron_triplets_df))*100, 1)])\n",
    "    triplet_order.append(['NO_YES_NO', np.round(len(intron_triplets_df[(intron_triplets_df['int1']=='NO') & (intron_triplets_df['int2']=='YES') & (intron_triplets_df['int3']=='NO')])/float(len(intron_triplets_df))*100, 1)])\n",
    "    triplet_order.append(['NO_NO_YES', np.round(len(intron_triplets_df[(intron_triplets_df['int1']=='NO') & (intron_triplets_df['int2']=='NO') & (intron_triplets_df['int3']=='YES')])/float(len(intron_triplets_df))*100, 1)])\n",
    "\n",
    "    triplet_order.append(['YES_YES_NO', np.round(len(intron_triplets_df[(intron_triplets_df['int1']=='YES') & (intron_triplets_df['int2']=='YES') & (intron_triplets_df['int3']=='NO')])/float(len(intron_triplets_df))*100, 1)])\n",
    "    triplet_order.append(['YES_NO_YES', np.round(len(intron_triplets_df[(intron_triplets_df['int1']=='YES') & (intron_triplets_df['int2']=='NO') & (intron_triplets_df['int3']=='YES')])/float(len(intron_triplets_df))*100, 1)])\n",
    "    triplet_order.append(['NO_YES_YES', np.round(len(intron_triplets_df[(intron_triplets_df['int1']=='NO') & (intron_triplets_df['int2']=='YES') & (intron_triplets_df['int3']=='YES')])/float(len(intron_triplets_df))*100, 1)])\n",
    "\n",
    "    triplet_order_df = pd.DataFrame(triplet_order)\n",
    "    triplet_order_df.columns = ['splicing_status','freq']\n",
    "    \n",
    "    return triplet_order_df\n",
    "\n",
    "\n",
    "def get_triplet_splicing_order_split(intron_triplets_df):\n",
    "    \n",
    "    triplet_order_1spliced = []\n",
    "    triplet_order_2spliced = []\n",
    "\n",
    "    triplet_order_1spliced.append(['YES_NO_NO', len(intron_triplets_df[(intron_triplets_df['int1']=='YES') & (intron_triplets_df['int2']=='NO') & (intron_triplets_df['int3']=='NO')])])\n",
    "    triplet_order_1spliced.append(['NO_YES_NO', len(intron_triplets_df[(intron_triplets_df['int1']=='NO') & (intron_triplets_df['int2']=='YES') & (intron_triplets_df['int3']=='NO')])])\n",
    "    triplet_order_1spliced.append(['NO_NO_YES', len(intron_triplets_df[(intron_triplets_df['int1']=='NO') & (intron_triplets_df['int2']=='NO') & (intron_triplets_df['int3']=='YES')])])\n",
    "\n",
    "    triplet_order_1spliced_df = pd.DataFrame(triplet_order_1spliced)\n",
    "    triplet_order_1spliced_df.columns = ['splicing_status','count']\n",
    "\n",
    "    total = np.sum(triplet_order_1spliced_df['count'])\n",
    "    triplet_order_1spliced_df['freq'] = np.round((triplet_order_1spliced_df['count']/total)*100, 1)\n",
    "\n",
    "    triplet_order_2spliced.append(['YES_YES_NO', len(intron_triplets_df[(intron_triplets_df['int1']=='YES') & (intron_triplets_df['int2']=='YES') & (intron_triplets_df['int3']=='NO')])])\n",
    "    triplet_order_2spliced.append(['YES_NO_YES', len(intron_triplets_df[(intron_triplets_df['int1']=='YES') & (intron_triplets_df['int2']=='NO') & (intron_triplets_df['int3']=='YES')])])\n",
    "    triplet_order_2spliced.append(['NO_YES_YES', len(intron_triplets_df[(intron_triplets_df['int1']=='NO') & (intron_triplets_df['int2']=='YES') & (intron_triplets_df['int3']=='YES')])])\n",
    "\n",
    "    triplet_order_2spliced_df = pd.DataFrame(triplet_order_2spliced)\n",
    "    triplet_order_2spliced_df.columns = ['splicing_status','count']\n",
    "\n",
    "    total = np.sum(triplet_order_2spliced_df['count'])\n",
    "    triplet_order_2spliced_df['freq'] = np.round((triplet_order_2spliced_df['count']/total)*100, 1)\n",
    "    \n",
    "    return triplet_order_1spliced_df, triplet_order_2spliced_df\n"
   ]
  },
  {
   "cell_type": "code",
   "execution_count": 3,
   "metadata": {},
   "outputs": [],
   "source": [
    "# open dictionary with all intron junctions that a read spans\n",
    "K562_1_splice_dictionary = np.load('/path/to/K562_1_splicing_dictionary.npy').item() \n",
    "K562_2_splice_dictionary = np.load('/path/to/K562_2_splicing_dictionary.npy').item() \n",
    "K562_3_splice_dictionary = np.load('/path/to/K562_3_splicing_dictionary.npy').item() \n",
    "K562_4_splice_dictionary = np.load('/path/to/K562_4_splicing_dictionary.npy').item() \n",
    "K562_5a_splice_dictionary = np.load('/path/to/K562_5a_splicing_dictionary.npy').item() \n",
    "K562_5b_splice_dictionary = np.load('/path/to/K562_5b_splicing_dictionary.npy').item() \n",
    "\n",
    "S2_1a_splice_dictionary = np.load('/path/to/S2_1a_splicing_dictionary.npy').item() \n",
    "S2_1b_splice_dictionary = np.load('/path/to/S2_1b_splicing_dictionary.npy').item() \n",
    "S2_2_splice_dictionary = np.load('/path/to/S2_2_splicing_dictionary.npy').item() \n",
    "S2_3_splice_dictionary = np.load('/path/to/S2_3_splicing_dictionary.npy').item() \n"
   ]
  },
  {
   "cell_type": "code",
   "execution_count": 5,
   "metadata": {},
   "outputs": [],
   "source": [
    "# get first and last intron dictionaries\n",
    "\n",
    "# upload file with information about all introns in dmel6\n",
    "hg38_intron_info = pd.read_table('/path/to/annotation_files/hg38_all_intron_features.txt')\n",
    "dm6_intron_info = pd.read_table('/path/to/annotation_files/dmel6_all_intron_features.txt')\n",
    "\n",
    "hg38_first_introns, hg38_last_introns = get_intron_position_dictionaries(hg38_intron_info)\n",
    "dm6_first_introns, dm6_last_introns = get_intron_position_dictionaries(dm6_intron_info)\n"
   ]
  },
  {
   "cell_type": "code",
   "execution_count": 6,
   "metadata": {},
   "outputs": [],
   "source": [
    "# get multi intron df for K562\n",
    "K562_1_multi_introns_df = get_all_multi_introns(K562_1_splice_dictionary, 3, hg38_first_introns, hg38_last_introns)\n",
    "K562_2_multi_introns_df = get_all_multi_introns(K562_2_splice_dictionary, 3, hg38_first_introns, hg38_last_introns)\n",
    "K562_3_multi_introns_df = get_all_multi_introns(K562_3_splice_dictionary, 3, hg38_first_introns, hg38_last_introns)\n",
    "K562_4_multi_introns_df = get_all_multi_introns(K562_4_splice_dictionary, 3, hg38_first_introns, hg38_last_introns)\n",
    "K562_5a_multi_introns_df = get_all_multi_introns(K562_5a_splice_dictionary, 3, hg38_first_introns, hg38_last_introns)\n",
    "K562_5b_multi_introns_df = get_all_multi_introns(K562_5b_splice_dictionary, 3, hg38_first_introns, hg38_last_introns)\n",
    "K562_multi_introns_df = pd.concat([K562_1_multi_introns_df,K562_2_multi_introns_df,K562_3_multi_introns_df,K562_4_multi_introns_df,K562_5a_multi_introns_df,K562_5b_multi_introns_df],axis=0).reset_index(drop=True)\n"
   ]
  },
  {
   "cell_type": "code",
   "execution_count": 7,
   "metadata": {},
   "outputs": [],
   "source": [
    "# get multi intron df for K562\n",
    "S2_1a_multi_introns_df = get_all_multi_introns(S2_1a_splice_dictionary, 3, dm6_first_introns, dm6_last_introns)\n",
    "S2_1b_multi_introns_df = get_all_multi_introns(S2_1b_splice_dictionary, 3, dm6_first_introns, dm6_last_introns)\n",
    "S2_2_multi_introns_df = get_all_multi_introns(S2_2_splice_dictionary, 3, dm6_first_introns, dm6_last_introns)\n",
    "S2_3_multi_introns_df = get_all_multi_introns(S2_3_splice_dictionary, 3, dm6_first_introns, dm6_last_introns)\n",
    "S2_multi_introns_df = pd.concat([S2_1a_multi_introns_df,S2_1b_multi_introns_df,S2_2_multi_introns_df,S2_3_multi_introns_df],axis=0).reset_index(drop=True)\n"
   ]
  },
  {
   "cell_type": "code",
   "execution_count": 8,
   "metadata": {},
   "outputs": [],
   "source": [
    "\n",
    "def get_splicing_pattern_counts(multi_introns_df, total):\n",
    "    \n",
    "    splice_status_list = []\n",
    "    multi_introns_df = multi_introns_df.drop(['read','strand'], 1)\n",
    "\n",
    "    for i in range(0, len(multi_introns_df)):\n",
    "\n",
    "        itrons_per_read = sum(multi_introns_df.iloc[i]!='_')\n",
    "\n",
    "        for j in range(0, itrons_per_read-(total-1)):\n",
    "\n",
    "            splice_status = multi_introns_df.iloc[i][j:j+total]\n",
    "            splice_status_str = splice_status.str.cat(sep='_')\n",
    "\n",
    "            splice_status_list.append(splice_status_str)\n",
    "\n",
    "    splice_status_counts = Counter(splice_status_list)\n",
    "    splicing_patterns_df = pd.DataFrame.from_dict(splice_status_counts, orient='index').reset_index()\n",
    "    splicing_patterns_df.columns = ['pattern','counts']\n",
    "\n",
    "    return splicing_patterns_df\n",
    "\n",
    "\n"
   ]
  },
  {
   "cell_type": "code",
   "execution_count": 9,
   "metadata": {},
   "outputs": [],
   "source": [
    "def get_intron_splicing_percent(splicing_patterns, int_total):\n",
    "\n",
    "    introns_1yes = splicing_patterns[splicing_patterns['pattern'].str.split('_').apply(lambda x: x.count('YES')) == 1].reset_index(drop=True)\n",
    "    introns_1yes['percent'] = introns_1yes['counts'].astype(float)/float(np.sum(introns_1yes['counts']))*100\n",
    "\n",
    "    introns_2yes = splicing_patterns[splicing_patterns['pattern'].str.split('_').apply(lambda x: x.count('YES')) == 2].reset_index(drop=True)\n",
    "    introns_2yes['percent'] = introns_2yes['counts'].astype(float)/float(np.sum(introns_2yes['counts']))*100\n",
    "\n",
    "    if (int_total==3):\n",
    "        return introns_1yes, introns_2yes\n",
    "    \n",
    "    if (int_total==4):\n",
    "        introns_3yes = splicing_patterns[splicing_patterns['pattern'].str.split('_').apply(lambda x: x.count('YES')) == 3].reset_index(drop=True)\n",
    "        introns_3yes['percent'] = introns_3yes['counts'].astype(float)/float(np.sum(introns_3yes['counts']))*100\n",
    "\n",
    "        return introns_1yes, introns_2yes, introns_3yes"
   ]
  },
  {
   "cell_type": "code",
   "execution_count": null,
   "metadata": {},
   "outputs": [],
   "source": []
  },
  {
   "cell_type": "code",
   "execution_count": null,
   "metadata": {},
   "outputs": [],
   "source": [
    "### Supplemental Figure S7C"
   ]
  },
  {
   "cell_type": "code",
   "execution_count": 10,
   "metadata": {},
   "outputs": [],
   "source": [
    "S2_1_multi_introns_df = pd.concat([S2_1a_multi_introns_df, S2_1b_multi_introns_df])\n",
    "S2_1_3introns_splicing_patterns = get_splicing_pattern_counts(S2_1_multi_introns_df, 3)\n",
    "S2_2_3introns_splicing_patterns = get_splicing_pattern_counts(S2_2_multi_introns_df, 3)\n",
    "S2_3_3introns_splicing_patterns = get_splicing_pattern_counts(S2_3_multi_introns_df, 3)\n",
    "\n",
    "S2_1_3introns_splicing_patterns['rep'] = 'S2_1'\n",
    "S2_2_3introns_splicing_patterns['rep'] = 'S2_2'\n",
    "S2_3_3introns_splicing_patterns['rep'] = 'S2_3'\n",
    "\n",
    "S2_3introns_splicing_patterns = pd.concat([S2_1_3introns_splicing_patterns, S2_2_3introns_splicing_patterns, S2_3_3introns_splicing_patterns])\n"
   ]
  },
  {
   "cell_type": "code",
   "execution_count": 12,
   "metadata": {},
   "outputs": [],
   "source": [
    "S2_1_introns_1yes, S2_1_introns_2yes = get_intron_splicing_percent(S2_1_3introns_splicing_patterns, 3)\n",
    "S2_2_introns_1yes, S2_2_introns_2yes = get_intron_splicing_percent(S2_2_3introns_splicing_patterns, 3)\n",
    "S2_3_introns_1yes, S2_3_introns_2yes = get_intron_splicing_percent(S2_3_3introns_splicing_patterns, 3)\n",
    "\n",
    "S2_introns_1yes = pd.concat([S2_1_introns_1yes, S2_2_introns_1yes, S2_3_introns_1yes])\n",
    "S2_introns_2yes = pd.concat([S2_1_introns_2yes, S2_2_introns_2yes, S2_3_introns_2yes])\n"
   ]
  },
  {
   "cell_type": "code",
   "execution_count": 12,
   "metadata": {},
   "outputs": [
    {
     "data": {
      "image/png": "[encoded data removed]",
      "text/plain": [
       "<matplotlib.figure.Figure at 0x1a181b0fd0>"
      ]
     },
     "metadata": {},
     "output_type": "display_data"
    }
   ],
   "source": [
    "fig, ax = plt.subplots(figsize=(1.5,3))\n",
    "\n",
    "fill_colors = [sns.color_palette(\"Reds\")[3]]\n",
    "sns.barplot(x=\"percent\", y=\"pattern\", data=S2_introns_1yes, palette=fill_colors,\n",
    "           order=['YES_NO_NO','NO_YES_NO','NO_NO_YES'], ci=68, capsize=0.05, errwidth=1.5)\n",
    "\n",
    "plt.xlim(0,70)\n",
    "\n",
    "plt.xticks([0,25,50], fontsize=14)\n",
    "plt.yticks(fontsize=14)\n",
    "plt.tick_params(axis='both', which='both', labelsize=14, direction='out', left=\"on\", bottom=\"on\", length=5)\n",
    "\n",
    "plt.legend(bbox_to_anchor=(1.1, 1.0), fontsize=14)\n",
    "plt.ylabel(\"splicing status\", fontsize=16)\n",
    "plt.xlabel(\"frequency\", fontsize=16)\n",
    "\n",
    "plt.axvline(x=33.3, color='black', linestyle=\":\")\n",
    "\n",
    "plt.title(\"Drosophila\\n(one spliced)\", fontsize=16)\n",
    "\n",
    "plt.savefig('/path/to/Supplemental_Figure_7C_S2_splicing_order_3int_oneSpliced_noFirst_noLast.pdf', \n",
    "           format='pdf', dpi=300, bbox_inches='tight')\n",
    "\n",
    "plt.show()\n"
   ]
  },
  {
   "cell_type": "code",
   "execution_count": 14,
   "metadata": {},
   "outputs": [
    {
     "name": "stdout",
     "output_type": "stream",
     "text": [
      "S2 3 introns, 1 spliced, in order p-value: 6.261316476841944e-44\n"
     ]
    }
   ],
   "source": [
    "introns_1yes = S2_introns_1yes.copy()\n",
    "\n",
    "in_order = sum(introns_1yes[(introns_1yes['pattern']=='YES_NO_NO')]['counts'])\n",
    "no_order = sum(introns_1yes[(introns_1yes['pattern']!='YES_NO_NO')]['counts'])\n",
    "\n",
    "p = stats.binom_test([in_order,no_order], n=None, p=0.3333333333)\n",
    "print(\"S2 3 introns, 1 spliced, in order p-value: \"+str(p))"
   ]
  },
  {
   "cell_type": "code",
   "execution_count": 15,
   "metadata": {},
   "outputs": [
    {
     "name": "stdout",
     "output_type": "stream",
     "text": [
      "S2, 1 intron YES_NO_NO p-value: 6.261316476841944e-44\n",
      "S2, 1 intron NO_YES_NO p-value: 2.248625393734018e-09\n",
      "S2, 1 intron NO_NO_YES p-value: 1.5118374375718658e-19\n"
     ]
    }
   ],
   "source": [
    "introns_1yes = S2_introns_1yes.copy()\n",
    "splicing_patterns = ['YES_NO_NO','NO_YES_NO','NO_NO_YES']\n",
    "\n",
    "for i in splicing_patterns:\n",
    "\n",
    "    p = str(stats.binom_test([sum(introns_1yes[(introns_1yes['pattern']==i)]['counts']),sum(introns_1yes[(introns_1yes['pattern']!=i)]['counts'])], n=None, p=0.3333333333))\n",
    "\n",
    "    print(\"S2, 1 intron \"+i+\" p-value: \"+str(p))"
   ]
  },
  {
   "cell_type": "code",
   "execution_count": 13,
   "metadata": {},
   "outputs": [
    {
     "data": {
      "image/png": "[encoded data removed]",
      "text/plain": [
       "<matplotlib.figure.Figure at 0x1a17789750>"
      ]
     },
     "metadata": {},
     "output_type": "display_data"
    }
   ],
   "source": [
    "fig, ax = plt.subplots(figsize=(1.5,3))\n",
    "\n",
    "fill_colors = [sns.color_palette(\"Reds\")[3]]\n",
    "sns.barplot(x=\"percent\", y=\"pattern\", data=S2_introns_2yes, palette=fill_colors,\n",
    "           order=['YES_YES_NO','YES_NO_YES','NO_YES_YES'], ci=68, capsize=0.05, errwidth=1.5)\n",
    "\n",
    "plt.xlim(0,70)\n",
    "\n",
    "plt.xticks([0,25,50], fontsize=14)\n",
    "plt.yticks(fontsize=14)\n",
    "plt.tick_params(axis='both', which='both', labelsize=14, direction='out', left=\"on\", bottom=\"on\", length=5)\n",
    "\n",
    "plt.legend(bbox_to_anchor=(1.1, 1.0), fontsize=14)\n",
    "plt.ylabel(\"splicing status\", fontsize=16)\n",
    "plt.xlabel(\"frequency\", fontsize=16)\n",
    "\n",
    "plt.axvline(x=33.3, color='black', linestyle=\":\")\n",
    "\n",
    "plt.title(\"Drosophila\\n(two spliced)\", fontsize=16)\n",
    "\n",
    "plt.savefig('/path/to/Supplemental_Figure_7C_S2_splicing_order_3int_twoSpliced_noFirst_noLast.pdf', \n",
    "           format='pdf', dpi=300, bbox_inches='tight')\n",
    "\n",
    "plt.show()\n"
   ]
  },
  {
   "cell_type": "code",
   "execution_count": 16,
   "metadata": {},
   "outputs": [
    {
     "name": "stdout",
     "output_type": "stream",
     "text": [
      "S2 3 introns, 2 spliced, in order p-value: 6.286427885074806e-16\n"
     ]
    }
   ],
   "source": [
    "introns_2yes = S2_introns_2yes.copy()\n",
    "\n",
    "in_order = sum(introns_2yes[(introns_2yes['pattern']=='YES_YES_NO')]['counts'])\n",
    "no_order = sum(introns_2yes[(introns_2yes['pattern']!='YES_YES_NO')]['counts'])\n",
    "\n",
    "p = stats.binom_test([in_order,no_order], n=None, p=0.3333333333)\n",
    "print(\"S2 3 introns, 2 spliced, in order p-value: \"+str(p))\n"
   ]
  },
  {
   "cell_type": "code",
   "execution_count": 17,
   "metadata": {},
   "outputs": [
    {
     "name": "stdout",
     "output_type": "stream",
     "text": [
      "S2, 2 spliced, YES_YES_NO p-value: 6.286427885074806e-16\n",
      "S2, 2 spliced, YES_NO_YES p-value: 0.00023053637734700864\n",
      "S2, 2 spliced, NO_YES_YES p-value: 2.1990870580684497e-06\n"
     ]
    }
   ],
   "source": [
    "introns_2yes = S2_introns_2yes.copy()\n",
    "splicing_patterns = ['YES_YES_NO','YES_NO_YES','NO_YES_YES']\n",
    "\n",
    "for i in splicing_patterns:\n",
    "\n",
    "    p = str(stats.binom_test([sum(introns_2yes[(introns_2yes['pattern']==i)]['counts']),sum(introns_2yes[(introns_2yes['pattern']!=i)]['counts'])], n=None, p=0.3333333333))\n",
    "\n",
    "    print(\"S2, 2 spliced, \"+i+\" p-value: \"+str(p))\n",
    "    "
   ]
  },
  {
   "cell_type": "code",
   "execution_count": 33,
   "metadata": {},
   "outputs": [
    {
     "name": "stdout",
     "output_type": "stream",
     "text": [
      "S2 3 introns spliced in order p-value: 4.5146063096662945e-72\n"
     ]
    }
   ],
   "source": [
    "# estimating the statistical probability that introns are spliced in order\n",
    "\n",
    "in_order = sum(S2_introns_1yes[(S2_introns_1yes['pattern']=='YES_NO_NO')]['counts'])+sum(S2_introns_2yes[(S2_introns_2yes['pattern']=='YES_YES_NO')]['counts']) \n",
    "no_order = sum(S2_introns_1yes[(S2_introns_1yes['pattern']!='YES_NO_NO')]['counts'])+sum(S2_introns_2yes[(S2_introns_2yes['pattern']!='YES_YES_NO')]['counts']) \n",
    "\n",
    "p = stats.binom_test([in_order,no_order], n=None, p=0.3333333333)\n",
    "print(\"S2 3 introns spliced in order p-value: \"+str(p))\n"
   ]
  },
  {
   "cell_type": "code",
   "execution_count": 18,
   "metadata": {},
   "outputs": [],
   "source": [
    "K562_5_multi_introns_df = pd.concat([K562_5a_multi_introns_df, K562_5b_multi_introns_df])\n",
    "K562_1_3introns_splicing_patterns = get_splicing_pattern_counts(K562_1_multi_introns_df, 3)\n",
    "K562_2_3introns_splicing_patterns = get_splicing_pattern_counts(K562_2_multi_introns_df, 3)\n",
    "K562_3_3introns_splicing_patterns = get_splicing_pattern_counts(K562_3_multi_introns_df, 3)\n",
    "K562_4_3introns_splicing_patterns = get_splicing_pattern_counts(K562_4_multi_introns_df, 3)\n",
    "K562_5_3introns_splicing_patterns = get_splicing_pattern_counts(K562_5_multi_introns_df, 3)\n",
    "\n",
    "K562_1_3introns_splicing_patterns['rep'] = 'K562_1'\n",
    "K562_2_3introns_splicing_patterns['rep'] = 'K562_2'\n",
    "K562_3_3introns_splicing_patterns['rep'] = 'K562_3'\n",
    "K562_4_3introns_splicing_patterns['rep'] = 'K562_4'\n",
    "K562_5_3introns_splicing_patterns['rep'] = 'K562_5'\n",
    "\n",
    "K562_3introns_splicing_patterns = pd.concat([K562_1_3introns_splicing_patterns, K562_2_3introns_splicing_patterns, K562_3_3introns_splicing_patterns, K562_4_3introns_splicing_patterns, K562_5_3introns_splicing_patterns])\n",
    "\n",
    "K562_1_introns_1yes, K562_1_introns_2yes = get_intron_splicing_percent(K562_1_3introns_splicing_patterns, 3)\n",
    "K562_2_introns_1yes, K562_2_introns_2yes = get_intron_splicing_percent(K562_2_3introns_splicing_patterns, 3)\n",
    "K562_3_introns_1yes, K562_3_introns_2yes = get_intron_splicing_percent(K562_3_3introns_splicing_patterns, 3)\n",
    "K562_4_introns_1yes, K562_4_introns_2yes = get_intron_splicing_percent(K562_4_3introns_splicing_patterns, 3)\n",
    "K562_5_introns_1yes, K562_5_introns_2yes = get_intron_splicing_percent(K562_5_3introns_splicing_patterns, 3)\n",
    "\n",
    "K562_introns_1yes = pd.concat([K562_1_introns_1yes, K562_2_introns_1yes, K562_3_introns_1yes, K562_4_introns_1yes, K562_5_introns_1yes])\n",
    "K562_introns_2yes = pd.concat([K562_1_introns_2yes, K562_2_introns_2yes, K562_3_introns_2yes, K562_4_introns_2yes, K562_5_introns_2yes])\n"
   ]
  },
  {
   "cell_type": "code",
   "execution_count": 12,
   "metadata": {},
   "outputs": [
    {
     "data": {
      "image/png": "[encoded data removed]",
      "text/plain": [
       "<matplotlib.figure.Figure at 0x109d6ae90>"
      ]
     },
     "metadata": {},
     "output_type": "display_data"
    }
   ],
   "source": [
    "fig, ax = plt.subplots(figsize=(1.5,3))\n",
    "\n",
    "fill_colors = [sns.color_palette(\"Blues\")[3]]\n",
    "sns.barplot(x=\"percent\", y=\"pattern\", data=K562_introns_1yes, palette=fill_colors,\n",
    "           order=['YES_NO_NO','NO_YES_NO','NO_NO_YES'], ci=68, capsize=0.05, errwidth=1.5)\n",
    "\n",
    "plt.xlim(0,70)\n",
    "\n",
    "plt.xticks([0,25,50], fontsize=14)\n",
    "plt.yticks(fontsize=14)\n",
    "plt.tick_params(axis='both', which='both', labelsize=14, direction='out', left=\"on\", bottom=\"on\", length=5)\n",
    "\n",
    "plt.legend(bbox_to_anchor=(1.1, 1.0), fontsize=14)\n",
    "plt.ylabel(\"splicing status\", fontsize=16)\n",
    "plt.xlabel(\"frequency\", fontsize=16)\n",
    "\n",
    "plt.axvline(x=33.3, color='black', linestyle=\":\")\n",
    "\n",
    "plt.title(\"Human\\n(one spliced)\", fontsize=16)\n",
    "\n",
    "plt.savefig('/path/to/Supplemental_Figure_7C_K562_splicing_order_3int_oneSpliced_noFirst_noLast.pdf', \n",
    "           format='pdf', dpi=300, bbox_inches='tight')\n",
    "\n",
    "plt.show()\n"
   ]
  },
  {
   "cell_type": "code",
   "execution_count": 20,
   "metadata": {},
   "outputs": [
    {
     "name": "stdout",
     "output_type": "stream",
     "text": [
      "K562 3 introns, 1 spliced, in order p-value: 4.732446680010153e-07\n"
     ]
    }
   ],
   "source": [
    "introns_1yes = K562_introns_1yes.copy()\n",
    "\n",
    "in_order = sum(introns_1yes[(introns_1yes['pattern']=='YES_NO_NO')]['counts'])\n",
    "no_order = sum(introns_1yes[(introns_1yes['pattern']!='YES_NO_NO')]['counts'])\n",
    "\n",
    "p = stats.binom_test([in_order,no_order], n=None, p=0.3333333333)\n",
    "print(\"K562 3 introns, 1 spliced, in order p-value: \"+str(p))\n"
   ]
  },
  {
   "cell_type": "code",
   "execution_count": 21,
   "metadata": {},
   "outputs": [
    {
     "name": "stdout",
     "output_type": "stream",
     "text": [
      "K562, 1 intron YES_NO_NO p-value: 4.732446680010153e-07\n",
      "K562, 1 intron NO_YES_NO p-value: 1.357151626541625e-23\n",
      "K562, 1 intron NO_NO_YES p-value: 5.658553035449832e-06\n"
     ]
    }
   ],
   "source": [
    "introns_1yes = K562_introns_1yes.copy()\n",
    "splicing_patterns = ['YES_NO_NO','NO_YES_NO','NO_NO_YES']\n",
    "\n",
    "for i in splicing_patterns:\n",
    "\n",
    "    p = str(stats.binom_test([sum(introns_1yes[(introns_1yes['pattern']==i)]['counts']),sum(introns_1yes[(introns_1yes['pattern']!=i)]['counts'])], n=None, p=0.3333333333))\n",
    "\n",
    "    print(\"K562, 1 intron \"+i+\" p-value: \"+str(p))\n",
    "    "
   ]
  },
  {
   "cell_type": "code",
   "execution_count": 13,
   "metadata": {},
   "outputs": [
    {
     "data": {
      "image/png": "[encoded data removed]",
      "text/plain": [
       "<matplotlib.figure.Figure at 0x109c705d0>"
      ]
     },
     "metadata": {},
     "output_type": "display_data"
    }
   ],
   "source": [
    "fig, ax = plt.subplots(figsize=(1.5,3))\n",
    "\n",
    "fill_colors = [sns.color_palette(\"Blues\")[3]]\n",
    "sns.barplot(x=\"percent\", y=\"pattern\", data=K562_introns_2yes, palette=fill_colors,\n",
    "           order=['YES_YES_NO','YES_NO_YES','NO_YES_YES'], ci=68, capsize=0.05, errwidth=1.5)\n",
    "\n",
    "plt.xlim(0,70)\n",
    "\n",
    "plt.xticks([0,25,50], fontsize=14)\n",
    "plt.yticks(fontsize=14)\n",
    "plt.tick_params(axis='both', which='both', labelsize=14, direction='out', left=\"on\", bottom=\"on\", length=5)\n",
    "\n",
    "plt.legend(bbox_to_anchor=(1.1, 1.0), fontsize=14)\n",
    "plt.ylabel(\"splicing status\", fontsize=16)\n",
    "plt.xlabel(\"frequency\", fontsize=16)\n",
    "\n",
    "plt.axvline(x=33.3, color='black', linestyle=\":\")\n",
    "\n",
    "plt.title(\"Human\\n(two spliced)\", fontsize=16)\n",
    "\n",
    "plt.savefig('/path/to/Supplemental_Figure_7C_K562_splicing_order_3int_twoSpliced_noFirst_noLast.pdf', \n",
    "           format='pdf', dpi=300, bbox_inches='tight')\n",
    "\n",
    "plt.show()\n"
   ]
  },
  {
   "cell_type": "code",
   "execution_count": 22,
   "metadata": {},
   "outputs": [
    {
     "name": "stdout",
     "output_type": "stream",
     "text": [
      "K562 3 introns, 2 spliced, in order p-value: 0.0470621187679655\n"
     ]
    }
   ],
   "source": [
    "introns_2yes = K562_introns_2yes.copy()\n",
    "\n",
    "in_order = sum(introns_2yes[(introns_2yes['pattern']=='YES_YES_NO')]['counts'])\n",
    "no_order = sum(introns_2yes[(introns_2yes['pattern']!='YES_YES_NO')]['counts'])\n",
    "\n",
    "p = stats.binom_test([in_order,no_order], n=None, p=0.3333333333)\n",
    "print(\"K562 3 introns, 2 spliced, in order p-value: \"+str(p))\n"
   ]
  },
  {
   "cell_type": "code",
   "execution_count": 23,
   "metadata": {},
   "outputs": [
    {
     "name": "stdout",
     "output_type": "stream",
     "text": [
      "K562, 2 spliced, YES_YES_NO p-value: 0.0470621187679655\n",
      "K562, 2 spliced, YES_NO_YES p-value: 8.993703294595027e-09\n",
      "K562, 2 spliced, NO_YES_YES p-value: 0.00032743190069052953\n"
     ]
    }
   ],
   "source": [
    "introns_2yes = K562_introns_2yes.copy()\n",
    "splicing_patterns = ['YES_YES_NO','YES_NO_YES','NO_YES_YES']\n",
    "\n",
    "for i in splicing_patterns:\n",
    "\n",
    "    p = str(stats.binom_test([sum(introns_2yes[(introns_2yes['pattern']==i)]['counts']),sum(introns_2yes[(introns_2yes['pattern']!=i)]['counts'])], n=None, p=0.3333333333))\n",
    "\n",
    "    print(\"K562, 2 spliced, \"+i+\" p-value: \"+str(p))\n",
    "    "
   ]
  },
  {
   "cell_type": "code",
   "execution_count": null,
   "metadata": {},
   "outputs": [],
   "source": []
  },
  {
   "cell_type": "code",
   "execution_count": null,
   "metadata": {},
   "outputs": [],
   "source": [
    "### Supplemental Figure S7D"
   ]
  },
  {
   "cell_type": "code",
   "execution_count": 24,
   "metadata": {},
   "outputs": [],
   "source": [
    "S2_1_multi_introns_df = pd.concat([S2_1a_multi_introns_df, S2_1b_multi_introns_df])\n",
    "S2_1_4introns_splicing_patterns = get_splicing_pattern_counts(S2_1_multi_introns_df, 4)\n",
    "S2_2_4introns_splicing_patterns = get_splicing_pattern_counts(S2_2_multi_introns_df, 4)\n",
    "S2_3_4introns_splicing_patterns = get_splicing_pattern_counts(S2_3_multi_introns_df, 4)\n",
    "\n",
    "S2_1_4introns_splicing_patterns['rep'] = 'S2_1'\n",
    "S2_2_4introns_splicing_patterns['rep'] = 'S2_2'\n",
    "S2_3_4introns_splicing_patterns['rep'] = 'S2_3'\n",
    "\n",
    "S2_4introns_splicing_patterns = pd.concat([S2_1_4introns_splicing_patterns, S2_2_4introns_splicing_patterns, S2_3_4introns_splicing_patterns])\n",
    "\n",
    "S2_1_introns_1yes, S2_1_introns_2yes, S2_1_introns_3yes = get_intron_splicing_percent(S2_1_4introns_splicing_patterns, 4)\n",
    "S2_2_introns_1yes, S2_2_introns_2yes, S2_2_introns_3yes = get_intron_splicing_percent(S2_2_4introns_splicing_patterns, 4)\n",
    "S2_3_introns_1yes, S2_3_introns_2yes, S2_3_introns_3yes = get_intron_splicing_percent(S2_3_4introns_splicing_patterns, 4)\n",
    "\n",
    "S2_introns_1yes = pd.concat([S2_1_introns_1yes, S2_2_introns_1yes, S2_3_introns_1yes])\n",
    "S2_introns_2yes = pd.concat([S2_1_introns_2yes, S2_2_introns_2yes, S2_3_introns_2yes])\n",
    "S2_introns_3yes = pd.concat([S2_1_introns_3yes, S2_2_introns_3yes, S2_3_introns_3yes])"
   ]
  },
  {
   "cell_type": "code",
   "execution_count": 21,
   "metadata": {},
   "outputs": [
    {
     "data": {
      "image/png": "[encoded data removed]",
      "text/plain": [
       "<matplotlib.figure.Figure at 0x1a18018950>"
      ]
     },
     "metadata": {},
     "output_type": "display_data"
    }
   ],
   "source": [
    "fig, ax = plt.subplots(figsize=(1.5,3))\n",
    "\n",
    "fill_colors = [sns.color_palette(\"Reds\")[3]]\n",
    "sns.barplot(x=\"percent\", y=\"pattern\", data=S2_introns_1yes, palette=fill_colors,\n",
    "           order=['YES_NO_NO_NO','NO_YES_NO_NO','NO_NO_YES_NO','NO_NO_NO_YES'], ci=68, capsize=0.05, errwidth=1.5)\n",
    "\n",
    "plt.xlim(0,70)\n",
    "\n",
    "plt.xticks([0,25,50], fontsize=14)\n",
    "plt.yticks(fontsize=14)\n",
    "plt.tick_params(axis='both', which='both', labelsize=14, direction='out', left=\"on\", bottom=\"on\", length=5)\n",
    "\n",
    "plt.legend(bbox_to_anchor=(1.1, 1.0), fontsize=14)\n",
    "plt.ylabel(\"splicing status\", fontsize=16)\n",
    "plt.xlabel(\"frequency\", fontsize=16)\n",
    "\n",
    "plt.axvline(x=25, color='black', linestyle=\":\")\n",
    "\n",
    "plt.title(\"Drosophila\\n(one spliced)\", fontsize=16)\n",
    "\n",
    "plt.savefig('/path/to/Supplemental_Figure_7D_S2_splicing_order_4int_oneSpliced_noFirst_noLast.pdf', \n",
    "           format='pdf', dpi=300, bbox_inches='tight')\n",
    "\n",
    "plt.show()\n"
   ]
  },
  {
   "cell_type": "code",
   "execution_count": 26,
   "metadata": {},
   "outputs": [
    {
     "name": "stdout",
     "output_type": "stream",
     "text": [
      "S2 4 introns, 1 spliced, in order p-value: 1.5138032660642142e-25\n"
     ]
    }
   ],
   "source": [
    "introns_1yes = S2_introns_1yes.copy()\n",
    "\n",
    "in_order = sum(introns_1yes[(introns_1yes['pattern']=='YES_NO_NO_NO')]['counts'])\n",
    "no_order = sum(introns_1yes[(introns_1yes['pattern']!='YES_NO_NO_NO')]['counts'])\n",
    "\n",
    "p = stats.binom_test([in_order,no_order], n=None, p=0.25)\n",
    "print(\"S2 4 introns, 1 spliced, in order p-value: \"+str(p))\n"
   ]
  },
  {
   "cell_type": "code",
   "execution_count": 27,
   "metadata": {},
   "outputs": [
    {
     "name": "stdout",
     "output_type": "stream",
     "text": [
      "S2 4 introns, 1 spliced YES_NO_NO_NO p-value: 1.5138032660642142e-25\n",
      "S2 4 introns, 1 spliced NO_YES_NO_NO p-value: 0.4384596004081659\n",
      "S2 4 introns, 1 spliced NO_NO_YES_NO p-value: 1.194922974267758e-09\n",
      "S2 4 introns, 1 spliced NO_NO_NO_YES p-value: 1.8829323419482833e-08\n"
     ]
    }
   ],
   "source": [
    "introns_1yes = S2_introns_1yes.copy()\n",
    "splicing_patterns = ['YES_NO_NO_NO','NO_YES_NO_NO','NO_NO_YES_NO','NO_NO_NO_YES']\n",
    "\n",
    "for i in splicing_patterns:\n",
    "\n",
    "    p = str(stats.binom_test([sum(introns_1yes[(introns_1yes['pattern']==i)]['counts']),sum(introns_1yes[(introns_1yes['pattern']!=i)]['counts'])], n=None, p=0.25))\n",
    "\n",
    "    print(\"S2 4 introns, 1 spliced \"+i+\" p-value: \"+str(p))\n",
    "    "
   ]
  },
  {
   "cell_type": "code",
   "execution_count": null,
   "metadata": {},
   "outputs": [],
   "source": []
  },
  {
   "cell_type": "code",
   "execution_count": 22,
   "metadata": {},
   "outputs": [
    {
     "data": {
      "image/png": "[encoded data removed]",
      "text/plain": [
       "<matplotlib.figure.Figure at 0x1a177649d0>"
      ]
     },
     "metadata": {},
     "output_type": "display_data"
    }
   ],
   "source": [
    "fig, ax = plt.subplots(figsize=(1.5,4.5))\n",
    "\n",
    "fill_colors = [sns.color_palette(\"Reds\")[3]]\n",
    "sns.barplot(x=\"percent\", y=\"pattern\", data=S2_introns_2yes, palette=fill_colors,\n",
    "           order=['YES_YES_NO_NO','YES_NO_YES_NO','YES_NO_NO_YES','NO_YES_YES_NO','NO_YES_NO_YES','NO_NO_YES_YES'], ci=68, capsize=0.05, errwidth=1.5)\n",
    "\n",
    "plt.xlim(0,70)\n",
    "\n",
    "plt.xticks([0,25,50], fontsize=14)\n",
    "plt.yticks(fontsize=14)\n",
    "plt.tick_params(axis='both', which='both', labelsize=14, direction='out', left=\"on\", bottom=\"on\", length=5)\n",
    "\n",
    "plt.legend(bbox_to_anchor=(1.1, 1.0), fontsize=14)\n",
    "plt.ylabel(\"splicing status\", fontsize=16)\n",
    "plt.xlabel(\"frequency\", fontsize=16)\n",
    "\n",
    "plt.axvline(x=16.67, color='black', linestyle=\":\")\n",
    "\n",
    "plt.title(\"Drosophila\\n(two spliced)\", fontsize=16)\n",
    "\n",
    "plt.savefig('/path/to/Supplemental_Figure_7D_S2_splicing_order_4int_twoSpliced_noFirst_noLast.pdf', \n",
    "           format='pdf', dpi=300, bbox_inches='tight')\n",
    "\n",
    "plt.show()\n"
   ]
  },
  {
   "cell_type": "code",
   "execution_count": 28,
   "metadata": {},
   "outputs": [
    {
     "name": "stdout",
     "output_type": "stream",
     "text": [
      "S2 4 introns, 2 spliced, in order p-value: 8.39919666130689e-14\n"
     ]
    }
   ],
   "source": [
    "introns_2yes = S2_introns_2yes.copy()\n",
    "\n",
    "in_order = sum(introns_2yes[(introns_2yes['pattern']=='YES_YES_NO_NO')]['counts'])\n",
    "no_order = sum(introns_2yes[(introns_2yes['pattern']!='YES_YES_NO_NO')]['counts'])\n",
    "\n",
    "p = stats.binom_test([in_order,no_order], n=None, p=0.166666666667)\n",
    "print(\"S2 4 introns, 2 spliced, in order p-value: \"+str(p))\n"
   ]
  },
  {
   "cell_type": "code",
   "execution_count": 29,
   "metadata": {},
   "outputs": [
    {
     "name": "stdout",
     "output_type": "stream",
     "text": [
      "S2 4 introns, 2 spliced YES_YES_NO_NO p-value: 8.39919666130689e-14\n",
      "S2 4 introns, 2 spliced YES_NO_YES_NO p-value: 0.00016857318894086825\n",
      "S2 4 introns, 2 spliced YES_NO_NO_YES p-value: 0.9999999999999929\n",
      "S2 4 introns, 2 spliced NO_YES_YES_NO p-value: 0.012489455115622146\n",
      "S2 4 introns, 2 spliced NO_YES_NO_YES p-value: 0.020501054128051553\n",
      "S2 4 introns, 2 spliced NO_NO_YES_YES p-value: 0.9999999999999929\n"
     ]
    }
   ],
   "source": [
    "introns_2yes = S2_introns_2yes.copy()\n",
    "splicing_patterns = ['YES_YES_NO_NO','YES_NO_YES_NO','YES_NO_NO_YES','NO_YES_YES_NO','NO_YES_NO_YES','NO_NO_YES_YES']\n",
    "\n",
    "for i in splicing_patterns:\n",
    "\n",
    "    p = str(stats.binom_test([sum(introns_2yes[(introns_2yes['pattern']==i)]['counts']),sum(introns_2yes[(introns_2yes['pattern']!=i)]['counts'])], n=None, p=0.166666666667))\n",
    "\n",
    "    print(\"S2 4 introns, 2 spliced \"+i+\" p-value: \"+str(p))\n",
    "    "
   ]
  },
  {
   "cell_type": "code",
   "execution_count": 23,
   "metadata": {},
   "outputs": [
    {
     "data": {
      "image/png": "[encoded data removed]",
      "text/plain": [
       "<matplotlib.figure.Figure at 0x1a177648d0>"
      ]
     },
     "metadata": {},
     "output_type": "display_data"
    }
   ],
   "source": [
    "fig, ax = plt.subplots(figsize=(1.5,3))\n",
    "\n",
    "fill_colors = [sns.color_palette(\"Reds\")[3]]\n",
    "sns.barplot(x=\"percent\", y=\"pattern\", data=S2_introns_3yes, palette=fill_colors,\n",
    "           order=['YES_YES_YES_NO','YES_YES_NO_YES','YES_NO_YES_YES','NO_YES_YES_YES'], ci=68, capsize=0.05, errwidth=1.5)\n",
    "\n",
    "plt.xlim(0,70)\n",
    "\n",
    "plt.xticks([0,25,50], fontsize=14)\n",
    "plt.yticks(fontsize=14)\n",
    "plt.tick_params(axis='both', which='both', labelsize=14, direction='out', left=\"on\", bottom=\"on\", length=5)\n",
    "\n",
    "plt.legend(bbox_to_anchor=(1.1, 1.0), fontsize=14)\n",
    "plt.ylabel(\"splicing status\", fontsize=16)\n",
    "plt.xlabel(\"frequency\", fontsize=16)\n",
    "\n",
    "plt.axvline(x=25, color='black', linestyle=\":\")\n",
    "\n",
    "plt.title(\"Drosophila\\n(three spliced)\", fontsize=16)\n",
    "\n",
    "plt.savefig('/path/to/Supplemental_Figure_7D_S2_splicing_order_4int_threeSpliced_noFirst_noLast.pdf', \n",
    "           format='pdf', dpi=300, bbox_inches='tight')\n",
    "\n",
    "plt.show()\n"
   ]
  },
  {
   "cell_type": "code",
   "execution_count": 30,
   "metadata": {},
   "outputs": [
    {
     "name": "stdout",
     "output_type": "stream",
     "text": [
      "S2 4 introns, 3 spliced, in order p-value: 2.3778388820777556e-06\n"
     ]
    }
   ],
   "source": [
    "introns_3yes = S2_introns_3yes.copy()\n",
    "\n",
    "in_order = sum(introns_3yes[(introns_3yes['pattern']=='YES_YES_YES_NO')]['counts'])\n",
    "no_order = sum(introns_3yes[(introns_3yes['pattern']!='YES_YES_YES_NO')]['counts'])\n",
    "\n",
    "p = stats.binom_test([in_order,no_order], n=None, p=0.25)\n",
    "print(\"S2 4 introns, 3 spliced, in order p-value: \"+str(p))\n"
   ]
  },
  {
   "cell_type": "code",
   "execution_count": 31,
   "metadata": {},
   "outputs": [
    {
     "name": "stdout",
     "output_type": "stream",
     "text": [
      "S2 4 introns, 3 spliced YES_YES_YES_NO p-value: 2.3778388820777556e-06\n",
      "S2 4 introns, 3 spliced YES_YES_NO_YES p-value: 0.05866182352495811\n",
      "S2 4 introns, 3 spliced YES_NO_YES_YES p-value: 0.2472142937958291\n",
      "S2 4 introns, 3 spliced NO_YES_YES_YES p-value: 0.0770118199183959\n"
     ]
    }
   ],
   "source": [
    "introns_3yes = S2_introns_3yes.copy()\n",
    "splicing_patterns = ['YES_YES_YES_NO','YES_YES_NO_YES','YES_NO_YES_YES','NO_YES_YES_YES']\n",
    "\n",
    "for i in splicing_patterns:\n",
    "\n",
    "    p = str(stats.binom_test([sum(introns_3yes[(introns_3yes['pattern']==i)]['counts']),sum(introns_3yes[(introns_3yes['pattern']!=i)]['counts'])], n=None, p=0.25))\n",
    "\n",
    "    print(\"S2 4 introns, 3 spliced \"+i+\" p-value: \"+str(p))\n",
    "    "
   ]
  },
  {
   "cell_type": "code",
   "execution_count": 32,
   "metadata": {},
   "outputs": [
    {
     "name": "stdout",
     "output_type": "stream",
     "text": [
      "S2 4 introns, in order p-value: 8.998239500304352e-35\n"
     ]
    }
   ],
   "source": [
    "\n",
    "exp_in_order = 1/4*np.sum(S2_introns_1yes['counts'])+1/6*np.sum(S2_introns_2yes['counts'])+1/4*np.sum(S2_introns_3yes['counts'])\n",
    "total = np.sum(S2_introns_1yes['counts'])+np.sum(S2_introns_2yes['counts'])+np.sum(S2_introns_3yes['counts'])\n",
    "\n",
    "S2_exp_in_order_percent = exp_in_order / total\n",
    "\n",
    "\n",
    "in_order = sum(S2_introns_1yes[(S2_introns_1yes['pattern']=='YES_NO_NO_NO')]['counts']) + sum(S2_introns_2yes[(S2_introns_2yes['pattern']=='YES_YES_NO_NO')]['counts']) + sum(S2_introns_3yes[(S2_introns_3yes['pattern']=='YES_YES_YES_NO')]['counts'])\n",
    "no_order = sum(S2_introns_1yes[(S2_introns_1yes['pattern']!='YES_NO_NO_NO')]['counts']) + sum(S2_introns_2yes[(S2_introns_2yes['pattern']!='YES_YES_NO_NO')]['counts']) + sum(S2_introns_3yes[(S2_introns_3yes['pattern']!='YES_YES_YES_NO')]['counts'])\n",
    "\n",
    "p = stats.binom_test([in_order,no_order], n=None, p=S2_exp_in_order_percent)\n",
    "print(\"S2 4 introns, in order p-value: \"+str(p))\n",
    "\n"
   ]
  },
  {
   "cell_type": "code",
   "execution_count": null,
   "metadata": {},
   "outputs": [],
   "source": []
  },
  {
   "cell_type": "code",
   "execution_count": 34,
   "metadata": {},
   "outputs": [],
   "source": [
    "K562_1_4introns_splicing_patterns = get_splicing_pattern_counts(K562_1_multi_introns_df, 4)\n",
    "K562_2_4introns_splicing_patterns = get_splicing_pattern_counts(K562_2_multi_introns_df, 4)\n",
    "K562_3_4introns_splicing_patterns = get_splicing_pattern_counts(K562_3_multi_introns_df, 4)\n",
    "K562_4_4introns_splicing_patterns = get_splicing_pattern_counts(K562_4_multi_introns_df, 4)\n",
    "K562_5_4introns_splicing_patterns = get_splicing_pattern_counts(K562_5_multi_introns_df, 4)\n",
    "\n",
    "K562_1_4introns_splicing_patterns['rep'] = 'K562_1'\n",
    "K562_2_4introns_splicing_patterns['rep'] = 'K562_2'\n",
    "K562_3_4introns_splicing_patterns['rep'] = 'K562_3'\n",
    "K562_4_4introns_splicing_patterns['rep'] = 'K562_4'\n",
    "K562_5_4introns_splicing_patterns['rep'] = 'K562_5'\n",
    "\n",
    "K562_4introns_splicing_patterns = pd.concat([K562_1_4introns_splicing_patterns, K562_2_4introns_splicing_patterns, K562_3_4introns_splicing_patterns, K562_4_4introns_splicing_patterns, K562_5_4introns_splicing_patterns])\n",
    "\n",
    "K562_1_introns_1yes, K562_1_introns_2yes, K562_1_introns_3yes = get_intron_splicing_percent(K562_1_4introns_splicing_patterns, 4)\n",
    "K562_2_introns_1yes, K562_2_introns_2yes, K562_2_introns_3yes = get_intron_splicing_percent(K562_2_4introns_splicing_patterns, 4)\n",
    "K562_3_introns_1yes, K562_3_introns_2yes, K562_3_introns_3yes = get_intron_splicing_percent(K562_3_4introns_splicing_patterns, 4)\n",
    "K562_4_introns_1yes, K562_4_introns_2yes, K562_4_introns_3yes = get_intron_splicing_percent(K562_4_4introns_splicing_patterns, 4)\n",
    "K562_5_introns_1yes, K562_5_introns_2yes, K562_5_introns_3yes = get_intron_splicing_percent(K562_5_4introns_splicing_patterns, 4)\n",
    "\n",
    "K562_introns_1yes = pd.concat([K562_1_introns_1yes, K562_2_introns_1yes, K562_3_introns_1yes, K562_4_introns_1yes, K562_5_introns_1yes])\n",
    "K562_introns_2yes = pd.concat([K562_1_introns_2yes, K562_2_introns_2yes, K562_3_introns_2yes, K562_4_introns_2yes, K562_5_introns_2yes])\n",
    "K562_introns_3yes = pd.concat([K562_1_introns_3yes, K562_2_introns_3yes, K562_3_introns_3yes, K562_4_introns_3yes, K562_5_introns_3yes])\n"
   ]
  },
  {
   "cell_type": "code",
   "execution_count": 17,
   "metadata": {},
   "outputs": [
    {
     "data": {
      "image/png": "[encoded data removed]",
      "text/plain": [
       "<matplotlib.figure.Figure at 0x109f8a410>"
      ]
     },
     "metadata": {},
     "output_type": "display_data"
    }
   ],
   "source": [
    "fig, ax = plt.subplots(figsize=(1.5,3))\n",
    "\n",
    "fill_colors = [sns.color_palette(\"Blues\")[3]]\n",
    "sns.barplot(x=\"percent\", y=\"pattern\", data=K562_introns_1yes, palette=fill_colors,\n",
    "           order=['YES_NO_NO_NO','NO_YES_NO_NO','NO_NO_YES_NO','NO_NO_NO_YES'], ci=68, capsize=0.05, errwidth=1.5)\n",
    "\n",
    "plt.xlim(0,70)\n",
    "\n",
    "plt.xticks([0,25,50], fontsize=14)\n",
    "plt.yticks(fontsize=14)\n",
    "plt.tick_params(axis='both', which='both', labelsize=14, direction='out', left=\"on\", bottom=\"on\", length=5)\n",
    "\n",
    "plt.legend(bbox_to_anchor=(1.1, 1.0), fontsize=14)\n",
    "plt.ylabel(\"splicing status\", fontsize=16)\n",
    "plt.xlabel(\"frequency\", fontsize=16)\n",
    "\n",
    "plt.axvline(x=25, color='black', linestyle=\":\")\n",
    "\n",
    "plt.title(\"Human\\n(one spliced)\", fontsize=16)\n",
    "\n",
    "plt.savefig('/path/to/Supplemental_Figure_7D_K562_splicing_order_4int_oneSpliced_noFirst_noLast.pdf', \n",
    "           format='pdf', dpi=300, bbox_inches='tight')\n",
    "\n",
    "plt.show()\n"
   ]
  },
  {
   "cell_type": "code",
   "execution_count": 36,
   "metadata": {},
   "outputs": [
    {
     "name": "stdout",
     "output_type": "stream",
     "text": [
      "K562 4 introns, 1 spliced, in order p-value: 4.185606692645788e-10\n"
     ]
    }
   ],
   "source": [
    "introns_1yes = K562_introns_1yes.copy()\n",
    "\n",
    "in_order = sum(introns_1yes[(introns_1yes['pattern']=='YES_NO_NO_NO')]['counts'])\n",
    "no_order = sum(introns_1yes[(introns_1yes['pattern']!='YES_NO_NO_NO')]['counts'])\n",
    "\n",
    "p = stats.binom_test([in_order,no_order], n=None, p=0.25)\n",
    "print(\"K562 4 introns, 1 spliced, in order p-value: \"+str(p))\n"
   ]
  },
  {
   "cell_type": "code",
   "execution_count": 37,
   "metadata": {},
   "outputs": [
    {
     "name": "stdout",
     "output_type": "stream",
     "text": [
      "K562 4 introns, 1 spliced YES_NO_NO_NO p-value: 4.185606692645788e-10\n",
      "K562 4 introns, 1 spliced NO_YES_NO_NO p-value: 0.0025827779129298295\n",
      "K562 4 introns, 1 spliced NO_NO_YES_NO p-value: 2.6436219632306826e-07\n",
      "K562 4 introns, 1 spliced NO_NO_NO_YES p-value: 0.1582269557005106\n"
     ]
    }
   ],
   "source": [
    "introns_1yes = K562_introns_1yes.copy()\n",
    "splicing_patterns = ['YES_NO_NO_NO','NO_YES_NO_NO','NO_NO_YES_NO','NO_NO_NO_YES']\n",
    "\n",
    "for i in splicing_patterns:\n",
    "\n",
    "    p = str(stats.binom_test([sum(introns_1yes[(introns_1yes['pattern']==i)]['counts']),sum(introns_1yes[(introns_1yes['pattern']!=i)]['counts'])], n=None, p=0.25))\n",
    "\n",
    "    print(\"K562 4 introns, 1 spliced \"+i+\" p-value: \"+str(p))\n",
    "    "
   ]
  },
  {
   "cell_type": "code",
   "execution_count": 18,
   "metadata": {},
   "outputs": [
    {
     "data": {
      "image/png": "[encoded data removed]",
      "text/plain": [
       "<matplotlib.figure.Figure at 0x109f8a450>"
      ]
     },
     "metadata": {},
     "output_type": "display_data"
    }
   ],
   "source": [
    "fig, ax = plt.subplots(figsize=(1.5,4.5))\n",
    "\n",
    "fill_colors = [sns.color_palette(\"Blues\")[3]]\n",
    "sns.barplot(x=\"percent\", y=\"pattern\", data=K562_introns_2yes, palette=fill_colors,\n",
    "           order=['YES_YES_NO_NO','YES_NO_YES_NO','YES_NO_NO_YES','NO_YES_YES_NO','NO_YES_NO_YES','NO_NO_YES_YES'], ci=68, capsize=0.05, errwidth=1.5)\n",
    "\n",
    "plt.xlim(0,70)\n",
    "\n",
    "plt.xticks([0,25,50], fontsize=14)\n",
    "plt.yticks(fontsize=14)\n",
    "plt.tick_params(axis='both', which='both', labelsize=14, direction='out', left=\"on\", bottom=\"on\", length=5)\n",
    "\n",
    "plt.legend(bbox_to_anchor=(1.1, 1.0), fontsize=14)\n",
    "plt.ylabel(\"splicing status\", fontsize=16)\n",
    "plt.xlabel(\"frequency\", fontsize=16)\n",
    "\n",
    "plt.axvline(x=16.67, color='black', linestyle=\":\")\n",
    "\n",
    "plt.title(\"Human\\n(two spliced)\", fontsize=16)\n",
    "\n",
    "plt.savefig('/path/to/Supplemental_Figure_7D_K562_splicing_order_4int_twoSpliced_noFirst_noLast.pdf', \n",
    "           format='pdf', dpi=300, bbox_inches='tight')\n",
    "\n",
    "plt.show()\n"
   ]
  },
  {
   "cell_type": "code",
   "execution_count": 38,
   "metadata": {},
   "outputs": [
    {
     "name": "stdout",
     "output_type": "stream",
     "text": [
      "K562 4 introns, 2 spliced, in order p-value: 2.520200305819742e-07\n"
     ]
    }
   ],
   "source": [
    "introns_2yes = K562_introns_2yes.copy()\n",
    "\n",
    "in_order = sum(introns_2yes[(introns_2yes['pattern']=='YES_YES_NO_NO')]['counts'])\n",
    "no_order = sum(introns_2yes[(introns_2yes['pattern']!='YES_YES_NO_NO')]['counts'])\n",
    "\n",
    "p = stats.binom_test([in_order,no_order], n=None, p=0.166666666667)\n",
    "print(\"K562 4 introns, 2 spliced, in order p-value: \"+str(p))\n"
   ]
  },
  {
   "cell_type": "code",
   "execution_count": 39,
   "metadata": {},
   "outputs": [
    {
     "name": "stdout",
     "output_type": "stream",
     "text": [
      "K562 4 introns, 2 spliced YES_YES_NO_NO p-value: 2.520200305819742e-07\n",
      "K562 4 introns, 2 spliced YES_NO_YES_NO p-value: 0.0020564696517107054\n",
      "K562 4 introns, 2 spliced YES_NO_NO_YES p-value: 0.9093523466923521\n",
      "K562 4 introns, 2 spliced NO_YES_YES_NO p-value: 0.010209861442527158\n",
      "K562 4 introns, 2 spliced NO_YES_NO_YES p-value: 0.0006040346219710136\n",
      "K562 4 introns, 2 spliced NO_NO_YES_YES p-value: 0.0004917570752833293\n"
     ]
    }
   ],
   "source": [
    "introns_2yes = K562_introns_2yes.copy()\n",
    "splicing_patterns = ['YES_YES_NO_NO','YES_NO_YES_NO','YES_NO_NO_YES','NO_YES_YES_NO','NO_YES_NO_YES','NO_NO_YES_YES']\n",
    "\n",
    "for i in splicing_patterns:\n",
    "\n",
    "    p = str(stats.binom_test([sum(introns_2yes[(introns_2yes['pattern']==i)]['counts']),sum(introns_2yes[(introns_2yes['pattern']!=i)]['counts'])], n=None, p=0.166666666667))\n",
    "\n",
    "    print(\"K562 4 introns, 2 spliced \"+i+\" p-value: \"+str(p))\n",
    "    "
   ]
  },
  {
   "cell_type": "code",
   "execution_count": 19,
   "metadata": {},
   "outputs": [
    {
     "data": {
      "image/png": "[encoded data removed]",
      "text/plain": [
       "<matplotlib.figure.Figure at 0x109e744d0>"
      ]
     },
     "metadata": {},
     "output_type": "display_data"
    }
   ],
   "source": [
    "fig, ax = plt.subplots(figsize=(1.5,3))\n",
    "\n",
    "fill_colors = [sns.color_palette(\"Blues\")[3]]\n",
    "sns.barplot(x=\"percent\", y=\"pattern\", data=K562_introns_3yes, palette=fill_colors,\n",
    "           order=['YES_YES_YES_NO','YES_YES_NO_YES','YES_NO_YES_YES','NO_YES_YES_YES'], ci=68, capsize=0.05, errwidth=1.5)\n",
    "\n",
    "plt.xlim(0,70)\n",
    "\n",
    "plt.xticks([0,25,50], fontsize=14)\n",
    "plt.yticks(fontsize=14)\n",
    "plt.tick_params(axis='both', which='both', labelsize=14, direction='out', left=\"on\", bottom=\"on\", length=5)\n",
    "\n",
    "plt.legend(bbox_to_anchor=(1.1, 1.0), fontsize=14)\n",
    "plt.ylabel(\"splicing status\", fontsize=16)\n",
    "plt.xlabel(\"frequency\", fontsize=16)\n",
    "\n",
    "plt.axvline(x=25, color='black', linestyle=\":\")\n",
    "\n",
    "plt.title(\"Human\\n(three spliced)\", fontsize=16)\n",
    "\n",
    "plt.savefig('/path/to/Supplemental_Figure_7D_K562_splicing_order_4int_threeSpliced_noFirst_noLast.pdf', \n",
    "           format='pdf', dpi=300, bbox_inches='tight')\n",
    "\n",
    "plt.show()\n"
   ]
  },
  {
   "cell_type": "code",
   "execution_count": 40,
   "metadata": {},
   "outputs": [
    {
     "name": "stdout",
     "output_type": "stream",
     "text": [
      "K562 4 introns, 3 spliced, in order p-value: 0.02164008040032389\n"
     ]
    }
   ],
   "source": [
    "introns_3yes = K562_introns_3yes.copy()\n",
    "\n",
    "in_order = sum(introns_3yes[(introns_3yes['pattern']=='YES_YES_YES_NO')]['counts'])\n",
    "no_order = sum(introns_3yes[(introns_3yes['pattern']!='YES_YES_YES_NO')]['counts'])\n",
    "\n",
    "p = stats.binom_test([in_order,no_order], n=None, p=0.25)\n",
    "print(\"K562 4 introns, 3 spliced, in order p-value: \"+str(p))\n"
   ]
  },
  {
   "cell_type": "code",
   "execution_count": 41,
   "metadata": {},
   "outputs": [
    {
     "name": "stdout",
     "output_type": "stream",
     "text": [
      "K562 4 introns, 3 spliced YES_YES_YES_NO p-value: 0.02164008040032389\n",
      "K562 4 introns, 3 spliced YES_YES_NO_YES p-value: 0.012548483464619203\n",
      "K562 4 introns, 3 spliced YES_NO_YES_YES p-value: 0.040528715608123066\n",
      "K562 4 introns, 3 spliced NO_YES_YES_YES p-value: 0.028025326158081246\n"
     ]
    }
   ],
   "source": [
    "introns_3yes = K562_introns_3yes.copy()\n",
    "splicing_patterns = ['YES_YES_YES_NO','YES_YES_NO_YES','YES_NO_YES_YES','NO_YES_YES_YES']\n",
    "\n",
    "for i in splicing_patterns:\n",
    "\n",
    "    p = str(stats.binom_test([sum(introns_3yes[(introns_3yes['pattern']==i)]['counts']),sum(introns_3yes[(introns_3yes['pattern']!=i)]['counts'])], n=None, p=0.25))\n",
    "\n",
    "    print(\"K562 4 introns, 3 spliced \"+i+\" p-value: \"+str(p))\n",
    "    "
   ]
  },
  {
   "cell_type": "code",
   "execution_count": null,
   "metadata": {},
   "outputs": [],
   "source": []
  },
  {
   "cell_type": "code",
   "execution_count": null,
   "metadata": {},
   "outputs": [],
   "source": [
    "### Supplemental Figure 7E"
   ]
  },
  {
   "cell_type": "code",
   "execution_count": 8,
   "metadata": {},
   "outputs": [],
   "source": [
    "def get_all_multi_introns(read_junctions, intron_min):\n",
    "\n",
    "    multi_introns = []\n",
    "\n",
    "    for read in read_junctions.keys():\n",
    "\n",
    "        # make a set for all intron pairs within a read\n",
    "        # this will avoid duplicate pairs being called due to alternative splicing\n",
    "        uniq_splice_pattern = set()\n",
    "\n",
    "        # loop through all genes that has introns that a read maps to\n",
    "        for gene in read_junctions[read].keys():\n",
    "\n",
    "            # only go through genes that have 2 or more introns\n",
    "            if ((len(read_junctions[read][gene]) >= intron_min) & (len(read_junctions[read][gene]) <= 10)):\n",
    "\n",
    "                # characterize the number of spliced and unspliced introns in the read\n",
    "                splice_status = [row[6] for row in read_junctions[read][gene]]\n",
    "                splice_status_join = '_'.join(splice_status)\n",
    "                status_count = Counter(splice_status)\n",
    "\n",
    "                # only process the file if intron pattern hasn't been seen previously\n",
    "                # for a gene that this read aligns to\n",
    "                if (splice_status_join not in uniq_splice_pattern):\n",
    "                    uniq_splice_pattern.add(splice_status_join)\n",
    "\n",
    "                    spliced_count = status_count['YES']\n",
    "                    unspliced_count = status_count['NO']\n",
    "\n",
    "                    temp = [] \n",
    "\n",
    "                    # build a dataframe of introns in the gene that map to this read\n",
    "                    # and are capable of being sequenced if the read has no splicing\n",
    "                    read_introns_df = pd.DataFrame(read_junctions[read][gene])\n",
    "                    read_introns_df.columns = ['chrom','start','end','intron_count','strand','read_overlap','splice_status']\n",
    "                    read_introns_df = read_introns_df[read_introns_df['read_overlap'] > 0].sort_values('intron_count').reset_index(drop=True)\n",
    "\n",
    "                    dif = (np.max(read_introns_df['intron_count'])-np.min(read_introns_df['intron_count'])+1)\n",
    "                    if (len(read_introns_df)==dif):\n",
    "\n",
    "                        for i in range(len(read_introns_df)):\n",
    "                            intron_count = read_introns_df.iloc[i]['intron_count']\n",
    "                            intron_chrom = str(read_introns_df.iloc[i]['chrom'])\n",
    "                            intron_start = str(read_introns_df.iloc[i]['start'])\n",
    "                            intron_end = str(read_introns_df.iloc[i]['end'])\n",
    "                            intron_strand = read_introns_df.iloc[i]['strand']\n",
    "                            intron_splice = read_introns_df.iloc[i]['splice_status']\n",
    "                            intron_coord = intron_chrom+'_'+intron_start+'_'+intron_end\n",
    "\n",
    "                            temp.append(intron_splice)\n",
    "\n",
    "\n",
    "                        if (intron_strand=='+'):\n",
    "\n",
    "                            final = []\n",
    "                            final.append(read)\n",
    "                            final.append(intron_strand)\n",
    "\n",
    "                            for i in temp:\n",
    "                                final.append(i)\n",
    "\n",
    "                            for i in range(10-len(temp)):\n",
    "                                final.append('_')\n",
    "\n",
    "                            if ((final.count('_')<=7)):\n",
    "                                multi_introns.append(final)\n",
    "\n",
    "\n",
    "                        if (intron_strand=='-'):\n",
    "\n",
    "                            final = []\n",
    "                            final.append(read)\n",
    "                            final.append(intron_strand)\n",
    "\n",
    "                            for i in reversed(temp):\n",
    "                                final.append(i)\n",
    "\n",
    "                            for i in range(10-len(temp)):\n",
    "                                final.append('_') \n",
    "\n",
    "                            if ((final.count('_')<=7)):\n",
    "                                multi_introns.append(final)\n",
    "\n",
    "    multi_introns_df = pd.DataFrame(multi_introns)\n",
    "    multi_introns_df.columns = ['read','strand','int1','int2','int3','int4','int5','int6','int7','int8','int9','int10']\n",
    "    multi_introns_df = multi_introns_df.sort_values(by=['read']).reset_index(drop=True)\n",
    "\n",
    "    return multi_introns_df\n",
    "\n",
    "\n",
    "def get_splicing_patterns(multi_introns_df, total):\n",
    "    \n",
    "    splice_status_list = []\n",
    "    multi_introns_df = multi_introns_df.drop(['read','strand'], 1)\n",
    "\n",
    "    for i in range(0, len(multi_introns_df)):\n",
    "\n",
    "        itrons_per_read = sum(multi_introns_df.iloc[i]!='_')\n",
    "\n",
    "        for j in range(0, itrons_per_read-(total-1)):\n",
    "\n",
    "            splice_status = multi_introns_df.iloc[i][j:j+total].tolist()\n",
    "\n",
    "            if (splice_status.count('YES')>0) & (splice_status.count('NO')>0):\n",
    "                splice_status_list.append(splice_status)\n",
    "\n",
    "    splicing_patterns_df = pd.DataFrame(splice_status_list)\n",
    "    \n",
    "    if (total==3):\n",
    "        splicing_patterns_df.columns = ['intron 1','intron 2','intron 3']\n",
    "\n",
    "    if (total==4):\n",
    "        splicing_patterns_df.columns = ['intron 1','intron 2','intron 3','intron 4']\n",
    "\n",
    "    if (total==5):\n",
    "        splicing_patterns_df.columns = ['intron 1','intron 2','intron 3','intron 4','intron 5']\n",
    "\n",
    "    return splicing_patterns_df\n",
    "\n",
    "\n",
    "def get_intron_quad_order(intron_quads_df):    \n",
    "    \n",
    "    intron_quads_order = []\n",
    "\n",
    "    for i in range(len(intron_quads_df)):\n",
    "        read =  intron_quads_df.iloc[i]['read']\n",
    "        strand = intron_quads_df.iloc[i]['strand']\n",
    "        int1_splice = intron_quads_df.iloc[i]['int1_splice']\n",
    "        int2_splice = intron_quads_df.iloc[i]['int2_splice']\n",
    "        int3_splice = intron_quads_df.iloc[i]['int3_splice']\n",
    "        int4_splice = intron_quads_df.iloc[i]['int4_splice']\n",
    "\n",
    "        if ((int1_splice == int2_splice) & (int1_splice == int3_splice) & (int1_splice == int4_splice)):\n",
    "            continue\n",
    "\n",
    "        else:         \n",
    "            if (strand == \"+\"):\n",
    "                intron_quads_order.append([read, int1_splice, int2_splice, int3_splice, int4_splice])\n",
    "\n",
    "            elif (strand == \"-\"):\n",
    "                intron_quads_order.append([read, int4_splice, int3_splice, int2_splice, int1_splice])\n",
    "\n",
    "    intron_quads_order_df = pd.DataFrame(intron_quads_order)\n",
    "    intron_quads_order_df.columns = ['read','intron 1','intron 2','intron 3', 'intron 4']\n",
    "\n",
    "    intron_quads_plotting_df = intron_quads_order_df.groupby(['intron 1','intron 2','intron 3','intron 4']).size().to_frame('count').reset_index()\n",
    "\n",
    "    return intron_quads_plotting_df\n",
    "\n",
    "\n",
    "def get_df_for_plotting_intron_quads(intron_quads_plotting_df):\n",
    "        \n",
    "    plot_dict = {'intron 1': [0.0, 0.0, 0.0, 0.0], 'intron 2': [0.0, 0.0, 0.0, 0.0], 'intron 3': [0.0, 0.0, 0.0, 0.0], 'intron 4': [0.0, 0.0, 0.0, 0.0]}\n",
    "    plot_df = pd.DataFrame(data=plot_dict)\n",
    "    plot_df.index = ['intron 1','intron 2','intron 3','intron 4']\n",
    "    \n",
    "    df = intron_quads_plotting_df\n",
    "    total = float(np.sum(df['count']))\n",
    "\n",
    "\n",
    "    for i in range(0,len(plot_df.index)):\n",
    "\n",
    "        for j in range(0,i):\n",
    "\n",
    "            row = plot_df.index[i]\n",
    "            column = plot_df.columns[j]\n",
    "\n",
    "            plot_df[row][column] = float(np.sum(df[(df[row]=='NO') & (df[column]=='NO')]['count']))/float(total)\n",
    "        \n",
    "\n",
    "    for i in range(0,len(plot_df.columns)):\n",
    "\n",
    "        for j in range(0,i):\n",
    "\n",
    "            column = plot_df.columns[i]\n",
    "            row = plot_df.index[j]\n",
    "\n",
    "            plot_df[row][column] = float(np.sum(df[(df[row]=='YES') & (df[column]=='YES')]['count']))/float(total)\n",
    "    \n",
    "   \n",
    "    return plot_df\n",
    "\n",
    "\n",
    "def get_df_for_plotting_intron_quads_combined(intron_quads_plotting_df):\n",
    "        \n",
    "    plot_dict = {'intron 1': [0.0, 0.0, 0.0, 0.0], 'intron 2': [0.0, 0.0, 0.0, 0.0], 'intron 3': [0.0, 0.0, 0.0, 0.0], 'intron 4': [0.0, 0.0, 0.0, 0.0]}\n",
    "    plot_df = pd.DataFrame(data=plot_dict)\n",
    "    plot_df.index = ['intron 1','intron 2','intron 3','intron 4']\n",
    "    \n",
    "    df = intron_quads_plotting_df\n",
    "    total = float(np.sum(df['count']))\n",
    "\n",
    "\n",
    "    for i in range(0,len(plot_df.columns)):\n",
    "\n",
    "        for j in range(0,i):\n",
    "\n",
    "            column = plot_df.columns[i]\n",
    "            row = plot_df.index[j]\n",
    "\n",
    "            plot_df[row][column] = float(np.sum(df[df[row]==df[column]]['count']))/float(total)\n",
    "    \n",
    "    \n",
    "    return plot_df\n",
    "    "
   ]
  },
  {
   "cell_type": "code",
   "execution_count": 4,
   "metadata": {},
   "outputs": [],
   "source": [
    "# Statistics for K562 heatmap\n",
    "\n",
    "# open dictionary with all intron junctions that a read spans\n",
    "K562_1_splice_dictionary = np.load('/path/to/K562_1_splicing_dictionary.npy').item() \n",
    "K562_2_splice_dictionary = np.load('/path/to/K562_2_splicing_dictionary.npy').item() \n",
    "K562_3_splice_dictionary = np.load('/path/to/K562_3_splicing_dictionary.npy').item() \n",
    "K562_4_splice_dictionary = np.load('/path/to/K562_4_splicing_dictionary.npy').item() \n",
    "K562_5a_splice_dictionary = np.load('/path/to/K562_5a_splicing_dictionary.npy').item() \n",
    "K562_5b_splice_dictionary = np.load('/path/to/K562_5b_splicing_dictionary.npy').item() "
   ]
  },
  {
   "cell_type": "code",
   "execution_count": 5,
   "metadata": {},
   "outputs": [],
   "source": [
    "# get multi intron df for K562\n",
    "K562_1_all_multi_introns_df = get_all_multi_introns(K562_1_splice_dictionary, 3)\n",
    "K562_2_all_multi_introns_df = get_all_multi_introns(K562_2_splice_dictionary, 3)\n",
    "K562_3_all_multi_introns_df = get_all_multi_introns(K562_3_splice_dictionary, 3)\n",
    "K562_4_all_multi_introns_df = get_all_multi_introns(K562_4_splice_dictionary, 3)\n",
    "K562_5a_all_multi_introns_df = get_all_multi_introns(K562_5a_splice_dictionary, 3)\n",
    "K562_5b_all_multi_introns_df = get_all_multi_introns(K562_5b_splice_dictionary, 3)\n",
    "K562_all_multi_introns_df = pd.concat([K562_1_all_multi_introns_df,K562_2_all_multi_introns_df,K562_3_all_multi_introns_df,K562_4_all_multi_introns_df,K562_5a_all_multi_introns_df,K562_5b_all_multi_introns_df],axis=0).reset_index(drop=True)"
   ]
  },
  {
   "cell_type": "code",
   "execution_count": 6,
   "metadata": {},
   "outputs": [],
   "source": [
    "K562_4introns_splicing = get_splicing_patterns(K562_all_multi_introns_df, 4)"
   ]
  },
  {
   "cell_type": "code",
   "execution_count": 7,
   "metadata": {},
   "outputs": [],
   "source": [
    "K562_4intron_quad_order = K562_4introns_splicing.groupby(['intron 1','intron 2','intron 3','intron 4']).size().to_frame('count').reset_index()"
   ]
  },
  {
   "cell_type": "code",
   "execution_count": 7,
   "metadata": {},
   "outputs": [],
   "source": [
    "def count_intron_pairs(intronA,intronB):\n",
    "    \n",
    "    count_same = K562_4intron_quad_order[(K562_4intron_quad_order[intronA] == K562_4intron_quad_order[intronB])]['count'].sum()\n",
    "    count_diff = K562_4intron_quad_order[(K562_4intron_quad_order[intronA] != K562_4intron_quad_order[intronB])]['count'].sum()\n",
    "    \n",
    "    prob_list = np.array([count_same,count_diff])\n",
    "    \n",
    "    return prob_list   "
   ]
  },
  {
   "cell_type": "code",
   "execution_count": 18,
   "metadata": {},
   "outputs": [
    {
     "name": "stdout",
     "output_type": "stream",
     "text": [
      "0.0033333333333333335\n"
     ]
    },
    {
     "data": {
      "text/html": [
       "<div>\n",
       "<style scoped>\n",
       "    .dataframe tbody tr th:only-of-type {\n",
       "        vertical-align: middle;\n",
       "    }\n",
       "\n",
       "    .dataframe tbody tr th {\n",
       "        vertical-align: top;\n",
       "    }\n",
       "\n",
       "    .dataframe thead th {\n",
       "        text-align: right;\n",
       "    }\n",
       "</style>\n",
       "<table border=\"1\" class=\"dataframe\">\n",
       "  <thead>\n",
       "    <tr style=\"text-align: right;\">\n",
       "      <th></th>\n",
       "      <th>intron_pair_1</th>\n",
       "      <th>intron_pair_2</th>\n",
       "      <th>count_same_pair_1</th>\n",
       "      <th>count_same_pair_2</th>\n",
       "      <th>chi_square_exact_pvalue</th>\n",
       "      <th>significant_post_correction</th>\n",
       "    </tr>\n",
       "  </thead>\n",
       "  <tbody>\n",
       "    <tr>\n",
       "      <th>0</th>\n",
       "      <td>intron 1_intron 2</td>\n",
       "      <td>intron 1_intron 3</td>\n",
       "      <td>1077</td>\n",
       "      <td>915</td>\n",
       "      <td>1.458742e-06</td>\n",
       "      <td>yes</td>\n",
       "    </tr>\n",
       "    <tr>\n",
       "      <th>1</th>\n",
       "      <td>intron 1_intron 2</td>\n",
       "      <td>intron 1_intron 4</td>\n",
       "      <td>1077</td>\n",
       "      <td>811</td>\n",
       "      <td>1.437520e-15</td>\n",
       "      <td>yes</td>\n",
       "    </tr>\n",
       "    <tr>\n",
       "      <th>2</th>\n",
       "      <td>intron 1_intron 2</td>\n",
       "      <td>intron 2_intron 3</td>\n",
       "      <td>1077</td>\n",
       "      <td>1136</td>\n",
       "      <td>8.491441e-02</td>\n",
       "      <td>no</td>\n",
       "    </tr>\n",
       "    <tr>\n",
       "      <th>3</th>\n",
       "      <td>intron 1_intron 2</td>\n",
       "      <td>intron 2_intron 4</td>\n",
       "      <td>1077</td>\n",
       "      <td>950</td>\n",
       "      <td>1.679125e-04</td>\n",
       "      <td>yes</td>\n",
       "    </tr>\n",
       "    <tr>\n",
       "      <th>4</th>\n",
       "      <td>intron 1_intron 2</td>\n",
       "      <td>intron 3_intron 4</td>\n",
       "      <td>1077</td>\n",
       "      <td>1186</td>\n",
       "      <td>1.340605e-03</td>\n",
       "      <td>yes</td>\n",
       "    </tr>\n",
       "    <tr>\n",
       "      <th>5</th>\n",
       "      <td>intron 1_intron 3</td>\n",
       "      <td>intron 1_intron 4</td>\n",
       "      <td>915</td>\n",
       "      <td>811</td>\n",
       "      <td>1.633125e-03</td>\n",
       "      <td>yes</td>\n",
       "    </tr>\n",
       "    <tr>\n",
       "      <th>6</th>\n",
       "      <td>intron 1_intron 3</td>\n",
       "      <td>intron 2_intron 3</td>\n",
       "      <td>915</td>\n",
       "      <td>1136</td>\n",
       "      <td>5.267828e-11</td>\n",
       "      <td>yes</td>\n",
       "    </tr>\n",
       "    <tr>\n",
       "      <th>7</th>\n",
       "      <td>intron 1_intron 3</td>\n",
       "      <td>intron 2_intron 4</td>\n",
       "      <td>915</td>\n",
       "      <td>950</td>\n",
       "      <td>3.049008e-01</td>\n",
       "      <td>no</td>\n",
       "    </tr>\n",
       "    <tr>\n",
       "      <th>8</th>\n",
       "      <td>intron 1_intron 3</td>\n",
       "      <td>intron 3_intron 4</td>\n",
       "      <td>915</td>\n",
       "      <td>1186</td>\n",
       "      <td>9.008679e-16</td>\n",
       "      <td>yes</td>\n",
       "    </tr>\n",
       "    <tr>\n",
       "      <th>9</th>\n",
       "      <td>intron 1_intron 4</td>\n",
       "      <td>intron 2_intron 3</td>\n",
       "      <td>811</td>\n",
       "      <td>1136</td>\n",
       "      <td>2.496254e-22</td>\n",
       "      <td>yes</td>\n",
       "    </tr>\n",
       "    <tr>\n",
       "      <th>10</th>\n",
       "      <td>intron 1_intron 4</td>\n",
       "      <td>intron 2_intron 4</td>\n",
       "      <td>811</td>\n",
       "      <td>950</td>\n",
       "      <td>2.617710e-05</td>\n",
       "      <td>yes</td>\n",
       "    </tr>\n",
       "    <tr>\n",
       "      <th>11</th>\n",
       "      <td>intron 1_intron 4</td>\n",
       "      <td>intron 3_intron 4</td>\n",
       "      <td>811</td>\n",
       "      <td>1186</td>\n",
       "      <td>4.757028e-29</td>\n",
       "      <td>yes</td>\n",
       "    </tr>\n",
       "    <tr>\n",
       "      <th>12</th>\n",
       "      <td>intron 2_intron 3</td>\n",
       "      <td>intron 2_intron 4</td>\n",
       "      <td>1136</td>\n",
       "      <td>950</td>\n",
       "      <td>3.558335e-08</td>\n",
       "      <td>yes</td>\n",
       "    </tr>\n",
       "    <tr>\n",
       "      <th>13</th>\n",
       "      <td>intron 2_intron 3</td>\n",
       "      <td>intron 3_intron 4</td>\n",
       "      <td>1136</td>\n",
       "      <td>1186</td>\n",
       "      <td>1.455304e-01</td>\n",
       "      <td>no</td>\n",
       "    </tr>\n",
       "    <tr>\n",
       "      <th>14</th>\n",
       "      <td>intron 2_intron 4</td>\n",
       "      <td>intron 3_intron 4</td>\n",
       "      <td>950</td>\n",
       "      <td>1186</td>\n",
       "      <td>2.742259e-12</td>\n",
       "      <td>yes</td>\n",
       "    </tr>\n",
       "  </tbody>\n",
       "</table>\n",
       "</div>"
      ],
      "text/plain": [
       "        intron_pair_1      intron_pair_2  count_same_pair_1  \\\n",
       "0   intron 1_intron 2  intron 1_intron 3               1077   \n",
       "1   intron 1_intron 2  intron 1_intron 4               1077   \n",
       "2   intron 1_intron 2  intron 2_intron 3               1077   \n",
       "3   intron 1_intron 2  intron 2_intron 4               1077   \n",
       "4   intron 1_intron 2  intron 3_intron 4               1077   \n",
       "5   intron 1_intron 3  intron 1_intron 4                915   \n",
       "6   intron 1_intron 3  intron 2_intron 3                915   \n",
       "7   intron 1_intron 3  intron 2_intron 4                915   \n",
       "8   intron 1_intron 3  intron 3_intron 4                915   \n",
       "9   intron 1_intron 4  intron 2_intron 3                811   \n",
       "10  intron 1_intron 4  intron 2_intron 4                811   \n",
       "11  intron 1_intron 4  intron 3_intron 4                811   \n",
       "12  intron 2_intron 3  intron 2_intron 4               1136   \n",
       "13  intron 2_intron 3  intron 3_intron 4               1136   \n",
       "14  intron 2_intron 4  intron 3_intron 4                950   \n",
       "\n",
       "    count_same_pair_2  chi_square_exact_pvalue significant_post_correction  \n",
       "0                 915             1.458742e-06                         yes  \n",
       "1                 811             1.437520e-15                         yes  \n",
       "2                1136             8.491441e-02                          no  \n",
       "3                 950             1.679125e-04                         yes  \n",
       "4                1186             1.340605e-03                         yes  \n",
       "5                 811             1.633125e-03                         yes  \n",
       "6                1136             5.267828e-11                         yes  \n",
       "7                 950             3.049008e-01                          no  \n",
       "8                1186             9.008679e-16                         yes  \n",
       "9                1136             2.496254e-22                         yes  \n",
       "10                950             2.617710e-05                         yes  \n",
       "11               1186             4.757028e-29                         yes  \n",
       "12                950             3.558335e-08                         yes  \n",
       "13               1186             1.455304e-01                          no  \n",
       "14               1186             2.742259e-12                         yes  "
      ]
     },
     "execution_count": 18,
     "metadata": {},
     "output_type": "execute_result"
    }
   ],
   "source": [
    "combinations = [['intron 1','intron 2'],['intron 1','intron 3'],['intron 1','intron 4'],\n",
    "               ['intron 2','intron 3'],['intron 2','intron 4'],['intron 3','intron 4']]\n",
    "\n",
    "# Use chi-square test with 2x2 contingency table\n",
    "\n",
    "counts_dict_chi = {}\n",
    "count_freq_dict = {}\n",
    "\n",
    "for pair in combinations:\n",
    "    freq = count_intron_pairs(pair[0],pair[1])\n",
    "    pair_name = \"_\".join(pair)\n",
    "    counts_dict_chi[pair_name] = freq\n",
    "    \n",
    "    count_same = freq[0]\n",
    "    count_freq_dict[pair_name] = count_same\n",
    "    \n",
    "    \n",
    "stats_list = []\n",
    "for k1, k2 in itertools.combinations(counts_dict_chi, 2):\n",
    "    p = scipy.stats.chi2_contingency([counts_dict_chi[k1],counts_dict_chi[k2]])[1]\n",
    "    count_same_1 = count_freq_dict[k1]\n",
    "    count_same_2 = count_freq_dict[k2]\n",
    "    stats_list.append([k1,k2,count_same_1,count_same_2,p])\n",
    "    \n",
    "    \n",
    "stats_df_chi = pd.DataFrame(stats_list)\n",
    "stats_df_chi.columns = ['intron_pair_1','intron_pair_2','count_same_pair_1','count_same_pair_2','chi_square_exact_pvalue']\n",
    "\n",
    "padj_threshold = 0.05 / len(stats_df_chi)\n",
    "print(padj_threshold)\n",
    "\n",
    "stats_df_chi['significant_post_correction'] = 'no'\n",
    "stats_df_chi.loc[stats_df_chi['chi_square_exact_pvalue'] < padj_threshold,'significant_post_correction'] = 'yes'\n",
    "stats_df_chi"
   ]
  },
  {
   "cell_type": "code",
   "execution_count": 17,
   "metadata": {},
   "outputs": [],
   "source": [
    "stats_df_chi.to_csv('/path/to/stats_coordination_heatmap.txt', sep='\\t', header=True, index=False)"
   ]
  },
  {
   "cell_type": "code",
   "execution_count": null,
   "metadata": {},
   "outputs": [],
   "source": [
    "### Supplementary Figure 7F (lymphoblast coordination)"
   ]
  },
  {
   "cell_type": "code",
   "execution_count": 6,
   "metadata": {},
   "outputs": [],
   "source": [
    "BL1184_1_splice_dictionary = np.load('/path/to/BL1184_1_splicing_dictionary.npy',  encoding='latin1').item()\n",
    "BL1184_2_splice_dictionary = np.load('/path/to/BL1184_2_splicing_dictionary.npy',  encoding='latin1').item()\n",
    "\n",
    "# get multi intron df for K562\n",
    "BL1184_2_all_multi_introns_df = get_all_multi_introns(BL1184_2_splice_dictionary, 3)\n",
    "BL1184_1_all_multi_introns_df = get_all_multi_introns(BL1184_1_splice_dictionary, 3)\n",
    "\n",
    "BL1184_all_multi_introns_df = pd.concat([BL1184_2_all_multi_introns_df,BL1184_1_all_multi_introns_df]).reset_index(drop=True)"
   ]
  },
  {
   "cell_type": "code",
   "execution_count": 11,
   "metadata": {},
   "outputs": [],
   "source": [
    "BL1184_4introns_splicing = get_splicing_patterns(BL1184_all_multi_introns_df, 4)\n",
    "BL1184_4intron_quad_order = BL1184_4introns_splicing.groupby(['intron 1','intron 2','intron 3','intron 4']).size().to_frame('count').reset_index()"
   ]
  },
  {
   "cell_type": "code",
   "execution_count": 12,
   "metadata": {},
   "outputs": [],
   "source": [
    "BL1184_4intron_plot_df = get_df_for_plotting_intron_quads(BL1184_4intron_quad_order)"
   ]
  },
  {
   "cell_type": "code",
   "execution_count": 13,
   "metadata": {},
   "outputs": [],
   "source": [
    "BL1184_4intron_combined_plot_df = get_df_for_plotting_intron_quads_combined(BL1184_4intron_quad_order)"
   ]
  },
  {
   "cell_type": "code",
   "execution_count": 23,
   "metadata": {},
   "outputs": [
    {
     "data": {
      "image/png": "[encoded data removed]",
      "text/plain": [
       "<Figure size 432x360 with 2 Axes>"
      ]
     },
     "metadata": {},
     "output_type": "display_data"
    }
   ],
   "source": [
    "fig, ax = plt.subplots(figsize=(6,5))\n",
    "\n",
    "sns.heatmap(BL1184_4intron_combined_plot_df, annot=True, center=0.25, annot_kws={\"size\": 16}, fmt='.0%', cmap=\"Greens\")\n",
    "\n",
    "plt.tick_params(axis='both', labelsize=16)\n",
    "plt.title(\"BL1184\", fontsize=18, y=1.04)\n",
    "plt.yticks(rotation=0)\n",
    "\n",
    "plt.savefig('/path/to/Supplemental_Figure_7F_BL1184_heatmap_coordination.pdf', \n",
    "           format='pdf', dpi=300, bbox_inches='tight')\n",
    "\n",
    "plt.show()"
   ]
  },
  {
   "cell_type": "code",
   "execution_count": 19,
   "metadata": {},
   "outputs": [],
   "source": [
    "def count_intron_pairs_2(intronA,intronB):\n",
    "    \n",
    "    count_same = BL1184_4intron_quad_order[(BL1184_4intron_quad_order[intronA] == BL1184_4intron_quad_order[intronB])]['count'].sum()\n",
    "    count_diff = BL1184_4intron_quad_order[(BL1184_4intron_quad_order[intronA] != BL1184_4intron_quad_order[intronB])]['count'].sum()\n",
    "    \n",
    "    prob_list = np.array([count_same,count_diff])\n",
    "    \n",
    "    return prob_list   "
   ]
  },
  {
   "cell_type": "code",
   "execution_count": 21,
   "metadata": {},
   "outputs": [
    {
     "name": "stdout",
     "output_type": "stream",
     "text": [
      "0.0033333333333333335\n"
     ]
    },
    {
     "data": {
      "text/html": [
       "<div>\n",
       "<style scoped>\n",
       "    .dataframe tbody tr th:only-of-type {\n",
       "        vertical-align: middle;\n",
       "    }\n",
       "\n",
       "    .dataframe tbody tr th {\n",
       "        vertical-align: top;\n",
       "    }\n",
       "\n",
       "    .dataframe thead th {\n",
       "        text-align: right;\n",
       "    }\n",
       "</style>\n",
       "<table border=\"1\" class=\"dataframe\">\n",
       "  <thead>\n",
       "    <tr style=\"text-align: right;\">\n",
       "      <th></th>\n",
       "      <th>intron_pair_1</th>\n",
       "      <th>intron_pair_2</th>\n",
       "      <th>count_same_pair_1</th>\n",
       "      <th>count_same_pair_2</th>\n",
       "      <th>chi_square_exact_pvalue</th>\n",
       "      <th>significant_post_correction</th>\n",
       "    </tr>\n",
       "  </thead>\n",
       "  <tbody>\n",
       "    <tr>\n",
       "      <th>0</th>\n",
       "      <td>intron 1_intron 2</td>\n",
       "      <td>intron 1_intron 3</td>\n",
       "      <td>516</td>\n",
       "      <td>446</td>\n",
       "      <td>2.846428e-03</td>\n",
       "      <td>yes</td>\n",
       "    </tr>\n",
       "    <tr>\n",
       "      <th>1</th>\n",
       "      <td>intron 1_intron 2</td>\n",
       "      <td>intron 1_intron 4</td>\n",
       "      <td>516</td>\n",
       "      <td>399</td>\n",
       "      <td>4.511344e-07</td>\n",
       "      <td>yes</td>\n",
       "    </tr>\n",
       "    <tr>\n",
       "      <th>2</th>\n",
       "      <td>intron 1_intron 2</td>\n",
       "      <td>intron 2_intron 3</td>\n",
       "      <td>516</td>\n",
       "      <td>551</td>\n",
       "      <td>1.439445e-01</td>\n",
       "      <td>no</td>\n",
       "    </tr>\n",
       "    <tr>\n",
       "      <th>3</th>\n",
       "      <td>intron 1_intron 2</td>\n",
       "      <td>intron 2_intron 4</td>\n",
       "      <td>516</td>\n",
       "      <td>440</td>\n",
       "      <td>1.172838e-03</td>\n",
       "      <td>yes</td>\n",
       "    </tr>\n",
       "    <tr>\n",
       "      <th>4</th>\n",
       "      <td>intron 1_intron 2</td>\n",
       "      <td>intron 3_intron 4</td>\n",
       "      <td>516</td>\n",
       "      <td>546</td>\n",
       "      <td>2.125934e-01</td>\n",
       "      <td>no</td>\n",
       "    </tr>\n",
       "    <tr>\n",
       "      <th>5</th>\n",
       "      <td>intron 1_intron 3</td>\n",
       "      <td>intron 1_intron 4</td>\n",
       "      <td>446</td>\n",
       "      <td>399</td>\n",
       "      <td>4.273235e-02</td>\n",
       "      <td>no</td>\n",
       "    </tr>\n",
       "    <tr>\n",
       "      <th>6</th>\n",
       "      <td>intron 1_intron 3</td>\n",
       "      <td>intron 2_intron 3</td>\n",
       "      <td>446</td>\n",
       "      <td>551</td>\n",
       "      <td>7.346217e-06</td>\n",
       "      <td>yes</td>\n",
       "    </tr>\n",
       "    <tr>\n",
       "      <th>7</th>\n",
       "      <td>intron 1_intron 3</td>\n",
       "      <td>intron 2_intron 4</td>\n",
       "      <td>446</td>\n",
       "      <td>440</td>\n",
       "      <td>8.270294e-01</td>\n",
       "      <td>no</td>\n",
       "    </tr>\n",
       "    <tr>\n",
       "      <th>8</th>\n",
       "      <td>intron 1_intron 3</td>\n",
       "      <td>intron 3_intron 4</td>\n",
       "      <td>446</td>\n",
       "      <td>546</td>\n",
       "      <td>1.959331e-05</td>\n",
       "      <td>yes</td>\n",
       "    </tr>\n",
       "    <tr>\n",
       "      <th>9</th>\n",
       "      <td>intron 1_intron 4</td>\n",
       "      <td>intron 2_intron 3</td>\n",
       "      <td>399</td>\n",
       "      <td>551</td>\n",
       "      <td>6.214229e-11</td>\n",
       "      <td>yes</td>\n",
       "    </tr>\n",
       "    <tr>\n",
       "      <th>10</th>\n",
       "      <td>intron 1_intron 4</td>\n",
       "      <td>intron 2_intron 4</td>\n",
       "      <td>399</td>\n",
       "      <td>440</td>\n",
       "      <td>7.768125e-02</td>\n",
       "      <td>no</td>\n",
       "    </tr>\n",
       "    <tr>\n",
       "      <th>11</th>\n",
       "      <td>intron 1_intron 4</td>\n",
       "      <td>intron 3_intron 4</td>\n",
       "      <td>399</td>\n",
       "      <td>546</td>\n",
       "      <td>2.520930e-10</td>\n",
       "      <td>yes</td>\n",
       "    </tr>\n",
       "    <tr>\n",
       "      <th>12</th>\n",
       "      <td>intron 2_intron 3</td>\n",
       "      <td>intron 2_intron 4</td>\n",
       "      <td>551</td>\n",
       "      <td>440</td>\n",
       "      <td>2.092962e-06</td>\n",
       "      <td>yes</td>\n",
       "    </tr>\n",
       "    <tr>\n",
       "      <th>13</th>\n",
       "      <td>intron 2_intron 3</td>\n",
       "      <td>intron 3_intron 4</td>\n",
       "      <td>551</td>\n",
       "      <td>546</td>\n",
       "      <td>8.635096e-01</td>\n",
       "      <td>no</td>\n",
       "    </tr>\n",
       "    <tr>\n",
       "      <th>14</th>\n",
       "      <td>intron 2_intron 4</td>\n",
       "      <td>intron 3_intron 4</td>\n",
       "      <td>440</td>\n",
       "      <td>546</td>\n",
       "      <td>5.886480e-06</td>\n",
       "      <td>yes</td>\n",
       "    </tr>\n",
       "  </tbody>\n",
       "</table>\n",
       "</div>"
      ],
      "text/plain": [
       "        intron_pair_1      intron_pair_2  count_same_pair_1  \\\n",
       "0   intron 1_intron 2  intron 1_intron 3                516   \n",
       "1   intron 1_intron 2  intron 1_intron 4                516   \n",
       "2   intron 1_intron 2  intron 2_intron 3                516   \n",
       "3   intron 1_intron 2  intron 2_intron 4                516   \n",
       "4   intron 1_intron 2  intron 3_intron 4                516   \n",
       "5   intron 1_intron 3  intron 1_intron 4                446   \n",
       "6   intron 1_intron 3  intron 2_intron 3                446   \n",
       "7   intron 1_intron 3  intron 2_intron 4                446   \n",
       "8   intron 1_intron 3  intron 3_intron 4                446   \n",
       "9   intron 1_intron 4  intron 2_intron 3                399   \n",
       "10  intron 1_intron 4  intron 2_intron 4                399   \n",
       "11  intron 1_intron 4  intron 3_intron 4                399   \n",
       "12  intron 2_intron 3  intron 2_intron 4                551   \n",
       "13  intron 2_intron 3  intron 3_intron 4                551   \n",
       "14  intron 2_intron 4  intron 3_intron 4                440   \n",
       "\n",
       "    count_same_pair_2  chi_square_exact_pvalue significant_post_correction  \n",
       "0                 446             2.846428e-03                         yes  \n",
       "1                 399             4.511344e-07                         yes  \n",
       "2                 551             1.439445e-01                          no  \n",
       "3                 440             1.172838e-03                         yes  \n",
       "4                 546             2.125934e-01                          no  \n",
       "5                 399             4.273235e-02                          no  \n",
       "6                 551             7.346217e-06                         yes  \n",
       "7                 440             8.270294e-01                          no  \n",
       "8                 546             1.959331e-05                         yes  \n",
       "9                 551             6.214229e-11                         yes  \n",
       "10                440             7.768125e-02                          no  \n",
       "11                546             2.520930e-10                         yes  \n",
       "12                440             2.092962e-06                         yes  \n",
       "13                546             8.635096e-01                          no  \n",
       "14                546             5.886480e-06                         yes  "
      ]
     },
     "execution_count": 21,
     "metadata": {},
     "output_type": "execute_result"
    }
   ],
   "source": [
    "combinations = [['intron 1','intron 2'],['intron 1','intron 3'],['intron 1','intron 4'],\n",
    "               ['intron 2','intron 3'],['intron 2','intron 4'],['intron 3','intron 4']]\n",
    "\n",
    "# Use chi-square test with 2x2 contingency table\n",
    "\n",
    "BL_counts_dict_chi = {}\n",
    "BL_count_freq_dict = {}\n",
    "\n",
    "for pair in combinations:\n",
    "    freq = count_intron_pairs_2(pair[0],pair[1])\n",
    "    pair_name = \"_\".join(pair)\n",
    "    BL_counts_dict_chi[pair_name] = freq\n",
    "    \n",
    "    count_same = freq[0]\n",
    "    BL_count_freq_dict[pair_name] = count_same\n",
    "    \n",
    "    \n",
    "stats_list = []\n",
    "for k1, k2 in itertools.combinations(BL_counts_dict_chi, 2):\n",
    "    p = scipy.stats.chi2_contingency([BL_counts_dict_chi[k1],BL_counts_dict_chi[k2]])[1]\n",
    "    count_same_1 = BL_count_freq_dict[k1]\n",
    "    count_same_2 = BL_count_freq_dict[k2]\n",
    "    stats_list.append([k1,k2,count_same_1,count_same_2,p])\n",
    "    \n",
    "    \n",
    "BL_stats_df_chi = pd.DataFrame(stats_list)\n",
    "BL_stats_df_chi.columns = ['intron_pair_1','intron_pair_2','count_same_pair_1','count_same_pair_2','chi_square_exact_pvalue']\n",
    "\n",
    "padj_threshold = 0.05 / len(BL_stats_df_chi)\n",
    "print(padj_threshold)\n",
    "\n",
    "BL_stats_df_chi['significant_post_correction'] = 'no'\n",
    "BL_stats_df_chi.loc[BL_stats_df_chi['chi_square_exact_pvalue'] < padj_threshold,'significant_post_correction'] = 'yes'\n",
    "BL_stats_df_chi"
   ]
  },
  {
   "cell_type": "code",
   "execution_count": null,
   "metadata": {},
   "outputs": [],
   "source": []
  },
  {
   "cell_type": "code",
   "execution_count": null,
   "metadata": {},
   "outputs": [],
   "source": []
  },
  {
   "cell_type": "code",
   "execution_count": 2,
   "metadata": {},
   "outputs": [],
   "source": [
    "# SUPPLEMENTAL FIGURE 7G - distance transcribed before splicing plots compared with splicing yield\n",
    "\n",
    "# upload splicing yield file\n",
    "splicing_yield_df = pd.read_csv('/path/to/annotation_files/K562_splicing_yield.bed',header=None, sep='\\t')\n",
    "splicing_yield_df.columns = ['chrom','intron_start','intron_end','eta','strand']\n",
    "splicing_yield_df['intron_start']  = splicing_yield_df['intron_start'].astype(int)\n",
    "splicing_yield_df['chrom'] = splicing_yield_df['chrom'].str[3:]\n",
    "\n",
    "K562_1_splice_df = pd.read_table(\"/path/to/K562_1_hg38_medIntrons_discarded_splice_df.txt\",header=0)\n",
    "K562_2_splice_df = pd.read_table(\"/path/to/K562_2_hg38_medIntrons_discarded_splice_df.txt\",header=0)\n",
    "K562_3_splice_df = pd.read_table(\"/path/to/K562_3_hg38_medIntrons_discarded_splice_df.txt\",header=0)\n",
    "K562_4_splice_df = pd.read_table(\"/path/to/K562_4_hg38_medIntrons_discarded_splice_df.txt\",header=0)\n",
    "K562_5a_splice_df = pd.read_table(\"/path/to/K562_5a_hg38_medIntrons_discarded_splice_df.txt\",header=0)\n",
    "K562_5b_splice_df = pd.read_table(\"/path/to/K562_5b_hg38_medIntrons_discarded_splice_df.txt\",header=0)\n",
    "K562_5_splice_df = pd.concat([K562_5a_splice_df,K562_5b_splice_df],axis=0)\n",
    "\n",
    "# get splicing yield \n",
    "K562_1_splice_df_eta = pd.merge(K562_1_splice_df,splicing_yield_df,on=['chrom','intron_start','intron_end','strand'], how='left')\n",
    "K562_2_splice_df_eta = pd.merge(K562_2_splice_df,splicing_yield_df,on=['chrom','intron_start','intron_end','strand'], how='left')\n",
    "K562_3_splice_df_eta = pd.merge(K562_3_splice_df,splicing_yield_df,on=['chrom','intron_start','intron_end','strand'], how='left')\n",
    "K562_4_splice_df_eta = pd.merge(K562_4_splice_df,splicing_yield_df,on=['chrom','intron_start','intron_end','strand'], how='left')\n",
    "K562_5_splice_df_eta = pd.merge(K562_5_splice_df,splicing_yield_df,on=['chrom','intron_start','intron_end','strand'], how='left')\n"
   ]
  },
  {
   "cell_type": "code",
   "execution_count": 3,
   "metadata": {},
   "outputs": [
    {
     "name": "stderr",
     "output_type": "stream",
     "text": [
      "/Users/karinechoquet/anaconda3/lib/python3.6/site-packages/matplotlib/cbook/deprecation.py:107: MatplotlibDeprecationWarning: Passing one of 'on', 'true', 'off', 'false' as a boolean is deprecated; use an actual boolean (True/False) instead.\n",
      "  warnings.warn(message, mplDeprecation, stacklevel=1)\n",
      "/Users/karinechoquet/anaconda3/lib/python3.6/site-packages/matplotlib/cbook/deprecation.py:107: MatplotlibDeprecationWarning: Passing one of 'on', 'true', 'off', 'false' as a boolean is deprecated; use an actual boolean (True/False) instead.\n",
      "  warnings.warn(message, mplDeprecation, stacklevel=1)\n"
     ]
    },
    {
     "data": {
      "image/png": "[encoded data removed]",
      "text/plain": [
       "<Figure size 288x252 with 1 Axes>"
      ]
     },
     "metadata": {},
     "output_type": "display_data"
    }
   ],
   "source": [
    "low = 1\n",
    "high = 100\n",
    "\n",
    "\n",
    "K562_1_low_splice_df = K562_1_splice_df_eta[K562_1_splice_df_eta['eta'] < low]\n",
    "K562_1_med_splice_df = K562_1_splice_df_eta[(K562_1_splice_df_eta['eta'] > low) & (K562_1_splice_df_eta['eta'] < high)]\n",
    "K562_1_high_splice_df = K562_1_splice_df_eta[K562_1_splice_df_eta['eta'] > high]\n",
    "\n",
    "K562_2_low_splice_df = K562_2_splice_df_eta[K562_2_splice_df_eta['eta'] < low]\n",
    "K562_2_med_splice_df = K562_2_splice_df_eta[(K562_2_splice_df_eta['eta'] > low) & (K562_2_splice_df_eta['eta'] < high)]\n",
    "K562_2_high_splice_df = K562_2_splice_df_eta[K562_2_splice_df_eta['eta'] > high]\n",
    "\n",
    "K562_3_low_splice_df = K562_3_splice_df_eta[K562_3_splice_df_eta['eta'] < low]\n",
    "K562_3_med_splice_df = K562_3_splice_df_eta[(K562_3_splice_df_eta['eta'] > low) & (K562_3_splice_df_eta['eta'] < high)]\n",
    "K562_3_high_splice_df = K562_3_splice_df_eta[K562_3_splice_df_eta['eta'] > high]\n",
    "\n",
    "K562_4_low_splice_df = K562_4_splice_df_eta[K562_4_splice_df_eta['eta'] < low]\n",
    "K562_4_med_splice_df = K562_4_splice_df_eta[(K562_4_splice_df_eta['eta'] > low) & (K562_4_splice_df_eta['eta'] < high)]\n",
    "K562_4_high_splice_df = K562_4_splice_df_eta[K562_4_splice_df_eta['eta'] > high]\n",
    "\n",
    "K562_5_low_splice_df = K562_5_splice_df_eta[K562_5_splice_df_eta['eta'] < low]\n",
    "K562_5_med_splice_df = K562_5_splice_df_eta[(K562_5_splice_df_eta['eta'] > low) & (K562_5_splice_df_eta['eta'] < high)]\n",
    "K562_5_high_splice_df = K562_5_splice_df_eta[K562_5_splice_df_eta['eta'] > high]\n",
    "\n",
    "\n",
    "######### set variables for plot #########\n",
    "window = 150\n",
    "plot_min = 0\n",
    "plot_max = 1650      \n",
    "\n",
    "samples=['K562_1','K562_2','K562_3','K562_4','K562_5']\n",
    "\n",
    "######### get info for each sample #########\n",
    "\n",
    "### short introns\n",
    "plot_list = [] \n",
    "for k in samples:\n",
    "    name = '%s' % k # get name of sample\n",
    "    splice_df = eval('%s_low_splice_df' % k) # get splicing file for this sample\n",
    "    \n",
    "    for i in range(int(plot_min/window)-1,int(plot_max/window)):\n",
    "        plot_range_low = i*window\n",
    "        plot_range_high = (i+1)*window\n",
    "        splicedf_range = splice_df[splice_df['dist_from_3SS'].astype(int).between(plot_range_low, plot_range_high, inclusive=True)] \n",
    "        splicedf_spliced = len(splicedf_range[splicedf_range['splice_status']==\"YES\"])\n",
    "        splicedf_unspliced = len(splicedf_range[splicedf_range['splice_status']==\"NO\"])\n",
    "        splicedf_undetermined = len(splicedf_range[splicedf_range['splice_status']==\"UNDETERMINED\"])\n",
    "        if (splicedf_spliced + splicedf_unspliced) > 0: \n",
    "            splicedf_percentSpliced = (float(splicedf_spliced) / (float(splicedf_spliced) + float(splicedf_unspliced)))*100\n",
    "        elif (splicedf_spliced + splicedf_unspliced) == 0: \n",
    "            splicedf_percentSpliced = 0.0\n",
    "\n",
    "        splicedf_percentSpliced = float(\"{0:.3f}\".format(splicedf_percentSpliced))\n",
    "        count = splicedf_spliced + splicedf_unspliced\n",
    "        plot_list.append([plot_range_high,name,count,float(splicedf_percentSpliced)])\n",
    "\n",
    "plot_df = pd.DataFrame(plot_list)\n",
    "plot_df.columns = ['range','name','count','percentSpliced']\n",
    "short_N = np.sum(plot_df['count'])\n",
    "short_df = plot_df.copy()\n",
    "\n",
    "mean = []\n",
    "stdev = []\n",
    "for i in range(int(plot_min/window),int(plot_max/window)):\n",
    "    plot_range_low = i*window\n",
    "    plot_range_high = (i+1)*window\n",
    "    plot_range_middle = (plot_range_low + plot_range_high) / 2\n",
    "    mean.append([int(plot_range_middle), np.mean(plot_df[plot_df['range']==plot_range_high]['percentSpliced'])])\n",
    "    stdev.append(np.std(plot_df[plot_df['range']==plot_range_high]['percentSpliced']))    \n",
    "\n",
    "short_plot_df = pd.DataFrame(mean)\n",
    "short_plot_df.columns = ['range','mean']\n",
    "short_plot_df['stdev'] = stdev\n",
    "\n",
    "\n",
    "### medium introns\n",
    "plot_list = [] \n",
    "for k in samples:\n",
    "    name = '%s' % k # get name of sample\n",
    "    splice_df = eval('%s_med_splice_df' % k) # get splicing file for this sample\n",
    "    \n",
    "    for i in range(int(plot_min/window)-1,int(plot_max/window)):\n",
    "        plot_range_low = i*window\n",
    "        plot_range_high = (i+1)*window\n",
    "        splicedf_range = splice_df[splice_df['dist_from_3SS'].astype(int).between(plot_range_low, plot_range_high, inclusive=True)] \n",
    "        splicedf_spliced = len(splicedf_range[splicedf_range['splice_status']==\"YES\"])\n",
    "        splicedf_unspliced = len(splicedf_range[splicedf_range['splice_status']==\"NO\"])\n",
    "        splicedf_undetermined = len(splicedf_range[splicedf_range['splice_status']==\"UNDETERMINED\"])\n",
    "        if (splicedf_spliced + splicedf_unspliced) > 0: \n",
    "            splicedf_percentSpliced = (float(splicedf_spliced) / (float(splicedf_spliced) + float(splicedf_unspliced)))*100\n",
    "        elif (splicedf_spliced + splicedf_unspliced) == 0: \n",
    "            splicedf_percentSpliced = 0.0\n",
    "\n",
    "        splicedf_percentSpliced = float(\"{0:.3f}\".format(splicedf_percentSpliced))\n",
    "        count = splicedf_spliced + splicedf_unspliced\n",
    "        plot_list.append([plot_range_high,name,count,float(splicedf_percentSpliced)])\n",
    "\n",
    "plot_df = pd.DataFrame(plot_list)\n",
    "plot_df.columns = ['range','name','count','percentSpliced']\n",
    "med_N = np.sum(plot_df['count'])\n",
    "med_df = plot_df.copy()\n",
    "\n",
    "mean = []\n",
    "stdev = []\n",
    "for i in range(int(plot_min/window),int(plot_max/window)):\n",
    "    plot_range_low = i*window\n",
    "    plot_range_high = (i+1)*window\n",
    "    plot_range_middle = (plot_range_low + plot_range_high) / 2\n",
    "    mean.append([int(plot_range_middle), np.mean(plot_df[plot_df['range']==plot_range_high]['percentSpliced'])])\n",
    "    stdev.append(np.std(plot_df[plot_df['range']==plot_range_high]['percentSpliced']))    \n",
    "\n",
    "med_plot_df = pd.DataFrame(mean)\n",
    "med_plot_df.columns = ['range','mean']\n",
    "med_plot_df['stdev'] = stdev\n",
    "\n",
    "\n",
    "### long introns\n",
    "plot_list = [] \n",
    "for k in samples:\n",
    "    name = '%s' % k # get name of sample\n",
    "    splice_df = eval('%s_high_splice_df' % k) # get splicing file for this sample\n",
    "    \n",
    "    for i in range(int(plot_min/window)-1,int(plot_max/window)):\n",
    "        plot_range_low = i*window\n",
    "        plot_range_high = (i+1)*window\n",
    "        splicedf_range = splice_df[splice_df['dist_from_3SS'].astype(int).between(plot_range_low, plot_range_high, inclusive=True)] \n",
    "        splicedf_spliced = len(splicedf_range[splicedf_range['splice_status']==\"YES\"])\n",
    "        splicedf_unspliced = len(splicedf_range[splicedf_range['splice_status']==\"NO\"])\n",
    "        splicedf_undetermined = len(splicedf_range[splicedf_range['splice_status']==\"UNDETERMINED\"])\n",
    "        if (splicedf_spliced + splicedf_unspliced) > 0: \n",
    "            splicedf_percentSpliced = (float(splicedf_spliced) / (float(splicedf_spliced) + float(splicedf_unspliced)))*100\n",
    "        elif (splicedf_spliced + splicedf_unspliced) == 0: \n",
    "            splicedf_percentSpliced = 0.0\n",
    "\n",
    "        splicedf_percentSpliced = float(\"{0:.3f}\".format(splicedf_percentSpliced))\n",
    "        count = splicedf_spliced + splicedf_unspliced\n",
    "        plot_list.append([plot_range_high,name,count,float(splicedf_percentSpliced)])\n",
    "\n",
    "plot_df = pd.DataFrame(plot_list)\n",
    "plot_df.columns = ['range','name','count','percentSpliced']\n",
    "long_N = np.sum(plot_df['count'])\n",
    "long_df = plot_df.copy()\n",
    "\n",
    "mean = []\n",
    "stdev = []\n",
    "for i in range(int(plot_min/window),int(plot_max/window)):\n",
    "    plot_range_low = i*window\n",
    "    plot_range_high = (i+1)*window\n",
    "    plot_range_middle = (plot_range_low + plot_range_high) / 2\n",
    "    mean.append([int(plot_range_middle), np.mean(plot_df[plot_df['range']==plot_range_high]['percentSpliced'])])\n",
    "    stdev.append(np.std(plot_df[plot_df['range']==plot_range_high]['percentSpliced']))    \n",
    "\n",
    "long_plot_df = pd.DataFrame(mean)\n",
    "long_plot_df.columns = ['range','mean']\n",
    "long_plot_df['stdev'] = stdev\n",
    "\n",
    "\n",
    "######### plot mean and standard deviation for all samples #########\n",
    "\n",
    "x = short_plot_df['range'].values\n",
    "short_y = short_plot_df['mean'].values\n",
    "short_err = short_plot_df['stdev'].values\n",
    "med_y = med_plot_df['mean'].values\n",
    "med_err = med_plot_df['stdev'].values\n",
    "long_y = long_plot_df['mean'].values\n",
    "long_err = long_plot_df['stdev'].values\n",
    "\n",
    "fig, ax = plt.subplots(figsize=(4,3.5))\n",
    "\n",
    "ax = plt.plot(x, short_y, color=sns.color_palette(\"Blues\")[3], label=\"<\"+str(low)+\" yield (N=\"+str(short_N)+\")\")\n",
    "plt.fill_between(x, short_y-short_err, short_y+short_err, facecolor=sns.color_palette(\"Blues\")[3], interpolate=True, alpha=0.25)\n",
    "plt.scatter(x, short_y, color=sns.color_palette(\"Blues\")[3])\n",
    "\n",
    "plt.plot(x, med_y, color=sns.color_palette(\"Blues\")[4], label=str(low)+\"-\"+str(high)+\" yield (N=\"+str(med_N)+\")\")\n",
    "plt.fill_between(x, med_y-med_err, long_y+long_err, facecolor=sns.color_palette(\"Blues\")[3], interpolate=True, alpha=0.25)\n",
    "plt.scatter(x, med_y, color=sns.color_palette(\"Blues\")[4])\n",
    "\n",
    "plt.plot(x, long_y, color=sns.color_palette(\"Blues\")[5], label=\">\"+str(high)+\" yield (N=\"+str(long_N)+\")\")\n",
    "plt.fill_between(x, long_y-long_err, long_y+long_err, facecolor=sns.color_palette(\"Blues\")[3], interpolate=True, alpha=0.25)\n",
    "plt.scatter(x, long_y, color=sns.color_palette(\"Blues\")[5])\n",
    "\n",
    "plt.ylabel(\"Percent spliced\", fontsize=15)\n",
    "plt.xlabel(\"Distance transcribed past 3'SS (nt)\", fontsize=15)\n",
    "#plt.suptitle(\"Percent Spliced by Distance Transcribed\", fontsize=15, y=0.95)\n",
    "#plt.text(100, 98, 'Human', horizontalalignment='left', verticalalignment='top', fontsize=16, weight='bold')\n",
    "\n",
    "plt.xticks([0,500,1000,1500,2000], fontsize=14)\n",
    "plt.yticks([0,20,40,60,80,100], fontsize=14)\n",
    "plt.yticks(fontsize=14)\n",
    "plt.tick_params(axis='both', which='both', labelsize=14, direction='out', left=\"on\", bottom=\"on\", length=5)\n",
    "plt.legend(fontsize=14)\n",
    "\n",
    "plt.xlim(0,1700)\n",
    "plt.ylim(0,105)\n",
    "\n",
    "plt.savefig('/path/to/Supplemental_Figure_7G_K562_distance_spliced_bySplicingYield_plot.pdf', \n",
    "           format='pdf', dpi=300, bbox_inches='tight')\n",
    "\n",
    "plt.show()\n"
   ]
  },
  {
   "cell_type": "code",
   "execution_count": null,
   "metadata": {},
   "outputs": [],
   "source": [
    "short_df.to_csv('/path/to/human_distance_transcribed_lowYield_plot_df.txt', sep='\\t', header=True, index=False)\n",
    "med_df.to_csv('/path/to/human_distance_transcribed_medYield_plot_df.txt', sep='\\t', header=True, index=False)\n",
    "long_df.to_csv('/path/to/human_distance_transcribed_highYield_plot_df.txt', sep='\\t', header=True, index=False)"
   ]
  }
 ],
 "metadata": {
  "kernelspec": {
   "display_name": "Python 3",
   "language": "python",
   "name": "python3"
  },
  "language_info": {
   "codemirror_mode": {
    "name": "ipython",
    "version": 3
   },
   "file_extension": ".py",
   "mimetype": "text/x-python",
   "name": "python",
   "nbconvert_exporter": "python",
   "pygments_lexer": "ipython3",
   "version": "3.6.5"
  }
 },
 "nbformat": 4,
 "nbformat_minor": 2
}
