{
 "cells": [
  {
   "cell_type": "code",
   "execution_count": null,
   "metadata": {},
   "outputs": [],
   "source": [
    "\"\"\"\n",
    "\n",
    "Date : August 1, 2019\n",
    "\n",
    "Author : Heather Landry Drexler\n",
    "\n",
    "This script will develop plots for Figure 6 of the nanoCOP manuscript.\n",
    "\n",
    "This script requires as input datasets created in the script nanoCOP_intron_pairs_datasets.ipynb\n",
    "                                            \n",
    "\n",
    "\"\"\""
   ]
  },
  {
   "cell_type": "code",
   "execution_count": 99,
   "metadata": {},
   "outputs": [],
   "source": [
    "import numpy as np\n",
    "import pandas as pd\n",
    "import pysam\n",
    "from collections import Counter\n",
    "\n",
    "import matplotlib.pyplot as plt\n",
    "import re\n",
    "% matplotlib inline\n",
    "plt.rcParams['pdf.fonttype'] = 42\n",
    "plt.rcParams['ps.fonttype'] = 42\n",
    "\n",
    "import math\n",
    "from random import shuffle\n",
    "from scipy import stats\n",
    "\n",
    "import pybedtools\n",
    "from pybedtools import BedTool\n",
    "\n",
    "import seaborn as sns\n",
    "sns.set_style(\"white\")"
   ]
  },
  {
   "cell_type": "code",
   "execution_count": 100,
   "metadata": {},
   "outputs": [],
   "source": [
    "def get_all_multi_introns(read_junctions, intron_min):\n",
    "\n",
    "    multi_introns = []\n",
    "\n",
    "    for read in read_junctions.keys():\n",
    "\n",
    "        # make a set for all intron pairs within a read\n",
    "        # this will avoid duplicate pairs being called due to alternative splicing\n",
    "        uniq_splice_pattern = set()\n",
    "\n",
    "        # loop through all genes that has introns that a read maps to\n",
    "        for gene in read_junctions[read].keys():\n",
    "\n",
    "            # only go through genes that have 2 or more introns\n",
    "            if ((len(read_junctions[read][gene]) >= intron_min) & (len(read_junctions[read][gene]) <= 10)):\n",
    "\n",
    "                # characterize the number of spliced and unspliced introns in the read\n",
    "                splice_status = [row[6] for row in read_junctions[read][gene]]\n",
    "                splice_status_join = '_'.join(splice_status)\n",
    "                status_count = Counter(splice_status)\n",
    "\n",
    "                # only process the file if intron pattern hasn't been seen previously\n",
    "                # for a gene that this read aligns to\n",
    "                if (splice_status_join not in uniq_splice_pattern):\n",
    "                    uniq_splice_pattern.add(splice_status_join)\n",
    "\n",
    "                    spliced_count = status_count['YES']\n",
    "                    unspliced_count = status_count['NO']\n",
    "\n",
    "                    temp = [] \n",
    "\n",
    "                    # build a dataframe of introns in the gene that map to this read\n",
    "                    # and are capable of being sequenced if the read has no splicing\n",
    "                    read_introns_df = pd.DataFrame(read_junctions[read][gene])\n",
    "                    read_introns_df.columns = ['chrom','start','end','intron_count','strand','read_overlap','splice_status']\n",
    "                    read_introns_df = read_introns_df[read_introns_df['read_overlap'] > 0].sort_values('intron_count').reset_index(drop=True)\n",
    "                    \n",
    "                    dif = (np.max(read_introns_df['intron_count'])-np.min(read_introns_df['intron_count'])+1)\n",
    "                    if (len(read_introns_df)==dif):\n",
    "\n",
    "                        for i in range(len(read_introns_df)):\n",
    "                            intron_count = read_introns_df.iloc[i]['intron_count']\n",
    "                            intron_chrom = str(read_introns_df.iloc[i]['chrom'])\n",
    "                            intron_start = str(read_introns_df.iloc[i]['start'])\n",
    "                            intron_end = str(read_introns_df.iloc[i]['end'])\n",
    "                            intron_strand = read_introns_df.iloc[i]['strand']\n",
    "                            intron_splice = read_introns_df.iloc[i]['splice_status']\n",
    "                            intron_coord = intron_chrom+'_'+intron_start+'_'+intron_end\n",
    "\n",
    "                            temp.append(intron_splice)\n",
    "\n",
    "\n",
    "                        if (intron_strand=='+'):\n",
    "\n",
    "                            final = []\n",
    "                            final.append(read)\n",
    "                            final.append(gene)\n",
    "                            final.append(intron_strand)\n",
    "\n",
    "                            for i in temp:\n",
    "                                final.append(i)\n",
    "\n",
    "                            for i in range(10-len(temp)):\n",
    "                                final.append('_')\n",
    "\n",
    "                            if ((final.count('_')<=7)):\n",
    "                                multi_introns.append(final)\n",
    "\n",
    "\n",
    "                        if (intron_strand=='-'):\n",
    "\n",
    "                            final = []\n",
    "                            final.append(read)\n",
    "                            final.append(gene)\n",
    "                            final.append(intron_strand)\n",
    "\n",
    "                            for i in reversed(temp):\n",
    "                                final.append(i)\n",
    "\n",
    "                            for i in range(10-len(temp)):\n",
    "                                final.append('_') \n",
    "\n",
    "                            if ((final.count('_')<=7)):\n",
    "                                multi_introns.append(final)\n",
    "                                \n",
    "\n",
    "    multi_introns_df = pd.DataFrame(multi_introns)\n",
    "    multi_introns_df.columns = ['read','gene','strand','int1','int2','int3','int4','int5','int6','int7','int8','int9','int10']\n",
    "    multi_introns_df = multi_introns_df.sort_values(by=['read']).reset_index(drop=True)\n",
    "\n",
    "    return multi_introns_df\n",
    "\n",
    "\n",
    "\n",
    "def get_splicing_pattern_counts(multi_introns_df, total):\n",
    "    \n",
    "    gene_list = []\n",
    "    splice_status_list = []\n",
    "    read_info = multi_introns_df[['read','gene','strand']]\n",
    "    multi_introns_df = multi_introns_df.drop(['read','gene','strand'], 1)\n",
    "\n",
    "    for i in range(0, len(multi_introns_df)):\n",
    "\n",
    "        itrons_per_read = sum(multi_introns_df.iloc[i]!='_')\n",
    "        gene = read_info['gene'][i]\n",
    "\n",
    "        for j in range(0, itrons_per_read-(total-1)):\n",
    "\n",
    "            splice_status = multi_introns_df.iloc[i][j:j+total]\n",
    "            splice_status_str = splice_status.str.cat(sep='_')\n",
    "\n",
    "            gene_list.append([splice_status_str,gene]) # add gene name to count total genes later \n",
    "            splice_status_list.append(splice_status_str)\n",
    "\n",
    "    pattern_gene_df = pd.DataFrame(gene_list)\n",
    "    pattern_gene_df.columns = ['pattern', 'gene']\n",
    "\n",
    "    splice_status_counts = Counter(splice_status_list)\n",
    "    splicing_patterns_df = pd.DataFrame.from_dict(splice_status_counts, orient='index').reset_index()\n",
    "    splicing_patterns_df.columns = ['pattern','counts']\n",
    "\n",
    "    return splicing_patterns_df, pattern_gene_df\n",
    "\n",
    "\n",
    "\n",
    "def get_intron_splicing_percent(splicing_patterns, int_total):\n",
    "\n",
    "    introns_1yes = splicing_patterns[splicing_patterns['pattern'].str.split('_').apply(lambda x: x.count('YES')) == 1].reset_index(drop=True)\n",
    "    introns_1yes['percent'] = introns_1yes['counts'].astype(float)/float(np.sum(introns_1yes['counts']))*100\n",
    "\n",
    "    introns_2yes = splicing_patterns[splicing_patterns['pattern'].str.split('_').apply(lambda x: x.count('YES')) == 2].reset_index(drop=True)\n",
    "    introns_2yes['percent'] = introns_2yes['counts'].astype(float)/float(np.sum(introns_2yes['counts']))*100\n",
    "\n",
    "    if (int_total==3):\n",
    "        return introns_1yes, introns_2yes\n",
    "    \n",
    "    if (int_total==4):\n",
    "        introns_3yes = splicing_patterns[splicing_patterns['pattern'].str.split('_').apply(lambda x: x.count('YES')) == 3].reset_index(drop=True)\n",
    "        introns_3yes['percent'] = introns_3yes['counts'].astype(float)/float(np.sum(introns_3yes['counts']))*100\n",
    "\n",
    "        return introns_1yes, introns_2yes, introns_3yes\n",
    "\n"
   ]
  },
  {
   "cell_type": "code",
   "execution_count": 101,
   "metadata": {},
   "outputs": [],
   "source": [
    "# open dictionary with all intron junctions that a read spans\n",
    "K562_1_splice_dictionary = np.load('/path/to/K562_1_splicing_dictionary.npy',encoding='latin1').item() \n",
    "K562_2_splice_dictionary = np.load('/path/to/K562_2_splicing_dictionary.npy',encoding='latin1').item() \n",
    "K562_3_splice_dictionary = np.load('/path/to/K562_3_splicing_dictionary.npy',encoding='latin1').item() \n",
    "K562_4_splice_dictionary = np.load('/path/to/K562_4_splicing_dictionary.npy',encoding='latin1').item() \n",
    "K562_5a_splice_dictionary = np.load('/path/to/K562_5a_splicing_dictionary.npy',encoding='latin1').item() \n",
    "K562_5b_splice_dictionary = np.load('/path/to/K562_5b_splicing_dictionary.npy',encoding='latin1').item() \n",
    "\n",
    "S2_1a_splice_dictionary = np.load('/path/to/S2_1a_splicing_dictionary.npy',encoding='latin1').item() \n",
    "S2_1b_splice_dictionary = np.load('/path/to/S2_1b_splicing_dictionary.npy',encoding='latin1').item() \n",
    "S2_2_splice_dictionary = np.load('/path/to/S2_2_splicing_dictionary.npy',encoding='latin1').item() \n",
    "S2_3_splice_dictionary = np.load('/path/to/S2_3_splicing_dictionary.npy',encoding='latin1').item() \n"
   ]
  },
  {
   "cell_type": "code",
   "execution_count": 102,
   "metadata": {},
   "outputs": [],
   "source": [
    "# get multi intron df for K562\n",
    "K562_1_multi_introns_df = get_all_multi_introns(K562_1_splice_dictionary, 3)\n",
    "K562_2_multi_introns_df = get_all_multi_introns(K562_2_splice_dictionary, 3)\n",
    "K562_3_multi_introns_df = get_all_multi_introns(K562_3_splice_dictionary, 3)\n",
    "K562_4_multi_introns_df = get_all_multi_introns(K562_4_splice_dictionary, 3)\n",
    "K562_5a_multi_introns_df = get_all_multi_introns(K562_5a_splice_dictionary, 3)\n",
    "K562_5b_multi_introns_df = get_all_multi_introns(K562_5b_splice_dictionary, 3)\n"
   ]
  },
  {
   "cell_type": "code",
   "execution_count": 103,
   "metadata": {},
   "outputs": [],
   "source": [
    "# get multi intron df for S2\n",
    "S2_1a_multi_introns_df = get_all_multi_introns(S2_1a_splice_dictionary, 3)\n",
    "S2_1b_multi_introns_df = get_all_multi_introns(S2_1b_splice_dictionary, 3)\n",
    "S2_2_multi_introns_df = get_all_multi_introns(S2_2_splice_dictionary, 3)\n",
    "S2_3_multi_introns_df = get_all_multi_introns(S2_3_splice_dictionary, 3)\n"
   ]
  },
  {
   "cell_type": "code",
   "execution_count": 104,
   "metadata": {},
   "outputs": [
    {
     "name": "stdout",
     "output_type": "stream",
     "text": [
      "S2 # of genes with reads spanning 3 introns: 1209\n"
     ]
    }
   ],
   "source": [
    "S2_1_multi_introns_df = pd.concat([S2_1a_multi_introns_df, S2_1b_multi_introns_df]).reset_index(drop=True)\n",
    "S2_1_3introns_splicing_patterns, S2_1_pattern_gene_df = get_splicing_pattern_counts(S2_1_multi_introns_df, 3)\n",
    "S2_2_3introns_splicing_patterns, S2_2_pattern_gene_df = get_splicing_pattern_counts(S2_2_multi_introns_df, 3)\n",
    "S2_3_3introns_splicing_patterns, S2_3_pattern_gene_df = get_splicing_pattern_counts(S2_3_multi_introns_df, 3)\n",
    "\n",
    "S2_1_3introns_splicing_patterns['rep'] = 'S2_1'\n",
    "S2_2_3introns_splicing_patterns['rep'] = 'S2_2'\n",
    "S2_3_3introns_splicing_patterns['rep'] = 'S2_3'\n",
    "\n",
    "S2_3introns_splicing_patterns = pd.concat([S2_1_3introns_splicing_patterns, S2_2_3introns_splicing_patterns, S2_3_3introns_splicing_patterns]).reset_index(drop=True)\n",
    "\n",
    "S2_pattern_gene = pd.concat([S2_1_pattern_gene_df,S2_2_pattern_gene_df,S2_3_pattern_gene_df]).reset_index(drop=True)\n",
    "S2_pattern_gene = S2_pattern_gene[S2_pattern_gene['pattern']!=\"NO_NO_NO\"].reset_index(drop=True)\n",
    "S2_pattern_gene = S2_pattern_gene[S2_pattern_gene['pattern']!=\"YES_YES_YES\"].reset_index(drop=True)\n",
    "S2_gene_N = S2_pattern_gene['gene'].nunique()\n",
    "print(\"S2 # of genes with reads spanning 3 introns: \"+str(S2_gene_N))\n"
   ]
  },
  {
   "cell_type": "code",
   "execution_count": 105,
   "metadata": {},
   "outputs": [],
   "source": [
    "S2_1_introns_1yes, S2_1_introns_2yes = get_intron_splicing_percent(S2_1_3introns_splicing_patterns, 3)\n",
    "S2_2_introns_1yes, S2_2_introns_2yes = get_intron_splicing_percent(S2_2_3introns_splicing_patterns, 3)\n",
    "S2_3_introns_1yes, S2_3_introns_2yes = get_intron_splicing_percent(S2_3_3introns_splicing_patterns, 3)\n",
    "\n",
    "S2_introns_1yes = pd.concat([S2_1_introns_1yes, S2_2_introns_1yes, S2_3_introns_1yes])\n",
    "S2_introns_2yes = pd.concat([S2_1_introns_2yes, S2_2_introns_2yes, S2_3_introns_2yes])\n"
   ]
  },
  {
   "cell_type": "code",
   "execution_count": 107,
   "metadata": {},
   "outputs": [
    {
     "data": {
      "text/plain": [
       "2829"
      ]
     },
     "execution_count": 107,
     "metadata": {},
     "output_type": "execute_result"
    }
   ],
   "source": [
    "np.sum(S2_introns_1yes['counts'])+np.sum(S2_introns_2yes['counts'])\n"
   ]
  },
  {
   "cell_type": "code",
   "execution_count": 12,
   "metadata": {},
   "outputs": [
    {
     "data": {
      "image/png": "[encoded data removed]",
      "text/plain": [
       "<matplotlib.figure.Figure at 0x1a1d898c10>"
      ]
     },
     "metadata": {},
     "output_type": "display_data"
    }
   ],
   "source": [
    "fig, ax = plt.subplots(figsize=(1.5,3))\n",
    "\n",
    "fill_colors = [sns.color_palette(\"Reds\")[3]]\n",
    "sns.barplot(x=\"percent\", y=\"pattern\", data=S2_introns_1yes, palette=fill_colors,\n",
    "           order=['YES_NO_NO','NO_YES_NO','NO_NO_YES'], ci=68, capsize=0.05, errwidth=1.5)\n",
    "\n",
    "plt.xlim(0,70)\n",
    "\n",
    "plt.xticks([0,25,50], fontsize=14)\n",
    "plt.yticks(fontsize=14)\n",
    "ax.tick_params(axis='both', which='both', labelsize=14, direction='out', left=\"on\", bottom=\"on\", length=5)\n",
    "\n",
    "plt.legend(bbox_to_anchor=(1.1, 1.0), fontsize=14)\n",
    "plt.ylabel(\"splicing status\", fontsize=16)\n",
    "plt.xlabel(\"frequency\", fontsize=16)\n",
    "\n",
    "plt.axvline(x=33.3, color='black', linestyle=\":\")\n",
    "\n",
    "plt.title(\"Drosophila\\n(one spliced)\", fontsize=16)\n",
    "\n",
    "plt.savefig('/path/to/Figure_6A_S2_splicing_order_3int_oneSpliced.pdf', \n",
    "           format='pdf', dpi=300, bbox_inches='tight')\n",
    "\n",
    "plt.show()\n"
   ]
  },
  {
   "cell_type": "code",
   "execution_count": 109,
   "metadata": {},
   "outputs": [
    {
     "name": "stdout",
     "output_type": "stream",
     "text": [
      "S2 3 introns, 1 spliced, in order p-value: 5.902657437446698e-94\n"
     ]
    }
   ],
   "source": [
    "introns_1yes = S2_introns_1yes.copy()\n",
    "\n",
    "in_order = sum(introns_1yes[(introns_1yes['pattern']=='YES_NO_NO')]['counts'])\n",
    "no_order = sum(introns_1yes[(introns_1yes['pattern']!='YES_NO_NO')]['counts'])\n",
    "\n",
    "p = stats.binom_test([in_order,no_order], n=None, p=0.3333333333)\n",
    "print(\"S2 3 introns, 1 spliced, in order p-value: \"+str(p))\n"
   ]
  },
  {
   "cell_type": "code",
   "execution_count": 110,
   "metadata": {},
   "outputs": [
    {
     "name": "stdout",
     "output_type": "stream",
     "text": [
      "S2, 1 intron YES_NO_NO p-value: 5.902657437446698e-94\n",
      "S2, 1 intron NO_YES_NO p-value: 1.1643577343353442e-18\n",
      "S2, 1 intron NO_NO_YES p-value: 2.050225159650711e-42\n"
     ]
    }
   ],
   "source": [
    "introns_1yes = S2_introns_1yes.copy()\n",
    "splicing_patterns = ['YES_NO_NO','NO_YES_NO','NO_NO_YES']\n",
    "\n",
    "for i in splicing_patterns:\n",
    "\n",
    "    p = str(stats.binom_test([sum(introns_1yes[(introns_1yes['pattern']==i)]['counts']),sum(introns_1yes[(introns_1yes['pattern']!=i)]['counts'])], n=None, p=0.3333333333))\n",
    "\n",
    "    print(\"S2, 1 intron \"+i+\" p-value: \"+str(p))\n",
    "    "
   ]
  },
  {
   "cell_type": "code",
   "execution_count": null,
   "metadata": {},
   "outputs": [],
   "source": []
  },
  {
   "cell_type": "code",
   "execution_count": 15,
   "metadata": {},
   "outputs": [
    {
     "data": {
      "image/png": "[encoded data removed]",
      "text/plain": [
       "<matplotlib.figure.Figure at 0x1a1deaf650>"
      ]
     },
     "metadata": {},
     "output_type": "display_data"
    }
   ],
   "source": [
    "fig, ax = plt.subplots(figsize=(1.5,3))\n",
    "\n",
    "fill_colors = [sns.color_palette(\"Reds\")[3]]\n",
    "sns.barplot(x=\"percent\", y=\"pattern\", data=S2_introns_2yes, palette=fill_colors,\n",
    "           order=['YES_YES_NO','YES_NO_YES','NO_YES_YES'], ci=68, capsize=0.05, errwidth=1.5)\n",
    "\n",
    "plt.xlim(0,70)\n",
    "\n",
    "plt.xticks([0,25,50], fontsize=14)\n",
    "plt.yticks(fontsize=14)\n",
    "plt.tick_params(direction='out', length=5, width=1)\n",
    "\n",
    "plt.legend(bbox_to_anchor=(1.1, 1.0), fontsize=14)\n",
    "plt.ylabel(\"splicing status\", fontsize=16)\n",
    "plt.xlabel(\"frequency\", fontsize=16)\n",
    "\n",
    "plt.axvline(x=33.3, color='black', linestyle=\":\")\n",
    "\n",
    "plt.title(\"Drosophila\\n(two spliced)\", fontsize=16)\n",
    "\n",
    "plt.savefig('/path/to/Figure_6A_S2_splicing_order_3int_twoSpliced.pdf', \n",
    "           format='pdf', dpi=300, bbox_inches='tight')\n",
    "\n",
    "plt.show()\n"
   ]
  },
  {
   "cell_type": "code",
   "execution_count": 111,
   "metadata": {},
   "outputs": [
    {
     "name": "stdout",
     "output_type": "stream",
     "text": [
      "S2 3 introns, 2 spliced, in order p-value: 8.682148920685012e-27\n"
     ]
    }
   ],
   "source": [
    "introns_2yes = S2_introns_2yes.copy()\n",
    "\n",
    "in_order = sum(introns_2yes[(introns_2yes['pattern']=='YES_YES_NO')]['counts'])\n",
    "no_order = sum(introns_2yes[(introns_2yes['pattern']!='YES_YES_NO')]['counts'])\n",
    "\n",
    "p = stats.binom_test([in_order,no_order], n=None, p=0.3333333333)\n",
    "print(\"S2 3 introns, 2 spliced, in order p-value: \"+str(p))\n"
   ]
  },
  {
   "cell_type": "code",
   "execution_count": 112,
   "metadata": {},
   "outputs": [
    {
     "name": "stdout",
     "output_type": "stream",
     "text": [
      "S2, 2 spliced, YES_YES_NO p-value: 8.682148920685012e-27\n",
      "S2, 2 spliced, YES_NO_YES p-value: 5.04184123382391e-10\n",
      "S2, 2 spliced, NO_YES_YES p-value: 7.316125656959255e-07\n"
     ]
    }
   ],
   "source": [
    "introns_2yes = S2_introns_2yes.copy()\n",
    "splicing_patterns = ['YES_YES_NO','YES_NO_YES','NO_YES_YES']\n",
    "\n",
    "for i in splicing_patterns:\n",
    "\n",
    "    p = str(stats.binom_test([sum(introns_2yes[(introns_2yes['pattern']==i)]['counts']),sum(introns_2yes[(introns_2yes['pattern']!=i)]['counts'])], n=None, p=0.3333333333))\n",
    "\n",
    "    print(\"S2, 2 spliced, \"+i+\" p-value: \"+str(p))\n",
    "    "
   ]
  },
  {
   "cell_type": "code",
   "execution_count": null,
   "metadata": {},
   "outputs": [],
   "source": []
  },
  {
   "cell_type": "code",
   "execution_count": 56,
   "metadata": {},
   "outputs": [
    {
     "name": "stdout",
     "output_type": "stream",
     "text": [
      "S2 3 introns spliced in order p-value: 1.5712009483751916e-104\n"
     ]
    }
   ],
   "source": [
    "# estimating the statistical probability that introns are spliced in order\n",
    "\n",
    "in_order = sum(S2_introns_1yes[(S2_introns_1yes['pattern']=='YES_NO_NO')]['counts'])+sum(S2_introns_2yes[(S2_introns_2yes['pattern']=='YES_YES_NO')]['counts']) \n",
    "no_order = sum(S2_introns_1yes[(S2_introns_1yes['pattern']!='YES_NO_NO')]['counts'])+sum(S2_introns_2yes[(S2_introns_2yes['pattern']!='YES_YES_NO')]['counts']) \n",
    "\n",
    "p = stats.binom_test([in_order,no_order], n=None, p=0.3333333333)\n",
    "print(\"S2 3 introns spliced in order p-value: \"+str(p))\n"
   ]
  },
  {
   "cell_type": "code",
   "execution_count": null,
   "metadata": {},
   "outputs": [],
   "source": []
  },
  {
   "cell_type": "code",
   "execution_count": 113,
   "metadata": {},
   "outputs": [
    {
     "name": "stdout",
     "output_type": "stream",
     "text": [
      "K562 # of genes with reads spanning 3 introns: 1221\n"
     ]
    }
   ],
   "source": [
    "#K562\n",
    "K562_5_multi_introns_df = pd.concat([K562_5a_multi_introns_df, K562_5b_multi_introns_df]).reset_index(drop=True)\n",
    "K562_1_3introns_splicing_patterns, K562_1_pattern_gene_df = get_splicing_pattern_counts(K562_1_multi_introns_df, 3)\n",
    "K562_2_3introns_splicing_patterns, K562_2_pattern_gene_df = get_splicing_pattern_counts(K562_2_multi_introns_df, 3)\n",
    "K562_3_3introns_splicing_patterns, K562_3_pattern_gene_df = get_splicing_pattern_counts(K562_3_multi_introns_df, 3)\n",
    "K562_4_3introns_splicing_patterns, K562_4_pattern_gene_df = get_splicing_pattern_counts(K562_4_multi_introns_df, 3)\n",
    "K562_5_3introns_splicing_patterns, K562_5_pattern_gene_df = get_splicing_pattern_counts(K562_5_multi_introns_df, 3)\n",
    "\n",
    "K562_1_3introns_splicing_patterns['rep'] = 'K562_1'\n",
    "K562_2_3introns_splicing_patterns['rep'] = 'K562_2'\n",
    "K562_3_3introns_splicing_patterns['rep'] = 'K562_3'\n",
    "K562_4_3introns_splicing_patterns['rep'] = 'K562_4'\n",
    "K562_5_3introns_splicing_patterns['rep'] = 'K562_5'\n",
    "\n",
    "K562_3introns_splicing_patterns = pd.concat([K562_1_3introns_splicing_patterns, K562_2_3introns_splicing_patterns, K562_3_3introns_splicing_patterns, K562_4_3introns_splicing_patterns, K562_5_3introns_splicing_patterns]).reset_index(drop=True)\n",
    "\n",
    "K562_pattern_gene = pd.concat([K562_1_pattern_gene_df,K562_2_pattern_gene_df,K562_3_pattern_gene_df,K562_5_pattern_gene_df,K562_4_pattern_gene_df]).reset_index(drop=True)\n",
    "K562_pattern_gene = K562_pattern_gene[K562_pattern_gene['pattern']!=\"NO_NO_NO\"].reset_index(drop=True)\n",
    "K562_pattern_gene = K562_pattern_gene[K562_pattern_gene['pattern']!=\"YES_YES_YES\"].reset_index(drop=True)\n",
    "K562_gene_N = K562_pattern_gene['gene'].nunique()\n",
    "print(\"K562 # of genes with reads spanning 3 introns: \"+str(K562_gene_N))\n"
   ]
  },
  {
   "cell_type": "code",
   "execution_count": 114,
   "metadata": {},
   "outputs": [],
   "source": [
    "K562_1_introns_1yes, K562_1_introns_2yes = get_intron_splicing_percent(K562_1_3introns_splicing_patterns, 3)\n",
    "K562_2_introns_1yes, K562_2_introns_2yes = get_intron_splicing_percent(K562_2_3introns_splicing_patterns, 3)\n",
    "K562_3_introns_1yes, K562_3_introns_2yes = get_intron_splicing_percent(K562_3_3introns_splicing_patterns, 3)\n",
    "K562_4_introns_1yes, K562_4_introns_2yes = get_intron_splicing_percent(K562_4_3introns_splicing_patterns, 3)\n",
    "K562_5_introns_1yes, K562_5_introns_2yes = get_intron_splicing_percent(K562_5_3introns_splicing_patterns, 3)\n",
    "\n",
    "K562_introns_1yes = pd.concat([K562_1_introns_1yes, K562_2_introns_1yes, K562_3_introns_1yes, K562_4_introns_1yes, K562_5_introns_1yes])\n",
    "K562_introns_2yes = pd.concat([K562_1_introns_2yes, K562_2_introns_2yes, K562_3_introns_2yes, K562_4_introns_2yes, K562_5_introns_2yes])\n"
   ]
  },
  {
   "cell_type": "code",
   "execution_count": 116,
   "metadata": {},
   "outputs": [
    {
     "data": {
      "text/plain": [
       "4116"
      ]
     },
     "execution_count": 116,
     "metadata": {},
     "output_type": "execute_result"
    }
   ],
   "source": [
    "np.sum(K562_introns_1yes['counts'])+np.sum(K562_introns_2yes['counts'])\n"
   ]
  },
  {
   "cell_type": "code",
   "execution_count": 42,
   "metadata": {},
   "outputs": [
    {
     "data": {
      "image/png": "[encoded data removed]",
      "text/plain": [
       "<matplotlib.figure.Figure at 0x1a10710550>"
      ]
     },
     "metadata": {},
     "output_type": "display_data"
    }
   ],
   "source": [
    "fig, ax = plt.subplots(figsize=(1.5,3))\n",
    "\n",
    "fill_colors = [sns.color_palette(\"Blues\")[3]]\n",
    "sns.barplot(x=\"percent\", y=\"pattern\", data=K562_introns_1yes, palette=fill_colors,\n",
    "           order=['YES_NO_NO','NO_YES_NO','NO_NO_YES'], ci=68, capsize=0.05, errwidth=1.5)\n",
    "\n",
    "plt.xlim(0,70)\n",
    "\n",
    "plt.xticks([0,25,50], fontsize=14)\n",
    "plt.yticks(fontsize=14)\n",
    "plt.tick_params(axis='both', which='both', labelsize=14, direction='out', left=\"on\", bottom=\"on\", length=5)\n",
    "\n",
    "plt.legend(bbox_to_anchor=(1.1, 1.0), fontsize=14)\n",
    "plt.ylabel(\"splicing status\", fontsize=16)\n",
    "plt.xlabel(\"frequency\", fontsize=16)\n",
    "\n",
    "plt.axvline(x=33.3, color='black', linestyle=\":\")\n",
    "\n",
    "plt.title(\"Human\\n(one spliced)\", fontsize=16)\n",
    "\n",
    "plt.savefig('/path/to/Figure_6A_K562_splicing_order_3int_oneSpliced.pdf', \n",
    "           format='pdf', dpi=300, bbox_inches='tight')\n",
    "\n",
    "plt.show()\n"
   ]
  },
  {
   "cell_type": "code",
   "execution_count": 117,
   "metadata": {},
   "outputs": [
    {
     "name": "stdout",
     "output_type": "stream",
     "text": [
      "K562 3 introns, 1 spliced, in order p-value: 6.10382857919513e-05\n"
     ]
    }
   ],
   "source": [
    "introns_1yes = K562_introns_1yes.copy()\n",
    "\n",
    "in_order = sum(introns_1yes[(introns_1yes['pattern']=='YES_NO_NO')]['counts'])\n",
    "no_order = sum(introns_1yes[(introns_1yes['pattern']!='YES_NO_NO')]['counts'])\n",
    "\n",
    "p = stats.binom_test([in_order,no_order], n=None, p=0.3333333333)\n",
    "print(\"K562 3 introns, 1 spliced, in order p-value: \"+str(p))\n"
   ]
  },
  {
   "cell_type": "code",
   "execution_count": 118,
   "metadata": {},
   "outputs": [
    {
     "name": "stdout",
     "output_type": "stream",
     "text": [
      "K562, 1 intron YES_NO_NO p-value: 6.10382857919513e-05\n",
      "K562, 1 intron NO_YES_NO p-value: 3.392238295506594e-28\n",
      "K562, 1 intron NO_NO_YES p-value: 8.274258885740034e-11\n"
     ]
    }
   ],
   "source": [
    "introns_1yes = K562_introns_1yes.copy()\n",
    "splicing_patterns = ['YES_NO_NO','NO_YES_NO','NO_NO_YES']\n",
    "\n",
    "for i in splicing_patterns:\n",
    "\n",
    "    p = str(stats.binom_test([sum(introns_1yes[(introns_1yes['pattern']==i)]['counts']),sum(introns_1yes[(introns_1yes['pattern']!=i)]['counts'])], n=None, p=0.3333333333))\n",
    "\n",
    "    print(\"K562, 1 intron \"+i+\" p-value: \"+str(p))\n",
    "    "
   ]
  },
  {
   "cell_type": "code",
   "execution_count": null,
   "metadata": {},
   "outputs": [],
   "source": []
  },
  {
   "cell_type": "code",
   "execution_count": 44,
   "metadata": {},
   "outputs": [
    {
     "data": {
      "image/png": "[encoded data removed]",
      "text/plain": [
       "<matplotlib.figure.Figure at 0x1a0ff40890>"
      ]
     },
     "metadata": {},
     "output_type": "display_data"
    }
   ],
   "source": [
    "fig, ax = plt.subplots(figsize=(1.5,3))\n",
    "\n",
    "fill_colors = [sns.color_palette(\"Blues\")[3]]\n",
    "sns.barplot(x=\"percent\", y=\"pattern\", data=K562_introns_2yes, palette=fill_colors,\n",
    "           order=['YES_YES_NO','YES_NO_YES','NO_YES_YES'], ci=68, capsize=0.05, errwidth=1.5)\n",
    "\n",
    "plt.xlim(0,70)\n",
    "\n",
    "plt.xticks([0,25,50], fontsize=14)\n",
    "plt.yticks(fontsize=14)\n",
    "plt.tick_params(axis='both', which='both', labelsize=14, direction='out', left=\"on\", bottom=\"on\", length=5)\n",
    "\n",
    "plt.legend(bbox_to_anchor=(1.1, 1.0), fontsize=14)\n",
    "plt.ylabel(\"splicing status\", fontsize=16)\n",
    "plt.xlabel(\"frequency\", fontsize=16)\n",
    "\n",
    "plt.axvline(x=33.3, color='black', linestyle=\":\")\n",
    "\n",
    "plt.title(\"Human\\n(two spliced)\", fontsize=16)\n",
    "\n",
    "plt.savefig('/path/to/Figure_6A_K562_splicing_order_3int_twoSpliced.pdf', \n",
    "           format='pdf', dpi=300, bbox_inches='tight')\n",
    "\n",
    "plt.show()\n"
   ]
  },
  {
   "cell_type": "code",
   "execution_count": 119,
   "metadata": {},
   "outputs": [
    {
     "name": "stdout",
     "output_type": "stream",
     "text": [
      "K562 3 introns, 2 spliced, in order p-value: 0.3953212390871441\n"
     ]
    }
   ],
   "source": [
    "introns_2yes = K562_introns_2yes.copy()\n",
    "\n",
    "in_order = sum(introns_2yes[(introns_2yes['pattern']=='YES_YES_NO')]['counts'])\n",
    "no_order = sum(introns_2yes[(introns_2yes['pattern']!='YES_YES_NO')]['counts'])\n",
    "\n",
    "p = stats.binom_test([in_order,no_order], n=None, p=0.3333333333)\n",
    "print(\"K562 3 introns, 2 spliced, in order p-value: \"+str(p))\n"
   ]
  },
  {
   "cell_type": "code",
   "execution_count": 120,
   "metadata": {},
   "outputs": [
    {
     "name": "stdout",
     "output_type": "stream",
     "text": [
      "K562, 2 spliced, YES_YES_NO p-value: 0.3953212390871441\n",
      "K562, 2 spliced, YES_NO_YES p-value: 3.1619451991563086e-15\n",
      "K562, 2 spliced, NO_YES_YES p-value: 1.5539432794961237e-11\n"
     ]
    }
   ],
   "source": [
    "introns_2yes = K562_introns_2yes.copy()\n",
    "splicing_patterns = ['YES_YES_NO','YES_NO_YES','NO_YES_YES']\n",
    "\n",
    "for i in splicing_patterns:\n",
    "\n",
    "    p = str(stats.binom_test([sum(introns_2yes[(introns_2yes['pattern']==i)]['counts']),sum(introns_2yes[(introns_2yes['pattern']!=i)]['counts'])], n=None, p=0.3333333333))\n",
    "\n",
    "    print(\"K562, 2 spliced, \"+i+\" p-value: \"+str(p))\n",
    "    "
   ]
  },
  {
   "cell_type": "code",
   "execution_count": null,
   "metadata": {},
   "outputs": [],
   "source": []
  },
  {
   "cell_type": "code",
   "execution_count": 121,
   "metadata": {},
   "outputs": [
    {
     "name": "stdout",
     "output_type": "stream",
     "text": [
      "K562 3 introns spliced in order p-value: 0.0005152332501842168\n"
     ]
    }
   ],
   "source": [
    "# estimating the statistical probability that introns are spliced in order\n",
    "\n",
    "in_order = sum(K562_introns_1yes[(K562_introns_1yes['pattern']=='YES_NO_NO')]['counts'])+sum(K562_introns_2yes[(K562_introns_2yes['pattern']=='YES_YES_NO')]['counts']) \n",
    "no_order = sum(K562_introns_1yes[(K562_introns_1yes['pattern']!='YES_NO_NO')]['counts'])+sum(K562_introns_2yes[(K562_introns_2yes['pattern']!='YES_YES_NO')]['counts']) \n",
    "\n",
    "p = stats.binom_test([in_order,no_order], n=None, p=0.3333333333)\n",
    "print(\"K562 3 introns spliced in order p-value: \"+str(p))\n"
   ]
  },
  {
   "cell_type": "code",
   "execution_count": null,
   "metadata": {},
   "outputs": [],
   "source": []
  },
  {
   "cell_type": "code",
   "execution_count": 122,
   "metadata": {},
   "outputs": [
    {
     "name": "stdout",
     "output_type": "stream",
     "text": [
      "S2 # of genes with reads spanning 4 introns: 565\n"
     ]
    }
   ],
   "source": [
    "S2_1_multi_introns_df = pd.concat([S2_1a_multi_introns_df, S2_1b_multi_introns_df]).reset_index(drop=True)\n",
    "S2_1_4introns_splicing_patterns, S2_1_pattern_gene_df = get_splicing_pattern_counts(S2_1_multi_introns_df, 4)\n",
    "S2_2_4introns_splicing_patterns, S2_2_pattern_gene_df = get_splicing_pattern_counts(S2_2_multi_introns_df, 4)\n",
    "S2_3_4introns_splicing_patterns, S2_3_pattern_gene_df = get_splicing_pattern_counts(S2_3_multi_introns_df, 4)\n",
    "\n",
    "S2_1_4introns_splicing_patterns['rep'] = 'S2_1'\n",
    "S2_2_4introns_splicing_patterns['rep'] = 'S2_2'\n",
    "S2_3_4introns_splicing_patterns['rep'] = 'S2_3'\n",
    "\n",
    "S2_4introns_splicing_patterns = pd.concat([S2_1_4introns_splicing_patterns, S2_2_4introns_splicing_patterns, S2_3_4introns_splicing_patterns])\n",
    "\n",
    "S2_pattern_gene = pd.concat([S2_1_pattern_gene_df,S2_2_pattern_gene_df,S2_3_pattern_gene_df]).reset_index(drop=True)\n",
    "S2_pattern_gene = S2_pattern_gene[S2_pattern_gene['pattern']!=\"NO_NO_NO_NO\"].reset_index(drop=True)\n",
    "S2_pattern_gene = S2_pattern_gene[S2_pattern_gene['pattern']!=\"YES_YES_YES_YES\"].reset_index(drop=True)\n",
    "S2_gene_N = S2_pattern_gene['gene'].nunique()\n",
    "print(\"S2 # of genes with reads spanning 4 introns: \"+str(S2_gene_N))\n"
   ]
  },
  {
   "cell_type": "code",
   "execution_count": 123,
   "metadata": {},
   "outputs": [],
   "source": [
    "S2_1_introns_1yes, S2_1_introns_2yes, S2_1_introns_3yes = get_intron_splicing_percent(S2_1_4introns_splicing_patterns, 4)\n",
    "S2_2_introns_1yes, S2_2_introns_2yes, S2_2_introns_3yes = get_intron_splicing_percent(S2_2_4introns_splicing_patterns, 4)\n",
    "S2_3_introns_1yes, S2_3_introns_2yes, S2_3_introns_3yes = get_intron_splicing_percent(S2_3_4introns_splicing_patterns, 4)\n",
    "\n",
    "S2_introns_1yes = pd.concat([S2_1_introns_1yes, S2_2_introns_1yes, S2_3_introns_1yes])\n",
    "S2_introns_2yes = pd.concat([S2_1_introns_2yes, S2_2_introns_2yes, S2_3_introns_2yes])\n",
    "S2_introns_3yes = pd.concat([S2_1_introns_3yes, S2_2_introns_3yes, S2_3_introns_3yes])\n"
   ]
  },
  {
   "cell_type": "code",
   "execution_count": 124,
   "metadata": {},
   "outputs": [
    {
     "name": "stdout",
     "output_type": "stream",
     "text": [
      "S2 # reads spanning 4 introns: 1214\n"
     ]
    }
   ],
   "source": [
    "total_counts = np.sum(S2_introns_1yes['counts'])+np.sum(S2_introns_2yes['counts'])+np.sum(S2_introns_3yes['counts'])\n",
    "print(\"S2 # reads spanning 4 introns: \"+str(total_counts))\n"
   ]
  },
  {
   "cell_type": "code",
   "execution_count": 170,
   "metadata": {},
   "outputs": [
    {
     "data": {
      "image/png": "[encoded data removed]",
      "text/plain": [
       "<matplotlib.figure.Figure at 0x1a14253a10>"
      ]
     },
     "metadata": {},
     "output_type": "display_data"
    }
   ],
   "source": [
    "fig, ax = plt.subplots(figsize=(1.5,3))\n",
    "\n",
    "fill_colors = [sns.color_palette(\"Reds\")[3]]\n",
    "sns.barplot(x=\"percent\", y=\"pattern\", data=S2_introns_1yes, palette=fill_colors,\n",
    "           order=['YES_NO_NO_NO','NO_YES_NO_NO','NO_NO_YES_NO','NO_NO_NO_YES'], ci=68, capsize=0.05, errwidth=1.5)\n",
    "\n",
    "plt.xlim(0,70)\n",
    "\n",
    "plt.xticks([0,25,50], fontsize=14)\n",
    "plt.yticks(fontsize=14)\n",
    "plt.tick_params(direction='out', length=5, width=1)\n",
    "\n",
    "plt.legend(bbox_to_anchor=(1.1, 1.0), fontsize=14)\n",
    "plt.ylabel(\"splicing status\", fontsize=16)\n",
    "plt.xlabel(\"frequency\", fontsize=16)\n",
    "\n",
    "plt.axvline(x=25, color='black', linestyle=\":\")\n",
    "\n",
    "plt.title(\"Drosophila\\n(one spliced)\", fontsize=16)\n",
    "\n",
    "plt.savefig('/path/to/Figure_6B_S2_splicing_order_4int_oneSpliced.pdf', \n",
    "           format='pdf', dpi=300, bbox_inches='tight')\n",
    "\n",
    "plt.show()\n"
   ]
  },
  {
   "cell_type": "code",
   "execution_count": 125,
   "metadata": {},
   "outputs": [
    {
     "name": "stdout",
     "output_type": "stream",
     "text": [
      "S2 4 introns, 1 spliced, in order p-value: 9.451424444531674e-46\n"
     ]
    }
   ],
   "source": [
    "introns_1yes = S2_introns_1yes.copy()\n",
    "\n",
    "in_order = sum(introns_1yes[(introns_1yes['pattern']=='YES_NO_NO_NO')]['counts'])\n",
    "no_order = sum(introns_1yes[(introns_1yes['pattern']!='YES_NO_NO_NO')]['counts'])\n",
    "\n",
    "p = stats.binom_test([in_order,no_order], n=None, p=0.25)\n",
    "print(\"S2 4 introns, 1 spliced, in order p-value: \"+str(p))\n"
   ]
  },
  {
   "cell_type": "code",
   "execution_count": 126,
   "metadata": {},
   "outputs": [
    {
     "name": "stdout",
     "output_type": "stream",
     "text": [
      "S2 4 introns, 1 spliced YES_NO_NO_NO p-value: 9.451424444531674e-46\n",
      "S2 4 introns, 1 spliced NO_YES_NO_NO p-value: 0.3954094477586537\n",
      "S2 4 introns, 1 spliced NO_NO_YES_NO p-value: 1.0674252088178424e-15\n",
      "S2 4 introns, 1 spliced NO_NO_NO_YES p-value: 5.68614488607017e-17\n"
     ]
    }
   ],
   "source": [
    "introns_1yes = S2_introns_1yes.copy()\n",
    "splicing_patterns = ['YES_NO_NO_NO','NO_YES_NO_NO','NO_NO_YES_NO','NO_NO_NO_YES']\n",
    "\n",
    "for i in splicing_patterns:\n",
    "\n",
    "    p = str(stats.binom_test([sum(introns_1yes[(introns_1yes['pattern']==i)]['counts']),sum(introns_1yes[(introns_1yes['pattern']!=i)]['counts'])], n=None, p=0.25))\n",
    "\n",
    "    print(\"S2 4 introns, 1 spliced \"+i+\" p-value: \"+str(p))\n",
    "    "
   ]
  },
  {
   "cell_type": "code",
   "execution_count": null,
   "metadata": {},
   "outputs": [],
   "source": []
  },
  {
   "cell_type": "code",
   "execution_count": 22,
   "metadata": {},
   "outputs": [
    {
     "data": {
      "image/png": "[encoded data removed]",
      "text/plain": [
       "<matplotlib.figure.Figure at 0x1a29d02810>"
      ]
     },
     "metadata": {},
     "output_type": "display_data"
    }
   ],
   "source": [
    "fig, ax = plt.subplots(figsize=(1.5,4.5))\n",
    "\n",
    "fill_colors = [sns.color_palette(\"Reds\")[3]]\n",
    "sns.barplot(x=\"percent\", y=\"pattern\", data=S2_introns_2yes, palette=fill_colors,\n",
    "           order=['YES_YES_NO_NO','YES_NO_YES_NO','YES_NO_NO_YES','NO_YES_YES_NO','NO_YES_NO_YES','NO_NO_YES_YES'], ci=68, capsize=0.05, errwidth=1.5)\n",
    "\n",
    "plt.xlim(0,70)\n",
    "\n",
    "plt.xticks([0,25,50], fontsize=14)\n",
    "plt.yticks(fontsize=14)\n",
    "plt.tick_params(direction='out', length=5, width=1)\n",
    "\n",
    "plt.legend(bbox_to_anchor=(1.1, 1.0), fontsize=14)\n",
    "plt.ylabel(\"splicing status\", fontsize=16)\n",
    "plt.xlabel(\"frequency\", fontsize=16)\n",
    "\n",
    "plt.axvline(x=16.67, color='black', linestyle=\":\")\n",
    "\n",
    "plt.title(\"Drosophila\\n(two spliced)\", fontsize=16)\n",
    "\n",
    "plt.savefig('/path/to/Figure_6B_S2_splicing_order_4int_twoSpliced.pdf', \n",
    "           format='pdf', dpi=300, bbox_inches='tight')\n",
    "\n",
    "plt.show()\n"
   ]
  },
  {
   "cell_type": "code",
   "execution_count": 127,
   "metadata": {},
   "outputs": [
    {
     "name": "stdout",
     "output_type": "stream",
     "text": [
      "S2 4 introns, 2 spliced, in order p-value: 1.4634665420939287e-29\n"
     ]
    }
   ],
   "source": [
    "introns_2yes = S2_introns_2yes.copy()\n",
    "\n",
    "in_order = sum(introns_2yes[(introns_2yes['pattern']=='YES_YES_NO_NO')]['counts'])\n",
    "no_order = sum(introns_2yes[(introns_2yes['pattern']!='YES_YES_NO_NO')]['counts'])\n",
    "\n",
    "p = stats.binom_test([in_order,no_order], n=None, p=0.166666666667)\n",
    "print(\"S2 4 introns, 2 spliced, in order p-value: \"+str(p))\n"
   ]
  },
  {
   "cell_type": "code",
   "execution_count": 128,
   "metadata": {},
   "outputs": [
    {
     "name": "stdout",
     "output_type": "stream",
     "text": [
      "S2 4 introns, 2 spliced YES_YES_NO_NO p-value: 1.4634665420939287e-29\n",
      "S2 4 introns, 2 spliced YES_NO_YES_NO p-value: 0.000831677059321049\n",
      "S2 4 introns, 2 spliced YES_NO_NO_YES p-value: 0.3459307350829994\n",
      "S2 4 introns, 2 spliced NO_YES_YES_NO p-value: 0.0028755186736463536\n",
      "S2 4 introns, 2 spliced NO_YES_NO_YES p-value: 3.232297238626853e-05\n",
      "S2 4 introns, 2 spliced NO_NO_YES_YES p-value: 0.08194634978481727\n"
     ]
    }
   ],
   "source": [
    "introns_2yes = S2_introns_2yes.copy()\n",
    "splicing_patterns = ['YES_YES_NO_NO','YES_NO_YES_NO','YES_NO_NO_YES','NO_YES_YES_NO','NO_YES_NO_YES','NO_NO_YES_YES']\n",
    "\n",
    "for i in splicing_patterns:\n",
    "\n",
    "    p = str(stats.binom_test([sum(introns_2yes[(introns_2yes['pattern']==i)]['counts']),sum(introns_2yes[(introns_2yes['pattern']!=i)]['counts'])], n=None, p=0.166666666667))\n",
    "\n",
    "    print(\"S2 4 introns, 2 spliced \"+i+\" p-value: \"+str(p))\n",
    "    "
   ]
  },
  {
   "cell_type": "code",
   "execution_count": null,
   "metadata": {},
   "outputs": [],
   "source": []
  },
  {
   "cell_type": "code",
   "execution_count": 23,
   "metadata": {},
   "outputs": [
    {
     "data": {
      "image/png": "[encoded data removed]",
      "text/plain": [
       "<matplotlib.figure.Figure at 0x1a267f1890>"
      ]
     },
     "metadata": {},
     "output_type": "display_data"
    }
   ],
   "source": [
    "fig, ax = plt.subplots(figsize=(1.5,3))\n",
    "\n",
    "fill_colors = [sns.color_palette(\"Reds\")[3]]\n",
    "sns.barplot(x=\"percent\", y=\"pattern\", data=S2_introns_3yes, palette=fill_colors,\n",
    "           order=['YES_YES_YES_NO','YES_YES_NO_YES','YES_NO_YES_YES','NO_YES_YES_YES'], ci=68, capsize=0.05, errwidth=1.5)\n",
    "\n",
    "plt.xlim(0,70)\n",
    "\n",
    "plt.xticks([0,25,50], fontsize=14)\n",
    "plt.yticks(fontsize=14)\n",
    "plt.tick_params(direction='out', length=5, width=1)\n",
    "\n",
    "plt.legend(bbox_to_anchor=(1.1, 1.0), fontsize=14)\n",
    "plt.ylabel(\"splicing status\", fontsize=16)\n",
    "plt.xlabel(\"frequency\", fontsize=16)\n",
    "\n",
    "plt.axvline(x=25, color='black', linestyle=\":\")\n",
    "\n",
    "plt.title(\"Drosophila\\n(three spliced)\", fontsize=16)\n",
    "\n",
    "plt.savefig('/path/to/Figure_6B_S2_splicing_order_4int_threeSpliced.pdf', \n",
    "           format='pdf', dpi=300, bbox_inches='tight')\n",
    "\n",
    "plt.show()\n"
   ]
  },
  {
   "cell_type": "code",
   "execution_count": 131,
   "metadata": {},
   "outputs": [
    {
     "name": "stdout",
     "output_type": "stream",
     "text": [
      "S2 4 introns, 3 spliced, in order p-value: 5.062046922225924e-09\n"
     ]
    }
   ],
   "source": [
    "introns_3yes = S2_introns_3yes.copy()\n",
    "\n",
    "in_order = sum(introns_3yes[(introns_3yes['pattern']=='YES_YES_YES_NO')]['counts'])\n",
    "no_order = sum(introns_3yes[(introns_3yes['pattern']!='YES_YES_YES_NO')]['counts'])\n",
    "\n",
    "p = stats.binom_test([in_order,no_order], n=None, p=0.25)\n",
    "print(\"S2 4 introns, 3 spliced, in order p-value: \"+str(p))\n"
   ]
  },
  {
   "cell_type": "code",
   "execution_count": 132,
   "metadata": {},
   "outputs": [
    {
     "name": "stdout",
     "output_type": "stream",
     "text": [
      "S2 4 introns, 3 spliced YES_YES_YES_NO p-value: 5.062046922225924e-09\n",
      "S2 4 introns, 3 spliced YES_YES_NO_YES p-value: 0.07064554340343814\n",
      "S2 4 introns, 3 spliced YES_NO_YES_YES p-value: 0.016587743802366283\n",
      "S2 4 introns, 3 spliced NO_YES_YES_YES p-value: 0.07064554340343814\n"
     ]
    }
   ],
   "source": [
    "introns_3yes = S2_introns_3yes.copy()\n",
    "splicing_patterns = ['YES_YES_YES_NO','YES_YES_NO_YES','YES_NO_YES_YES','NO_YES_YES_YES']\n",
    "\n",
    "for i in splicing_patterns:\n",
    "\n",
    "    p = str(stats.binom_test([sum(introns_3yes[(introns_3yes['pattern']==i)]['counts']),sum(introns_3yes[(introns_3yes['pattern']!=i)]['counts'])], n=None, p=0.25))\n",
    "\n",
    "    print(\"S2 4 introns, 3 spliced \"+i+\" p-value: \"+str(p))\n",
    "    "
   ]
  },
  {
   "cell_type": "code",
   "execution_count": null,
   "metadata": {},
   "outputs": [],
   "source": []
  },
  {
   "cell_type": "code",
   "execution_count": 43,
   "metadata": {},
   "outputs": [
    {
     "name": "stdout",
     "output_type": "stream",
     "text": [
      "S2 4 introns, in order p-value: 1.5646978824763114e-65\n"
     ]
    }
   ],
   "source": [
    "\n",
    "exp_in_order = 1/4*np.sum(S2_introns_1yes['counts'])+1/6*np.sum(S2_introns_2yes['counts'])+1/4*np.sum(S2_introns_3yes['counts'])\n",
    "total = np.sum(S2_introns_1yes['counts'])+np.sum(S2_introns_2yes['counts'])+np.sum(S2_introns_3yes['counts'])\n",
    "\n",
    "S2_exp_in_order_percent = exp_in_order / total\n",
    "\n",
    "\n",
    "in_order = sum(S2_introns_1yes[(S2_introns_1yes['pattern']=='YES_NO_NO_NO')]['counts']) + sum(S2_introns_2yes[(S2_introns_2yes['pattern']=='YES_YES_NO_NO')]['counts']) + sum(S2_introns_3yes[(S2_introns_3yes['pattern']=='YES_YES_YES_NO')]['counts'])\n",
    "no_order = sum(S2_introns_1yes[(S2_introns_1yes['pattern']!='YES_NO_NO_NO')]['counts']) + sum(S2_introns_2yes[(S2_introns_2yes['pattern']!='YES_YES_NO_NO')]['counts']) + sum(S2_introns_3yes[(S2_introns_3yes['pattern']!='YES_YES_YES_NO')]['counts'])\n",
    "\n",
    "p = stats.binom_test([in_order,no_order], n=None, p=S2_exp_in_order_percent)\n",
    "print(\"S2 4 introns, in order p-value: \"+str(p))\n",
    "\n"
   ]
  },
  {
   "cell_type": "code",
   "execution_count": null,
   "metadata": {},
   "outputs": [],
   "source": []
  },
  {
   "cell_type": "code",
   "execution_count": 133,
   "metadata": {},
   "outputs": [
    {
     "name": "stdout",
     "output_type": "stream",
     "text": [
      "K562 # of genes with reads spanning 4 introns: 710\n"
     ]
    }
   ],
   "source": [
    "K562_1_4introns_splicing_patterns, K562_1_pattern_gene_df = get_splicing_pattern_counts(K562_1_multi_introns_df, 4)\n",
    "K562_2_4introns_splicing_patterns, K562_2_pattern_gene_df = get_splicing_pattern_counts(K562_2_multi_introns_df, 4)\n",
    "K562_3_4introns_splicing_patterns, K562_3_pattern_gene_df = get_splicing_pattern_counts(K562_3_multi_introns_df, 4)\n",
    "K562_4_4introns_splicing_patterns, K562_4_pattern_gene_df = get_splicing_pattern_counts(K562_4_multi_introns_df, 4)\n",
    "K562_5_4introns_splicing_patterns, K562_5_pattern_gene_df = get_splicing_pattern_counts(K562_5_multi_introns_df, 4)\n",
    "\n",
    "K562_1_4introns_splicing_patterns['rep'] = 'K562_1'\n",
    "K562_2_4introns_splicing_patterns['rep'] = 'K562_2'\n",
    "K562_3_4introns_splicing_patterns['rep'] = 'K562_3'\n",
    "K562_4_4introns_splicing_patterns['rep'] = 'K562_4'\n",
    "K562_5_4introns_splicing_patterns['rep'] = 'K562_5'\n",
    "\n",
    "K562_4introns_splicing_patterns = pd.concat([K562_1_4introns_splicing_patterns, K562_2_4introns_splicing_patterns, K562_3_4introns_splicing_patterns, K562_4_4introns_splicing_patterns, K562_5_4introns_splicing_patterns])\n",
    "\n",
    "K562_pattern_gene = pd.concat([K562_1_pattern_gene_df,K562_2_pattern_gene_df,K562_3_pattern_gene_df,K562_4_pattern_gene_df,K562_5_pattern_gene_df]).reset_index(drop=True)\n",
    "K562_pattern_gene = K562_pattern_gene[K562_pattern_gene['pattern']!=\"NO_NO_NO_NO\"].reset_index(drop=True)\n",
    "K562_pattern_gene = K562_pattern_gene[K562_pattern_gene['pattern']!=\"YES_YES_YES_YES\"].reset_index(drop=True)\n",
    "K562_gene_N = K562_pattern_gene['gene'].nunique()\n",
    "print(\"K562 # of genes with reads spanning 4 introns: \"+str(K562_gene_N))\n"
   ]
  },
  {
   "cell_type": "code",
   "execution_count": 134,
   "metadata": {},
   "outputs": [],
   "source": [
    "K562_1_introns_1yes, K562_1_introns_2yes, K562_1_introns_3yes = get_intron_splicing_percent(K562_1_4introns_splicing_patterns, 4)\n",
    "K562_2_introns_1yes, K562_2_introns_2yes, K562_2_introns_3yes = get_intron_splicing_percent(K562_2_4introns_splicing_patterns, 4)\n",
    "K562_3_introns_1yes, K562_3_introns_2yes, K562_3_introns_3yes = get_intron_splicing_percent(K562_3_4introns_splicing_patterns, 4)\n",
    "K562_4_introns_1yes, K562_4_introns_2yes, K562_4_introns_3yes = get_intron_splicing_percent(K562_4_4introns_splicing_patterns, 4)\n",
    "K562_5_introns_1yes, K562_5_introns_2yes, K562_5_introns_3yes = get_intron_splicing_percent(K562_5_4introns_splicing_patterns, 4)\n",
    "\n",
    "K562_introns_1yes = pd.concat([K562_1_introns_1yes, K562_2_introns_1yes, K562_3_introns_1yes, K562_4_introns_1yes, K562_5_introns_1yes])\n",
    "K562_introns_2yes = pd.concat([K562_1_introns_2yes, K562_2_introns_2yes, K562_3_introns_2yes, K562_4_introns_2yes, K562_5_introns_2yes])\n",
    "K562_introns_3yes = pd.concat([K562_1_introns_3yes, K562_2_introns_3yes, K562_3_introns_3yes, K562_4_introns_3yes, K562_5_introns_3yes])\n"
   ]
  },
  {
   "cell_type": "code",
   "execution_count": 135,
   "metadata": {},
   "outputs": [
    {
     "name": "stdout",
     "output_type": "stream",
     "text": [
      "K562 # reads spanning 4 introns: 2268\n"
     ]
    }
   ],
   "source": [
    "total_counts = np.sum(K562_introns_1yes['counts'])+np.sum(K562_introns_2yes['counts'])+np.sum(K562_introns_3yes['counts'])\n",
    "print(\"K562 # reads spanning 4 introns: \"+str(total_counts))\n"
   ]
  },
  {
   "cell_type": "code",
   "execution_count": 38,
   "metadata": {},
   "outputs": [
    {
     "data": {
      "image/png": "[encoded data removed]",
      "text/plain": [
       "<matplotlib.figure.Figure at 0x1a10710d10>"
      ]
     },
     "metadata": {},
     "output_type": "display_data"
    }
   ],
   "source": [
    "fig, ax = plt.subplots(figsize=(1.5,3))\n",
    "\n",
    "fill_colors = [sns.color_palette(\"Blues\")[3]]\n",
    "sns.barplot(x=\"percent\", y=\"pattern\", data=K562_introns_1yes, palette=fill_colors,\n",
    "           order=['YES_NO_NO_NO','NO_YES_NO_NO','NO_NO_YES_NO','NO_NO_NO_YES'], ci=68, capsize=0.05, errwidth=1.5)\n",
    "\n",
    "plt.xlim(0,70)\n",
    "\n",
    "plt.xticks([0,25,50], fontsize=14)\n",
    "plt.yticks(fontsize=14)\n",
    "plt.tick_params(axis='both', which='both', labelsize=14, direction='out', left=\"on\", bottom=\"on\", length=5)\n",
    "\n",
    "plt.legend(bbox_to_anchor=(1.1, 1.0), fontsize=14)\n",
    "plt.ylabel(\"splicing status\", fontsize=16)\n",
    "plt.xlabel(\"frequency\", fontsize=16)\n",
    "\n",
    "plt.axvline(x=25, color='black', linestyle=\":\")\n",
    "\n",
    "plt.title(\"Human\\n(one spliced)\", fontsize=16)\n",
    "\n",
    "plt.savefig('/path/to/Figure_6B_K562_splicing_order_4int_oneSpliced.pdf', \n",
    "           format='pdf', dpi=300, bbox_inches='tight')\n",
    "\n",
    "plt.show()\n"
   ]
  },
  {
   "cell_type": "code",
   "execution_count": 136,
   "metadata": {},
   "outputs": [
    {
     "name": "stdout",
     "output_type": "stream",
     "text": [
      "K562 4 introns, 1 spliced, in order p-value: 7.71643105588178e-09\n"
     ]
    }
   ],
   "source": [
    "introns_1yes = K562_introns_1yes.copy()\n",
    "\n",
    "in_order = sum(introns_1yes[(introns_1yes['pattern']=='YES_NO_NO_NO')]['counts'])\n",
    "no_order = sum(introns_1yes[(introns_1yes['pattern']!='YES_NO_NO_NO')]['counts'])\n",
    "\n",
    "p = stats.binom_test([in_order,no_order], n=None, p=0.25)\n",
    "print(\"K562 4 introns, 1 spliced, in order p-value: \"+str(p))\n"
   ]
  },
  {
   "cell_type": "code",
   "execution_count": 137,
   "metadata": {},
   "outputs": [
    {
     "name": "stdout",
     "output_type": "stream",
     "text": [
      "K562 4 introns, 1 spliced YES_NO_NO_NO p-value: 7.71643105588178e-09\n",
      "K562 4 introns, 1 spliced NO_YES_NO_NO p-value: 0.00022683515652971754\n",
      "K562 4 introns, 1 spliced NO_NO_YES_NO p-value: 3.3148526674575326e-07\n",
      "K562 4 introns, 1 spliced NO_NO_NO_YES p-value: 0.011541821267018158\n"
     ]
    }
   ],
   "source": [
    "introns_1yes = K562_introns_1yes.copy()\n",
    "splicing_patterns = ['YES_NO_NO_NO','NO_YES_NO_NO','NO_NO_YES_NO','NO_NO_NO_YES']\n",
    "\n",
    "for i in splicing_patterns:\n",
    "\n",
    "    p = str(stats.binom_test([sum(introns_1yes[(introns_1yes['pattern']==i)]['counts']),sum(introns_1yes[(introns_1yes['pattern']!=i)]['counts'])], n=None, p=0.25))\n",
    "\n",
    "    print(\"K562 4 introns, 1 spliced \"+i+\" p-value: \"+str(p))\n",
    "    "
   ]
  },
  {
   "cell_type": "code",
   "execution_count": null,
   "metadata": {},
   "outputs": [],
   "source": []
  },
  {
   "cell_type": "code",
   "execution_count": 37,
   "metadata": {},
   "outputs": [
    {
     "data": {
      "image/png": "[encoded data removed]",
      "text/plain": [
       "<matplotlib.figure.Figure at 0x1a10975090>"
      ]
     },
     "metadata": {},
     "output_type": "display_data"
    }
   ],
   "source": [
    "fig, ax = plt.subplots(figsize=(1.5,4.5))\n",
    "\n",
    "fill_colors = [sns.color_palette(\"Blues\")[3]]\n",
    "sns.barplot(x=\"percent\", y=\"pattern\", data=K562_introns_2yes, palette=fill_colors,\n",
    "           order=['YES_YES_NO_NO','YES_NO_YES_NO','YES_NO_NO_YES','NO_YES_YES_NO','NO_YES_NO_YES','NO_NO_YES_YES'], ci=68, capsize=0.05, errwidth=1.5)\n",
    "\n",
    "plt.xlim(0,70)\n",
    "\n",
    "plt.xticks([0,25,50], fontsize=14)\n",
    "plt.yticks(fontsize=14)\n",
    "plt.tick_params(axis='both', which='both', labelsize=14, direction='out', left=\"on\", bottom=\"on\", length=5)\n",
    "\n",
    "plt.legend(bbox_to_anchor=(1.1, 1.0), fontsize=14)\n",
    "plt.ylabel(\"splicing status\", fontsize=16)\n",
    "plt.xlabel(\"frequency\", fontsize=16)\n",
    "\n",
    "plt.axvline(x=16.67, color='black', linestyle=\":\")\n",
    "\n",
    "plt.title(\"Human\\n(two spliced)\", fontsize=16)\n",
    "\n",
    "plt.savefig('/path/to/Figure_6B_K562_splicing_order_4int_twoSpliced.pdf', \n",
    "           format='pdf', dpi=300, bbox_inches='tight')\n",
    "\n",
    "plt.show()\n"
   ]
  },
  {
   "cell_type": "code",
   "execution_count": 138,
   "metadata": {},
   "outputs": [
    {
     "name": "stdout",
     "output_type": "stream",
     "text": [
      "K562 4 introns, 2 spliced, in order p-value: 1.4437275038987646e-05\n"
     ]
    }
   ],
   "source": [
    "introns_2yes = K562_introns_2yes.copy()\n",
    "\n",
    "in_order = sum(introns_2yes[(introns_2yes['pattern']=='YES_YES_NO_NO')]['counts'])\n",
    "no_order = sum(introns_2yes[(introns_2yes['pattern']!='YES_YES_NO_NO')]['counts'])\n",
    "\n",
    "p = stats.binom_test([in_order,no_order], n=None, p=0.166666666667)\n",
    "print(\"K562 4 introns, 2 spliced, in order p-value: \"+str(p))\n"
   ]
  },
  {
   "cell_type": "code",
   "execution_count": 139,
   "metadata": {},
   "outputs": [
    {
     "name": "stdout",
     "output_type": "stream",
     "text": [
      "K562 4 introns, 2 spliced YES_YES_NO_NO p-value: 1.4437275038987646e-05\n",
      "K562 4 introns, 2 spliced YES_NO_YES_NO p-value: 3.5567011073562477e-06\n",
      "K562 4 introns, 2 spliced YES_NO_NO_YES p-value: 0.37104769494550427\n",
      "K562 4 introns, 2 spliced NO_YES_YES_NO p-value: 0.002834466876685522\n",
      "K562 4 introns, 2 spliced NO_YES_NO_YES p-value: 0.0002785786985316311\n",
      "K562 4 introns, 2 spliced NO_NO_YES_YES p-value: 6.8786278582669845e-12\n"
     ]
    }
   ],
   "source": [
    "introns_2yes = K562_introns_2yes.copy()\n",
    "splicing_patterns = ['YES_YES_NO_NO','YES_NO_YES_NO','YES_NO_NO_YES','NO_YES_YES_NO','NO_YES_NO_YES','NO_NO_YES_YES']\n",
    "\n",
    "for i in splicing_patterns:\n",
    "\n",
    "    p = str(stats.binom_test([sum(introns_2yes[(introns_2yes['pattern']==i)]['counts']),sum(introns_2yes[(introns_2yes['pattern']!=i)]['counts'])], n=None, p=0.166666666667))\n",
    "\n",
    "    print(\"K562 4 introns, 2 spliced \"+i+\" p-value: \"+str(p))\n",
    "    "
   ]
  },
  {
   "cell_type": "code",
   "execution_count": null,
   "metadata": {},
   "outputs": [],
   "source": []
  },
  {
   "cell_type": "code",
   "execution_count": 36,
   "metadata": {},
   "outputs": [
    {
     "data": {
      "image/png": "[encoded data removed]",
      "text/plain": [
       "<matplotlib.figure.Figure at 0x1a105a7510>"
      ]
     },
     "metadata": {},
     "output_type": "display_data"
    }
   ],
   "source": [
    "fig, ax = plt.subplots(figsize=(1.5,3))\n",
    "\n",
    "fill_colors = [sns.color_palette(\"Blues\")[3]]\n",
    "sns.barplot(x=\"percent\", y=\"pattern\", data=K562_introns_3yes, palette=fill_colors,\n",
    "           order=['YES_YES_YES_NO','YES_YES_NO_YES','YES_NO_YES_YES','NO_YES_YES_YES'], ci=68, capsize=0.05, errwidth=1.5)\n",
    "\n",
    "plt.xlim(0,70)\n",
    "\n",
    "plt.xticks([0,25,50], fontsize=14)\n",
    "plt.yticks(fontsize=14)\n",
    "plt.tick_params(axis='both', which='both', labelsize=14, direction='out', left=\"on\", bottom=\"on\", length=5)\n",
    "\n",
    "plt.legend(bbox_to_anchor=(1.1, 1.0), fontsize=14)\n",
    "plt.ylabel(\"splicing status\", fontsize=16)\n",
    "plt.xlabel(\"frequency\", fontsize=16)\n",
    "\n",
    "plt.axvline(x=25, color='black', linestyle=\":\")\n",
    "\n",
    "plt.title(\"Human\\n(three spliced)\", fontsize=16)\n",
    "\n",
    "plt.savefig('/path/to/Figure_6B_K562_splicing_order_4int_threeSpliced.pdf', \n",
    "           format='pdf', dpi=300, bbox_inches='tight')\n",
    "\n",
    "plt.show()\n"
   ]
  },
  {
   "cell_type": "code",
   "execution_count": 140,
   "metadata": {},
   "outputs": [
    {
     "name": "stdout",
     "output_type": "stream",
     "text": [
      "K562 4 introns, 3 spliced, in order p-value: 0.2409949718809941\n"
     ]
    }
   ],
   "source": [
    "introns_3yes = K562_introns_3yes.copy()\n",
    "\n",
    "in_order = sum(introns_3yes[(introns_3yes['pattern']=='YES_YES_YES_NO')]['counts'])\n",
    "no_order = sum(introns_3yes[(introns_3yes['pattern']!='YES_YES_YES_NO')]['counts'])\n",
    "\n",
    "p = stats.binom_test([in_order,no_order], n=None, p=0.25)\n",
    "print(\"K562 4 introns, 3 spliced, in order p-value: \"+str(p))\n"
   ]
  },
  {
   "cell_type": "code",
   "execution_count": 141,
   "metadata": {},
   "outputs": [
    {
     "name": "stdout",
     "output_type": "stream",
     "text": [
      "K562 4 introns, 3 spliced YES_YES_YES_NO p-value: 0.2409949718809941\n",
      "K562 4 introns, 3 spliced YES_YES_NO_YES p-value: 0.0006809583804768347\n",
      "K562 4 introns, 3 spliced YES_NO_YES_YES p-value: 0.12106896692629468\n",
      "K562 4 introns, 3 spliced NO_YES_YES_YES p-value: 0.00022349458834229738\n"
     ]
    }
   ],
   "source": [
    "introns_3yes = K562_introns_3yes.copy()\n",
    "splicing_patterns = ['YES_YES_YES_NO','YES_YES_NO_YES','YES_NO_YES_YES','NO_YES_YES_YES']\n",
    "\n",
    "for i in splicing_patterns:\n",
    "\n",
    "    p = str(stats.binom_test([sum(introns_3yes[(introns_3yes['pattern']==i)]['counts']),sum(introns_3yes[(introns_3yes['pattern']!=i)]['counts'])], n=None, p=0.25))\n",
    "\n",
    "    print(\"K562 4 introns, 3 spliced \"+i+\" p-value: \"+str(p))\n",
    "    "
   ]
  },
  {
   "cell_type": "code",
   "execution_count": null,
   "metadata": {},
   "outputs": [],
   "source": []
  },
  {
   "cell_type": "code",
   "execution_count": 47,
   "metadata": {},
   "outputs": [
    {
     "name": "stdout",
     "output_type": "stream",
     "text": [
      "K562 4 introns, in order p-value: 1.0006186309828583e-10\n"
     ]
    }
   ],
   "source": [
    "\n",
    "exp_in_order = 1/4*np.sum(K562_introns_1yes['counts'])+1/6*np.sum(K562_introns_2yes['counts'])+1/4*np.sum(K562_introns_3yes['counts'])\n",
    "total = np.sum(K562_introns_1yes['counts'])+np.sum(K562_introns_2yes['counts'])+np.sum(K562_introns_3yes['counts'])\n",
    "\n",
    "K562_exp_in_order_percent = exp_in_order / total\n",
    "\n",
    "\n",
    "in_order = sum(K562_introns_1yes[(K562_introns_1yes['pattern']=='YES_NO_NO_NO')]['counts']) + sum(K562_introns_2yes[(K562_introns_2yes['pattern']=='YES_YES_NO_NO')]['counts']) + sum(K562_introns_3yes[(K562_introns_3yes['pattern']=='YES_YES_YES_NO')]['counts'])\n",
    "no_order = sum(K562_introns_1yes[(K562_introns_1yes['pattern']!='YES_NO_NO_NO')]['counts']) + sum(K562_introns_2yes[(K562_introns_2yes['pattern']!='YES_YES_NO_NO')]['counts']) + sum(K562_introns_3yes[(K562_introns_3yes['pattern']!='YES_YES_YES_NO')]['counts'])\n",
    "\n",
    "p = stats.binom_test([in_order,no_order], n=None, p=K562_exp_in_order_percent)\n",
    "print(\"K562 4 introns, in order p-value: \"+str(p))\n",
    "\n"
   ]
  },
  {
   "cell_type": "code",
   "execution_count": null,
   "metadata": {},
   "outputs": [],
   "source": []
  },
  {
   "cell_type": "code",
   "execution_count": null,
   "metadata": {},
   "outputs": [],
   "source": []
  },
  {
   "cell_type": "code",
   "execution_count": null,
   "metadata": {},
   "outputs": [],
   "source": []
  },
  {
   "cell_type": "code",
   "execution_count": null,
   "metadata": {},
   "outputs": [],
   "source": []
  },
  {
   "cell_type": "code",
   "execution_count": null,
   "metadata": {},
   "outputs": [],
   "source": [
    "### Figure 6C"
   ]
  },
  {
   "cell_type": "code",
   "execution_count": 46,
   "metadata": {},
   "outputs": [],
   "source": [
    "def get_all_multi_introns(read_junctions, intron_min):\n",
    "\n",
    "    multi_introns = []\n",
    "\n",
    "    for read in read_junctions.keys():\n",
    "\n",
    "        # make a set for all intron pairs within a read\n",
    "        # this will avoid duplicate pairs being called due to alternative splicing\n",
    "        uniq_splice_pattern = set()\n",
    "\n",
    "        # loop through all genes that has introns that a read maps to\n",
    "        for gene in read_junctions[read].keys():\n",
    "\n",
    "            # only go through genes that have 2 or more introns\n",
    "            if ((len(read_junctions[read][gene]) >= intron_min) & (len(read_junctions[read][gene]) <= 10)):\n",
    "\n",
    "                # characterize the number of spliced and unspliced introns in the read\n",
    "                splice_status = [row[6] for row in read_junctions[read][gene]]\n",
    "                splice_status_join = '_'.join(splice_status)\n",
    "                status_count = Counter(splice_status)\n",
    "\n",
    "                # only process the file if intron pattern hasn't been seen previously\n",
    "                # for a gene that this read aligns to\n",
    "                if (splice_status_join not in uniq_splice_pattern):\n",
    "                    uniq_splice_pattern.add(splice_status_join)\n",
    "\n",
    "                    spliced_count = status_count['YES']\n",
    "                    unspliced_count = status_count['NO']\n",
    "\n",
    "                    temp = [] \n",
    "\n",
    "                    # build a dataframe of introns in the gene that map to this read\n",
    "                    # and are capable of being sequenced if the read has no splicing\n",
    "                    read_introns_df = pd.DataFrame(read_junctions[read][gene])\n",
    "                    read_introns_df.columns = ['chrom','start','end','intron_count','strand','read_overlap','splice_status']\n",
    "                    read_introns_df = read_introns_df[read_introns_df['read_overlap'] > 0].sort_values('intron_count').reset_index(drop=True)\n",
    "\n",
    "                    dif = (np.max(read_introns_df['intron_count'])-np.min(read_introns_df['intron_count'])+1)\n",
    "                    if (len(read_introns_df)==dif):\n",
    "\n",
    "                        for i in range(len(read_introns_df)):\n",
    "                            intron_count = read_introns_df.iloc[i]['intron_count']\n",
    "                            intron_chrom = str(read_introns_df.iloc[i]['chrom'])\n",
    "                            intron_start = str(read_introns_df.iloc[i]['start'])\n",
    "                            intron_end = str(read_introns_df.iloc[i]['end'])\n",
    "                            intron_strand = read_introns_df.iloc[i]['strand']\n",
    "                            intron_splice = read_introns_df.iloc[i]['splice_status']\n",
    "                            intron_coord = intron_chrom+'_'+intron_start+'_'+intron_end\n",
    "\n",
    "                            temp.append(intron_splice)\n",
    "\n",
    "\n",
    "                        if (intron_strand=='+'):\n",
    "\n",
    "                            final = []\n",
    "                            final.append(read)\n",
    "                            final.append(intron_strand)\n",
    "\n",
    "                            for i in temp:\n",
    "                                final.append(i)\n",
    "\n",
    "                            for i in range(10-len(temp)):\n",
    "                                final.append('_')\n",
    "\n",
    "                            if ((final.count('_')<=7)):\n",
    "                                multi_introns.append(final)\n",
    "\n",
    "\n",
    "                        if (intron_strand=='-'):\n",
    "\n",
    "                            final = []\n",
    "                            final.append(read)\n",
    "                            final.append(intron_strand)\n",
    "\n",
    "                            for i in reversed(temp):\n",
    "                                final.append(i)\n",
    "\n",
    "                            for i in range(10-len(temp)):\n",
    "                                final.append('_') \n",
    "\n",
    "                            if ((final.count('_')<=7)):\n",
    "                                multi_introns.append(final)\n",
    "\n",
    "    multi_introns_df = pd.DataFrame(multi_introns)\n",
    "    multi_introns_df.columns = ['read','strand','int1','int2','int3','int4','int5','int6','int7','int8','int9','int10']\n",
    "    multi_introns_df = multi_introns_df.sort_values(by=['read']).reset_index(drop=True)\n",
    "\n",
    "    return multi_introns_df\n",
    "\n",
    "\n",
    "def get_splicing_patterns(multi_introns_df, total):\n",
    "    \n",
    "    splice_status_list = []\n",
    "    multi_introns_df = multi_introns_df.drop(['read','strand'], 1)\n",
    "\n",
    "    for i in range(0, len(multi_introns_df)):\n",
    "\n",
    "        itrons_per_read = sum(multi_introns_df.iloc[i]!='_')\n",
    "\n",
    "        for j in range(0, itrons_per_read-(total-1)):\n",
    "\n",
    "            splice_status = multi_introns_df.iloc[i][j:j+total].tolist()\n",
    "\n",
    "            if (splice_status.count('YES')>0) & (splice_status.count('NO')>0):\n",
    "                splice_status_list.append(splice_status)\n",
    "\n",
    "    splicing_patterns_df = pd.DataFrame(splice_status_list)\n",
    "    \n",
    "    if (total==3):\n",
    "        splicing_patterns_df.columns = ['intron 1','intron 2','intron 3']\n",
    "\n",
    "    if (total==4):\n",
    "        splicing_patterns_df.columns = ['intron 1','intron 2','intron 3','intron 4']\n",
    "\n",
    "    if (total==5):\n",
    "        splicing_patterns_df.columns = ['intron 1','intron 2','intron 3','intron 4','intron 5']\n",
    "\n",
    "    return splicing_patterns_df\n",
    "\n",
    "\n",
    "def get_intron_quad_order(intron_quads_df):    \n",
    "    \n",
    "    intron_quads_order = []\n",
    "\n",
    "    for i in range(len(intron_quads_df)):\n",
    "        read =  intron_quads_df.iloc[i]['read']\n",
    "        strand = intron_quads_df.iloc[i]['strand']\n",
    "        int1_splice = intron_quads_df.iloc[i]['int1_splice']\n",
    "        int2_splice = intron_quads_df.iloc[i]['int2_splice']\n",
    "        int3_splice = intron_quads_df.iloc[i]['int3_splice']\n",
    "        int4_splice = intron_quads_df.iloc[i]['int4_splice']\n",
    "\n",
    "        if ((int1_splice == int2_splice) & (int1_splice == int3_splice) & (int1_splice == int4_splice)):\n",
    "            continue\n",
    "\n",
    "        else:         \n",
    "            if (strand == \"+\"):\n",
    "                intron_quads_order.append([read, int1_splice, int2_splice, int3_splice, int4_splice])\n",
    "\n",
    "            elif (strand == \"-\"):\n",
    "                intron_quads_order.append([read, int4_splice, int3_splice, int2_splice, int1_splice])\n",
    "\n",
    "    intron_quads_order_df = pd.DataFrame(intron_quads_order)\n",
    "    intron_quads_order_df.columns = ['read','intron 1','intron 2','intron 3', 'intron 4']\n",
    "\n",
    "    intron_quads_plotting_df = intron_quads_order_df.groupby(['intron 1','intron 2','intron 3','intron 4']).size().to_frame('count').reset_index()\n",
    "\n",
    "    return intron_quads_plotting_df\n",
    "\n",
    "\n",
    "def get_df_for_plotting_intron_quads(intron_quads_plotting_df):\n",
    "        \n",
    "    plot_dict = {'intron 1': [0.0, 0.0, 0.0, 0.0], 'intron 2': [0.0, 0.0, 0.0, 0.0], 'intron 3': [0.0, 0.0, 0.0, 0.0], 'intron 4': [0.0, 0.0, 0.0, 0.0]}\n",
    "    plot_df = pd.DataFrame(data=plot_dict)\n",
    "    plot_df.index = ['intron 1','intron 2','intron 3','intron 4']\n",
    "    \n",
    "    df = intron_quads_plotting_df\n",
    "    total = float(np.sum(df['count']))\n",
    "\n",
    "\n",
    "    for i in range(0,len(plot_df.index)):\n",
    "\n",
    "        for j in range(0,i):\n",
    "\n",
    "            row = plot_df.index[i]\n",
    "            column = plot_df.columns[j]\n",
    "\n",
    "            plot_df[row][column] = float(np.sum(df[(df[row]=='NO') & (df[column]=='NO')]['count']))/float(total)\n",
    "        \n",
    "\n",
    "    for i in range(0,len(plot_df.columns)):\n",
    "\n",
    "        for j in range(0,i):\n",
    "\n",
    "            column = plot_df.columns[i]\n",
    "            row = plot_df.index[j]\n",
    "\n",
    "            plot_df[row][column] = float(np.sum(df[(df[row]=='YES') & (df[column]=='YES')]['count']))/float(total)\n",
    "    \n",
    "   \n",
    "    return plot_df\n",
    "\n",
    "\n",
    "def get_df_for_plotting_intron_quads_combined(intron_quads_plotting_df):\n",
    "        \n",
    "    plot_dict = {'intron 1': [0.0, 0.0, 0.0, 0.0], 'intron 2': [0.0, 0.0, 0.0, 0.0], 'intron 3': [0.0, 0.0, 0.0, 0.0], 'intron 4': [0.0, 0.0, 0.0, 0.0]}\n",
    "    plot_df = pd.DataFrame(data=plot_dict)\n",
    "    plot_df.index = ['intron 1','intron 2','intron 3','intron 4']\n",
    "    \n",
    "    df = intron_quads_plotting_df\n",
    "    total = float(np.sum(df['count']))\n",
    "\n",
    "\n",
    "    for i in range(0,len(plot_df.columns)):\n",
    "\n",
    "        for j in range(0,i):\n",
    "\n",
    "            column = plot_df.columns[i]\n",
    "            row = plot_df.index[j]\n",
    "\n",
    "            plot_df[row][column] = float(np.sum(df[df[row]==df[column]]['count']))/float(total)\n",
    "    \n",
    "    \n",
    "    return plot_df\n",
    "    "
   ]
  },
  {
   "cell_type": "code",
   "execution_count": null,
   "metadata": {},
   "outputs": [],
   "source": []
  },
  {
   "cell_type": "code",
   "execution_count": 54,
   "metadata": {},
   "outputs": [],
   "source": [
    "# get multi intron df for K562\n",
    "K562_1_all_multi_introns_df = get_all_multi_introns(K562_1_splice_dictionary, 3)\n",
    "K562_2_all_multi_introns_df = get_all_multi_introns(K562_2_splice_dictionary, 3)\n",
    "K562_3_all_multi_introns_df = get_all_multi_introns(K562_3_splice_dictionary, 3)\n",
    "K562_4_all_multi_introns_df = get_all_multi_introns(K562_4_splice_dictionary, 3)\n",
    "K562_5a_all_multi_introns_df = get_all_multi_introns(K562_5a_splice_dictionary, 3)\n",
    "K562_5b_all_multi_introns_df = get_all_multi_introns(K562_5b_splice_dictionary, 3)\n",
    "K562_all_multi_introns_df = pd.concat([K562_1_all_multi_introns_df,K562_2_all_multi_introns_df,K562_3_all_multi_introns_df,K562_4_all_multi_introns_df,K562_5a_all_multi_introns_df,K562_5b_all_multi_introns_df],axis=0).reset_index(drop=True)\n"
   ]
  },
  {
   "cell_type": "code",
   "execution_count": 55,
   "metadata": {},
   "outputs": [],
   "source": [
    "K562_4introns_splicing = get_splicing_patterns(K562_all_multi_introns_df, 4)"
   ]
  },
  {
   "cell_type": "code",
   "execution_count": 56,
   "metadata": {},
   "outputs": [],
   "source": [
    "K562_4intron_quad_order = K562_4introns_splicing.groupby(['intron 1','intron 2','intron 3','intron 4']).size().to_frame('count').reset_index()\n"
   ]
  },
  {
   "cell_type": "code",
   "execution_count": null,
   "metadata": {},
   "outputs": [],
   "source": []
  },
  {
   "cell_type": "code",
   "execution_count": 60,
   "metadata": {},
   "outputs": [],
   "source": [
    "K562_4intron_combined_plot_df = get_df_for_plotting_intron_quads_combined(K562_4intron_quad_order)"
   ]
  },
  {
   "cell_type": "code",
   "execution_count": 61,
   "metadata": {},
   "outputs": [
    {
     "data": {
      "text/html": [
       "<div>\n",
       "<style scoped>\n",
       "    .dataframe tbody tr th:only-of-type {\n",
       "        vertical-align: middle;\n",
       "    }\n",
       "\n",
       "    .dataframe tbody tr th {\n",
       "        vertical-align: top;\n",
       "    }\n",
       "\n",
       "    .dataframe thead th {\n",
       "        text-align: right;\n",
       "    }\n",
       "</style>\n",
       "<table border=\"1\" class=\"dataframe\">\n",
       "  <thead>\n",
       "    <tr style=\"text-align: right;\">\n",
       "      <th></th>\n",
       "      <th>intron 1</th>\n",
       "      <th>intron 2</th>\n",
       "      <th>intron 3</th>\n",
       "      <th>intron 4</th>\n",
       "    </tr>\n",
       "  </thead>\n",
       "  <tbody>\n",
       "    <tr>\n",
       "      <th>intron 1</th>\n",
       "      <td>0.000000</td>\n",
       "      <td>0.000000</td>\n",
       "      <td>0.000000</td>\n",
       "      <td>0.0</td>\n",
       "    </tr>\n",
       "    <tr>\n",
       "      <th>intron 2</th>\n",
       "      <td>0.474868</td>\n",
       "      <td>0.000000</td>\n",
       "      <td>0.000000</td>\n",
       "      <td>0.0</td>\n",
       "    </tr>\n",
       "    <tr>\n",
       "      <th>intron 3</th>\n",
       "      <td>0.403439</td>\n",
       "      <td>0.500882</td>\n",
       "      <td>0.000000</td>\n",
       "      <td>0.0</td>\n",
       "    </tr>\n",
       "    <tr>\n",
       "      <th>intron 4</th>\n",
       "      <td>0.357584</td>\n",
       "      <td>0.418871</td>\n",
       "      <td>0.522928</td>\n",
       "      <td>0.0</td>\n",
       "    </tr>\n",
       "  </tbody>\n",
       "</table>\n",
       "</div>"
      ],
      "text/plain": [
       "          intron 1  intron 2  intron 3  intron 4\n",
       "intron 1  0.000000  0.000000  0.000000       0.0\n",
       "intron 2  0.474868  0.000000  0.000000       0.0\n",
       "intron 3  0.403439  0.500882  0.000000       0.0\n",
       "intron 4  0.357584  0.418871  0.522928       0.0"
      ]
     },
     "execution_count": 61,
     "metadata": {},
     "output_type": "execute_result"
    }
   ],
   "source": [
    "K562_4intron_combined_plot_df"
   ]
  },
  {
   "cell_type": "code",
   "execution_count": 62,
   "metadata": {},
   "outputs": [
    {
     "data": {
      "image/png": "[encoded data removed]",
      "text/plain": [
       "<matplotlib.figure.Figure at 0x1a18c3f350>"
      ]
     },
     "metadata": {},
     "output_type": "display_data"
    }
   ],
   "source": [
    "fig, ax = plt.subplots(figsize=(6,5))\n",
    "\n",
    "sns.heatmap(K562_4intron_combined_plot_df, annot=True, center=0.6, annot_kws={\"size\": 16}, fmt='.0%')\n",
    "\n",
    "plt.tick_params(axis='both', labelsize=16)\n",
    "plt.title(\"K562\", fontsize=18, y=1.04)\n",
    "plt.yticks(rotation=0)\n",
    "\n",
    "plt.savefig('/path/to/Figure_6C_K562_4int_splicing_order_combined_heatmap.pdf', \n",
    "           format='pdf', dpi=300, bbox_inches='tight')\n",
    "\n",
    "plt.show()"
   ]
  },
  {
   "cell_type": "code",
   "execution_count": null,
   "metadata": {},
   "outputs": [],
   "source": []
  },
  {
   "cell_type": "code",
   "execution_count": null,
   "metadata": {},
   "outputs": [],
   "source": []
  }
 ],
 "metadata": {
  "kernelspec": {
   "display_name": "Python 3",
   "language": "python",
   "name": "python3"
  },
  "language_info": {
   "codemirror_mode": {
    "name": "ipython",
    "version": 3
   },
   "file_extension": ".py",
   "mimetype": "text/x-python",
   "name": "python",
   "nbconvert_exporter": "python",
   "pygments_lexer": "ipython3",
   "version": "3.6.5"
  }
 },
 "nbformat": 4,
 "nbformat_minor": 2
}
