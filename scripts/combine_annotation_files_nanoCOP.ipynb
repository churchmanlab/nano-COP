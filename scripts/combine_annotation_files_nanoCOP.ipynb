{
 "cells": [
  {
   "cell_type": "code",
   "execution_count": null,
   "metadata": {},
   "outputs": [],
   "source": [
    "\"\"\"\n",
    "\n",
    "This script will make a BED file that has information about all features (introns, exons, genes) that will\n",
    "be used to intersect against a dataset to gather information about feature coverage, splicing, etc.\n",
    "\n",
    "\"\"\""
   ]
  },
  {
   "cell_type": "code",
   "execution_count": 2,
   "metadata": {
    "collapsed": true
   },
   "outputs": [],
   "source": [
    "import sys, pysam, os, numpy, re"
   ]
  },
  {
   "cell_type": "markdown",
   "metadata": {},
   "source": [
    "**First, follow these steps to download the necessary BED files from the UCSC Table Browser:**\n",
    "\n",
    "i) Go to the UCSC Table Browser (https://genome.ucsc.edu/cgi-bin/hgTables), select the genome and assembly of interest. From the Group menu, select “Genes and Gene Predictions” and select the track (i.e. NCBI RefSeq) and table (i.e. RefSeq All) of interest. Select BED as the output format and click “get output”.\n",
    "\n",
    "ii)Under “create one BED record per:”, select “genes plus 0 bases at each end” and click the “get BED” button.\n",
    "\n",
    "iii) Repeat steps i) and ii), but selecting “introns plus 0 bases at each end” and “exons plus 0 bases at each end” at step ii).\n",
    "\n",
    "iv) Parse the BED files to remove \"chr\" to be consistent with BAM files and to remove non-standard chromosomes and keep only protein-coding genes. For each BED file (genes/introns/exons), run the following command in the terminal: \n",
    "\"sed -e 's/chr//g' <genes/introns/exons>.bed | grep -v random | grep -v Un | grep -v alt | grep NM_ | sort -k1,1 -k2,2n > <genes/introns/exons>_parsed.bed\"\n",
    "\n",
    "v) Follow the steps below to remove duplicate features and combine genes, introns and exons into one file.\n"
   ]
  },
  {
   "cell_type": "code",
   "execution_count": 45,
   "metadata": {
    "collapsed": true
   },
   "outputs": [],
   "source": [
    "# import files \n",
    "iRefSeq_genes = open(\"/path/to/annotation_files/NCBI_RefSeq_hg38_genes_parsed.bed\", 'r')\n",
    "iRefSeq_exons = open(\"/path/to/annotation_files/NCBI_RefSeq_hg38_exons_parsed.bed\", 'r')\n",
    "iRefSeq_introns = open(\"/path/to/annotation_files/NCBI_RefSeq_hg38_introns_parsed.bed\", 'r')"
   ]
  },
  {
   "cell_type": "code",
   "execution_count": 3,
   "metadata": {
    "collapsed": true
   },
   "outputs": [],
   "source": [
    "# merge RefSeq gene, exon, and intron datasets into 1 searchable file\n",
    "\n",
    "# make output files for each dataset\n",
    "iGenes = open(\"/path/to/annotation_files/NCBI_RefSeq_hg38_genes_parsed.bed\", 'r')\n",
    "iExons = open(\"/path/to/annotation_files/NCBI_RefSeq_hg38_exons_parsed.bed\", 'r')\n",
    "iIntrons = open(\"/path/to/annotation_files/NCBI_RefSeq_hg38_introns_parsed.bed\", 'r')\n",
    "oMerge = open(\"/path/to/annotation_files/NCBI_RefSeq_hg38_merge_parsed.bed\", 'w')\n",
    "\n",
    "# go through every line of gene file and collect information\n",
    "for line in iGenes:\n",
    "    chrom = line.split('\\t')[0]                 # chromosome\n",
    "    start = line.split('\\t')[1]                 # start coordinate of intron (last base of exon)\n",
    "    end = line.split('\\t')[2]                   # end coordinate of intron (last base of intron)\n",
    "    strand = line.split('\\t')[5][0]             # strand of gene with intron\n",
    "    gene = line.split('\\t')[3]                  # gene name\n",
    "    feature = \"gene\"                            # feature description\n",
    "    \n",
    "    oMerge.write(str(chrom)+'\\t'+str(start)+'\\t'+str(end)+'\\t'+str(gene)+'\\t'+str(feature)+'\\t'+str(strand)+'\\n')\n",
    "    \n",
    "# go through every line of exon file and collect information\n",
    "for line in iExons:\n",
    "    chrom = line.split('\\t')[0]                         # chromosome\n",
    "    start = line.split('\\t')[1]                         # start coordinate of intron (last base of exon)\n",
    "    end = line.split('\\t')[2]                           # end coordinate of intron (last base of intron)\n",
    "    strand = line.split('\\t')[5][0]                     # strand of gene with intron\n",
    "    gene = line.split('\\t')[3].split('_')[1]            # gene name\n",
    "    feature = line.split('\\t')[3].split('_')[2]         # feature description\n",
    "    number = int(line.split('\\t')[3].split('_')[3])+1   # feature number\n",
    "    \n",
    "    oMerge.write(str(chrom)+'\\t'+str(start)+'\\t'+str(end)+'\\tNM_'+str(gene)+'\\t'+str(feature)+'_'+str(number)+'\\t'+str(strand)+'\\n')\n",
    "\n",
    "# go through every line of introns file and collect information\n",
    "for line in iIntrons:\n",
    "    chrom = line.split('\\t')[0]                         # chromosome\n",
    "    start = line.split('\\t')[1]                         # start coordinate of intron (last base of exon)\n",
    "    end = line.split('\\t')[2]                           # end coordinate of intron (last base of intron)\n",
    "    strand = line.split('\\t')[5][0]                     # strand of gene with intron\n",
    "    gene = line.split('\\t')[3].split('_')[1]            # gene name\n",
    "    feature = line.split('\\t')[3].split('_')[2]         # feature description\n",
    "    number = int(line.split('\\t')[3].split('_')[3])+1   # feature number\n",
    "    \n",
    "    oMerge.write(str(chrom)+'\\t'+str(start)+'\\t'+str(end)+'\\tNM_'+str(gene)+'\\t'+str(feature)+'_'+str(number)+'\\t'+str(strand)+'\\n')\n"
   ]
  },
  {
   "cell_type": "code",
   "execution_count": null,
   "metadata": {
    "collapsed": true
   },
   "outputs": [],
   "source": []
  }
 ],
 "metadata": {
  "kernelspec": {
   "display_name": "Python 3",
   "language": "python",
   "name": "python3"
  },
  "language_info": {
   "codemirror_mode": {
    "name": "ipython",
    "version": 3
   },
   "file_extension": ".py",
   "mimetype": "text/x-python",
   "name": "python",
   "nbconvert_exporter": "python",
   "pygments_lexer": "ipython3",
   "version": "3.7.6"
  }
 },
 "nbformat": 4,
 "nbformat_minor": 2
}
